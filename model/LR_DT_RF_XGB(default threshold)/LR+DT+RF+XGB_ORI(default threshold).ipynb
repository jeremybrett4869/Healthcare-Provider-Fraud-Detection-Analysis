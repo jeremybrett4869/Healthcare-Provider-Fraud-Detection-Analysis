{
 "cells": [
  {
   "cell_type": "code",
   "execution_count": 9,
   "metadata": {},
   "outputs": [],
   "source": [
    "import warnings\n",
    "warnings.filterwarnings(\"ignore\")"
   ]
  },
  {
   "cell_type": "code",
   "execution_count": 10,
   "metadata": {},
   "outputs": [],
   "source": [
    "import pandas as pd\n",
    "import numpy as np\n",
    "import matplotlib.pyplot as plt"
   ]
  },
  {
   "cell_type": "code",
   "execution_count": 11,
   "metadata": {},
   "outputs": [],
   "source": [
    "train_x = pd.read_csv('../../data/x_train_ori.csv')\n",
    "train_y = pd.read_csv('../../data/y_train_ori.csv')\n",
    "valid_x = pd.read_csv('../../data/x_valid_ori.csv')\n",
    "valid_y = pd.read_csv('../../data/y_valid_ori.csv')\n",
    "test_x = pd.read_csv('../../data/x_test_ori.csv')\n",
    "test_y = pd.read_csv('../../data/y_test_ori.csv')"
   ]
  },
  {
   "cell_type": "code",
   "execution_count": 12,
   "metadata": {},
   "outputs": [],
   "source": [
    "random_seed=1"
   ]
  },
  {
   "cell_type": "code",
   "execution_count": 13,
   "metadata": {},
   "outputs": [
    {
     "name": "stdout",
     "output_type": "stream",
     "text": [
      "[('PotentialFraud', 1)]\n"
     ]
    }
   ],
   "source": [
    "from imblearn.over_sampling import SMOTE\n",
    "X_resampled, y_resampled = SMOTE().fit_resample(train_x, train_y)\n",
    "\n",
    "from collections import Counter\n",
    "print(sorted(Counter(y_resampled).items()))"
   ]
  },
  {
   "cell_type": "code",
   "execution_count": 14,
   "metadata": {},
   "outputs": [],
   "source": [
    "train_array_x = X_resampled.to_numpy()\n",
    "train_array_y = y_resampled.to_numpy()\n",
    "valid_array_x = valid_x.to_numpy()\n",
    "valid_array_y = valid_y.to_numpy()\n",
    "array_x = np.concatenate([train_array_x,valid_array_x],axis=0)\n",
    "array_y = np.concatenate([train_array_y,valid_array_y],axis=0)\n",
    "test_fold = np.concatenate([np.array(train_array_x.shape[0]*[-1,]),np.array(valid_array_x.shape[0]*[0,])],axis=0)"
   ]
  },
  {
   "cell_type": "code",
   "execution_count": 15,
   "metadata": {},
   "outputs": [],
   "source": [
    "from sklearn.model_selection import PredefinedSplit"
   ]
  },
  {
   "cell_type": "code",
   "execution_count": 16,
   "metadata": {},
   "outputs": [],
   "source": [
    "ps = PredefinedSplit(test_fold=test_fold)"
   ]
  },
  {
   "cell_type": "markdown",
   "metadata": {},
   "source": [
    "# Decision Tree"
   ]
  },
  {
   "cell_type": "code",
   "execution_count": 17,
   "metadata": {},
   "outputs": [],
   "source": [
    "from sklearn.tree import DecisionTreeClassifier,plot_tree"
   ]
  },
  {
   "cell_type": "code",
   "execution_count": 18,
   "metadata": {},
   "outputs": [],
   "source": [
    "from sklearn.metrics import precision_score,recall_score,ConfusionMatrixDisplay,confusion_matrix,f1_score"
   ]
  },
  {
   "cell_type": "code",
   "execution_count": 19,
   "metadata": {},
   "outputs": [],
   "source": [
    "from sklearn.model_selection import GridSearchCV"
   ]
  },
  {
   "cell_type": "markdown",
   "metadata": {},
   "source": [
    "## Selection Based on F1 Scores"
   ]
  },
  {
   "cell_type": "code",
   "execution_count": 20,
   "metadata": {},
   "outputs": [
    {
     "name": "stdout",
     "output_type": "stream",
     "text": [
      "Fitting 1 folds for each of 96 candidates, totalling 96 fits\n",
      "[CV 1/1] END max_depth=3, max_features=None, min_samples_leaf=2; accuracy: (test=0.741) f1: (test=0.314) precision: (test=0.195) recall: (test=0.800) total time=   0.1s\n",
      "[CV 1/1] END max_depth=3, max_features=None, min_samples_leaf=6; accuracy: (test=0.741) f1: (test=0.314) precision: (test=0.195) recall: (test=0.800) total time=   0.1s\n",
      "[CV 1/1] END max_depth=3, max_features=None, min_samples_leaf=10; accuracy: (test=0.741) f1: (test=0.314) precision: (test=0.195) recall: (test=0.800) total time=   0.1s\n",
      "[CV 1/1] END max_depth=3, max_features=None, min_samples_leaf=20; accuracy: (test=0.741) f1: (test=0.314) precision: (test=0.195) recall: (test=0.800) total time=   0.1s\n",
      "[CV 1/1] END max_depth=3, max_features=sqrt, min_samples_leaf=2; accuracy: (test=0.852) f1: (test=0.310) precision: (test=0.237) recall: (test=0.450) total time=   0.0s\n",
      "[CV 1/1] END max_depth=3, max_features=sqrt, min_samples_leaf=6; accuracy: (test=0.852) f1: (test=0.310) precision: (test=0.237) recall: (test=0.450) total time=   0.0s\n",
      "[CV 1/1] END max_depth=3, max_features=sqrt, min_samples_leaf=10; accuracy: (test=0.852) f1: (test=0.310) precision: (test=0.237) recall: (test=0.450) total time=   0.0s\n",
      "[CV 1/1] END max_depth=3, max_features=sqrt, min_samples_leaf=20; accuracy: (test=0.852) f1: (test=0.310) precision: (test=0.237) recall: (test=0.450) total time=   0.0s\n",
      "[CV 1/1] END max_depth=3, max_features=log2, min_samples_leaf=2; accuracy: (test=0.736) f1: (test=0.316) precision: (test=0.195) recall: (test=0.825) total time=   0.0s\n",
      "[CV 1/1] END max_depth=3, max_features=log2, min_samples_leaf=6; accuracy: (test=0.736) f1: (test=0.316) precision: (test=0.195) recall: (test=0.825) total time=   0.0s\n",
      "[CV 1/1] END max_depth=3, max_features=log2, min_samples_leaf=10; accuracy: (test=0.736) f1: (test=0.316) precision: (test=0.195) recall: (test=0.825) total time=   0.0s\n",
      "[CV 1/1] END max_depth=3, max_features=log2, min_samples_leaf=20; accuracy: (test=0.736) f1: (test=0.316) precision: (test=0.195) recall: (test=0.825) total time=   0.0s\n",
      "[CV 1/1] END max_depth=3, max_features=5, min_samples_leaf=2; accuracy: (test=0.852) f1: (test=0.310) precision: (test=0.237) recall: (test=0.450) total time=   0.0s\n",
      "[CV 1/1] END max_depth=3, max_features=5, min_samples_leaf=6; accuracy: (test=0.852) f1: (test=0.310) precision: (test=0.237) recall: (test=0.450) total time=   0.0s\n",
      "[CV 1/1] END max_depth=3, max_features=5, min_samples_leaf=10; accuracy: (test=0.852) f1: (test=0.310) precision: (test=0.237) recall: (test=0.450) total time=   0.0s\n",
      "[CV 1/1] END max_depth=3, max_features=5, min_samples_leaf=20; accuracy: (test=0.852) f1: (test=0.310) precision: (test=0.237) recall: (test=0.450) total time=   0.0s\n",
      "[CV 1/1] END max_depth=3, max_features=10, min_samples_leaf=2; accuracy: (test=0.800) f1: (test=0.365) precision: (test=0.238) recall: (test=0.775) total time=   0.0s\n",
      "[CV 1/1] END max_depth=3, max_features=10, min_samples_leaf=6; accuracy: (test=0.800) f1: (test=0.365) precision: (test=0.238) recall: (test=0.775) total time=   0.0s\n",
      "[CV 1/1] END max_depth=3, max_features=10, min_samples_leaf=10; accuracy: (test=0.800) f1: (test=0.365) precision: (test=0.238) recall: (test=0.775) total time=   0.0s\n",
      "[CV 1/1] END max_depth=3, max_features=10, min_samples_leaf=20; accuracy: (test=0.800) f1: (test=0.365) precision: (test=0.238) recall: (test=0.775) total time=   0.0s\n",
      "[CV 1/1] END max_depth=3, max_features=20, min_samples_leaf=2; accuracy: (test=0.758) f1: (test=0.321) precision: (test=0.203) recall: (test=0.775) total time=   0.0s\n",
      "[CV 1/1] END max_depth=3, max_features=20, min_samples_leaf=6; accuracy: (test=0.758) f1: (test=0.321) precision: (test=0.203) recall: (test=0.775) total time=   0.0s\n",
      "[CV 1/1] END max_depth=3, max_features=20, min_samples_leaf=10; accuracy: (test=0.758) f1: (test=0.321) precision: (test=0.203) recall: (test=0.775) total time=   0.0s\n",
      "[CV 1/1] END max_depth=3, max_features=20, min_samples_leaf=20; accuracy: (test=0.758) f1: (test=0.321) precision: (test=0.203) recall: (test=0.775) total time=   0.0s\n",
      "[CV 1/1] END max_depth=10, max_features=None, min_samples_leaf=2; accuracy: (test=0.863) f1: (test=0.413) precision: (test=0.302) recall: (test=0.650) total time=   0.1s\n",
      "[CV 1/1] END max_depth=10, max_features=None, min_samples_leaf=6; accuracy: (test=0.856) f1: (test=0.381) precision: (test=0.279) recall: (test=0.600) total time=   0.1s\n",
      "[CV 1/1] END max_depth=10, max_features=None, min_samples_leaf=10; accuracy: (test=0.874) f1: (test=0.404) precision: (test=0.311) recall: (test=0.575) total time=   0.1s\n",
      "[CV 1/1] END max_depth=10, max_features=None, min_samples_leaf=20; accuracy: (test=0.858) f1: (test=0.353) precision: (test=0.266) recall: (test=0.525) total time=   0.1s\n",
      "[CV 1/1] END max_depth=10, max_features=sqrt, min_samples_leaf=2; accuracy: (test=0.847) f1: (test=0.394) precision: (test=0.278) recall: (test=0.675) total time=   0.0s\n",
      "[CV 1/1] END max_depth=10, max_features=sqrt, min_samples_leaf=6; accuracy: (test=0.847) f1: (test=0.366) precision: (test=0.264) recall: (test=0.600) total time=   0.0s\n",
      "[CV 1/1] END max_depth=10, max_features=sqrt, min_samples_leaf=10; accuracy: (test=0.860) f1: (test=0.387) precision: (test=0.286) recall: (test=0.600) total time=   0.0s\n",
      "[CV 1/1] END max_depth=10, max_features=sqrt, min_samples_leaf=20; accuracy: (test=0.860) f1: (test=0.367) precision: (test=0.275) recall: (test=0.550) total time=   0.0s\n",
      "[CV 1/1] END max_depth=10, max_features=log2, min_samples_leaf=2; accuracy: (test=0.850) f1: (test=0.400) precision: (test=0.284) recall: (test=0.675) total time=   0.0s\n",
      "[CV 1/1] END max_depth=10, max_features=log2, min_samples_leaf=6; accuracy: (test=0.828) f1: (test=0.340) precision: (test=0.238) recall: (test=0.600) total time=   0.0s\n",
      "[CV 1/1] END max_depth=10, max_features=log2, min_samples_leaf=10; accuracy: (test=0.823) f1: (test=0.351) precision: (test=0.241) recall: (test=0.650) total time=   0.0s\n",
      "[CV 1/1] END max_depth=10, max_features=log2, min_samples_leaf=20; accuracy: (test=0.819) f1: (test=0.338) precision: (test=0.231) recall: (test=0.625) total time=   0.0s\n",
      "[CV 1/1] END max_depth=10, max_features=5, min_samples_leaf=2; accuracy: (test=0.847) f1: (test=0.394) precision: (test=0.278) recall: (test=0.675) total time=   0.0s\n",
      "[CV 1/1] END max_depth=10, max_features=5, min_samples_leaf=6; accuracy: (test=0.847) f1: (test=0.366) precision: (test=0.264) recall: (test=0.600) total time=   0.0s\n",
      "[CV 1/1] END max_depth=10, max_features=5, min_samples_leaf=10; accuracy: (test=0.860) f1: (test=0.387) precision: (test=0.286) recall: (test=0.600) total time=   0.0s\n",
      "[CV 1/1] END max_depth=10, max_features=5, min_samples_leaf=20; accuracy: (test=0.860) f1: (test=0.367) precision: (test=0.275) recall: (test=0.550) total time=   0.0s\n",
      "[CV 1/1] END max_depth=10, max_features=10, min_samples_leaf=2; accuracy: (test=0.854) f1: (test=0.368) precision: (test=0.271) recall: (test=0.575) total time=   0.1s\n",
      "[CV 1/1] END max_depth=10, max_features=10, min_samples_leaf=6; accuracy: (test=0.860) f1: (test=0.397) precision: (test=0.291) recall: (test=0.625) total time=   0.1s\n",
      "[CV 1/1] END max_depth=10, max_features=10, min_samples_leaf=10; accuracy: (test=0.865) f1: (test=0.365) precision: (test=0.280) recall: (test=0.525) total time=   0.1s\n",
      "[CV 1/1] END max_depth=10, max_features=10, min_samples_leaf=20; accuracy: (test=0.848) f1: (test=0.359) precision: (test=0.261) recall: (test=0.575) total time=   0.0s\n",
      "[CV 1/1] END max_depth=10, max_features=20, min_samples_leaf=2; accuracy: (test=0.837) f1: (test=0.371) precision: (test=0.260) recall: (test=0.650) total time=   0.1s\n",
      "[CV 1/1] END max_depth=10, max_features=20, min_samples_leaf=6; accuracy: (test=0.861) f1: (test=0.370) precision: (test=0.278) recall: (test=0.550) total time=   0.1s\n",
      "[CV 1/1] END max_depth=10, max_features=20, min_samples_leaf=10; accuracy: (test=0.865) f1: (test=0.387) precision: (test=0.291) recall: (test=0.575) total time=   0.1s\n",
      "[CV 1/1] END max_depth=10, max_features=20, min_samples_leaf=20; accuracy: (test=0.841) f1: (test=0.348) precision: (test=0.250) recall: (test=0.575) total time=   0.1s\n",
      "[CV 1/1] END max_depth=20, max_features=None, min_samples_leaf=2; accuracy: (test=0.865) f1: (test=0.342) precision: (test=0.268) recall: (test=0.475) total time=   0.2s\n",
      "[CV 1/1] END max_depth=20, max_features=None, min_samples_leaf=6; accuracy: (test=0.858) f1: (test=0.353) precision: (test=0.266) recall: (test=0.525) total time=   0.2s\n"
     ]
    },
    {
     "name": "stdout",
     "output_type": "stream",
     "text": [
      "[CV 1/1] END max_depth=20, max_features=None, min_samples_leaf=10; accuracy: (test=0.872) f1: (test=0.378) precision: (test=0.296) recall: (test=0.525) total time=   0.2s\n",
      "[CV 1/1] END max_depth=20, max_features=None, min_samples_leaf=20; accuracy: (test=0.858) f1: (test=0.353) precision: (test=0.266) recall: (test=0.525) total time=   0.1s\n",
      "[CV 1/1] END max_depth=20, max_features=sqrt, min_samples_leaf=2; accuracy: (test=0.884) f1: (test=0.400) precision: (test=0.323) recall: (test=0.525) total time=   0.0s\n",
      "[CV 1/1] END max_depth=20, max_features=sqrt, min_samples_leaf=6; accuracy: (test=0.865) f1: (test=0.397) precision: (test=0.296) recall: (test=0.600) total time=   0.0s\n",
      "[CV 1/1] END max_depth=20, max_features=sqrt, min_samples_leaf=10; accuracy: (test=0.871) f1: (test=0.375) precision: (test=0.292) recall: (test=0.525) total time=   0.0s\n",
      "[CV 1/1] END max_depth=20, max_features=sqrt, min_samples_leaf=20; accuracy: (test=0.845) f1: (test=0.333) precision: (test=0.244) recall: (test=0.525) total time=   0.0s\n",
      "[CV 1/1] END max_depth=20, max_features=log2, min_samples_leaf=2; accuracy: (test=0.880) f1: (test=0.369) precision: (test=0.302) recall: (test=0.475) total time=   0.0s\n",
      "[CV 1/1] END max_depth=20, max_features=log2, min_samples_leaf=6; accuracy: (test=0.876) f1: (test=0.427) precision: (test=0.325) recall: (test=0.625) total time=   0.0s\n",
      "[CV 1/1] END max_depth=20, max_features=log2, min_samples_leaf=10; accuracy: (test=0.848) f1: (test=0.379) precision: (test=0.272) recall: (test=0.625) total time=   0.0s\n",
      "[CV 1/1] END max_depth=20, max_features=log2, min_samples_leaf=20; accuracy: (test=0.835) f1: (test=0.310) precision: (test=0.225) recall: (test=0.500) total time=   0.0s\n",
      "[CV 1/1] END max_depth=20, max_features=5, min_samples_leaf=2; accuracy: (test=0.884) f1: (test=0.400) precision: (test=0.323) recall: (test=0.525) total time=   0.0s\n",
      "[CV 1/1] END max_depth=20, max_features=5, min_samples_leaf=6; accuracy: (test=0.865) f1: (test=0.397) precision: (test=0.296) recall: (test=0.600) total time=   0.0s\n",
      "[CV 1/1] END max_depth=20, max_features=5, min_samples_leaf=10; accuracy: (test=0.871) f1: (test=0.375) precision: (test=0.292) recall: (test=0.525) total time=   0.0s\n",
      "[CV 1/1] END max_depth=20, max_features=5, min_samples_leaf=20; accuracy: (test=0.845) f1: (test=0.333) precision: (test=0.244) recall: (test=0.525) total time=   0.0s\n",
      "[CV 1/1] END max_depth=20, max_features=10, min_samples_leaf=2; accuracy: (test=0.878) f1: (test=0.389) precision: (test=0.309) recall: (test=0.525) total time=   0.1s\n",
      "[CV 1/1] END max_depth=20, max_features=10, min_samples_leaf=6; accuracy: (test=0.854) f1: (test=0.313) precision: (test=0.240) recall: (test=0.450) total time=   0.1s\n",
      "[CV 1/1] END max_depth=20, max_features=10, min_samples_leaf=10; accuracy: (test=0.861) f1: (test=0.390) precision: (test=0.289) recall: (test=0.600) total time=   0.1s\n",
      "[CV 1/1] END max_depth=20, max_features=10, min_samples_leaf=20; accuracy: (test=0.860) f1: (test=0.387) precision: (test=0.286) recall: (test=0.600) total time=   0.1s\n",
      "[CV 1/1] END max_depth=20, max_features=20, min_samples_leaf=2; accuracy: (test=0.871) f1: (test=0.364) precision: (test=0.286) recall: (test=0.500) total time=   0.1s\n",
      "[CV 1/1] END max_depth=20, max_features=20, min_samples_leaf=6; accuracy: (test=0.858) f1: (test=0.374) precision: (test=0.277) recall: (test=0.575) total time=   0.1s\n",
      "[CV 1/1] END max_depth=20, max_features=20, min_samples_leaf=10; accuracy: (test=0.830) f1: (test=0.324) precision: (test=0.229) recall: (test=0.550) total time=   0.2s\n",
      "[CV 1/1] END max_depth=20, max_features=20, min_samples_leaf=20; accuracy: (test=0.821) f1: (test=0.331) precision: (test=0.229) recall: (test=0.600) total time=   0.1s\n",
      "[CV 1/1] END max_depth=50, max_features=None, min_samples_leaf=2; accuracy: (test=0.871) f1: (test=0.340) precision: (test=0.273) recall: (test=0.450) total time=   0.2s\n",
      "[CV 1/1] END max_depth=50, max_features=None, min_samples_leaf=6; accuracy: (test=0.863) f1: (test=0.362) precision: (test=0.276) recall: (test=0.525) total time=   0.2s\n",
      "[CV 1/1] END max_depth=50, max_features=None, min_samples_leaf=10; accuracy: (test=0.874) f1: (test=0.382) precision: (test=0.300) recall: (test=0.525) total time=   0.2s\n",
      "[CV 1/1] END max_depth=50, max_features=None, min_samples_leaf=20; accuracy: (test=0.858) f1: (test=0.353) precision: (test=0.266) recall: (test=0.525) total time=   0.1s\n",
      "[CV 1/1] END max_depth=50, max_features=sqrt, min_samples_leaf=2; accuracy: (test=0.871) f1: (test=0.327) precision: (test=0.266) recall: (test=0.425) total time=   0.0s\n",
      "[CV 1/1] END max_depth=50, max_features=sqrt, min_samples_leaf=6; accuracy: (test=0.869) f1: (test=0.383) precision: (test=0.293) recall: (test=0.550) total time=   0.0s\n",
      "[CV 1/1] END max_depth=50, max_features=sqrt, min_samples_leaf=10; accuracy: (test=0.876) f1: (test=0.396) precision: (test=0.310) recall: (test=0.550) total time=   0.0s\n",
      "[CV 1/1] END max_depth=50, max_features=sqrt, min_samples_leaf=20; accuracy: (test=0.845) f1: (test=0.333) precision: (test=0.244) recall: (test=0.525) total time=   0.0s\n",
      "[CV 1/1] END max_depth=50, max_features=log2, min_samples_leaf=2; accuracy: (test=0.880) f1: (test=0.404) precision: (test=0.319) recall: (test=0.550) total time=   0.0s\n",
      "[CV 1/1] END max_depth=50, max_features=log2, min_samples_leaf=6; accuracy: (test=0.861) f1: (test=0.390) precision: (test=0.289) recall: (test=0.600) total time=   0.0s\n",
      "[CV 1/1] END max_depth=50, max_features=log2, min_samples_leaf=10; accuracy: (test=0.843) f1: (test=0.331) precision: (test=0.241) recall: (test=0.525) total time=   0.0s\n",
      "[CV 1/1] END max_depth=50, max_features=log2, min_samples_leaf=20; accuracy: (test=0.845) f1: (test=0.354) precision: (test=0.256) recall: (test=0.575) total time=   0.0s\n",
      "[CV 1/1] END max_depth=50, max_features=5, min_samples_leaf=2; accuracy: (test=0.871) f1: (test=0.327) precision: (test=0.266) recall: (test=0.425) total time=   0.0s\n",
      "[CV 1/1] END max_depth=50, max_features=5, min_samples_leaf=6; accuracy: (test=0.869) f1: (test=0.383) precision: (test=0.293) recall: (test=0.550) total time=   0.0s\n",
      "[CV 1/1] END max_depth=50, max_features=5, min_samples_leaf=10; accuracy: (test=0.876) f1: (test=0.396) precision: (test=0.310) recall: (test=0.550) total time=   0.0s\n",
      "[CV 1/1] END max_depth=50, max_features=5, min_samples_leaf=20; accuracy: (test=0.845) f1: (test=0.333) precision: (test=0.244) recall: (test=0.525) total time=   0.0s\n",
      "[CV 1/1] END max_depth=50, max_features=10, min_samples_leaf=2; accuracy: (test=0.874) f1: (test=0.382) precision: (test=0.300) recall: (test=0.525) total time=   0.1s\n",
      "[CV 1/1] END max_depth=50, max_features=10, min_samples_leaf=6; accuracy: (test=0.854) f1: (test=0.313) precision: (test=0.240) recall: (test=0.450) total time=   0.1s\n",
      "[CV 1/1] END max_depth=50, max_features=10, min_samples_leaf=10; accuracy: (test=0.854) f1: (test=0.378) precision: (test=0.276) recall: (test=0.600) total time=   0.1s\n",
      "[CV 1/1] END max_depth=50, max_features=10, min_samples_leaf=20; accuracy: (test=0.860) f1: (test=0.387) precision: (test=0.286) recall: (test=0.600) total time=   0.1s\n",
      "[CV 1/1] END max_depth=50, max_features=20, min_samples_leaf=2; accuracy: (test=0.880) f1: (test=0.356) precision: (test=0.295) recall: (test=0.450) total time=   0.1s\n",
      "[CV 1/1] END max_depth=50, max_features=20, min_samples_leaf=6; accuracy: (test=0.872) f1: (test=0.400) precision: (test=0.307) recall: (test=0.575) total time=   0.1s\n",
      "[CV 1/1] END max_depth=50, max_features=20, min_samples_leaf=10; accuracy: (test=0.858) f1: (test=0.374) precision: (test=0.277) recall: (test=0.575) total time=   0.1s\n",
      "[CV 1/1] END max_depth=50, max_features=20, min_samples_leaf=20; accuracy: (test=0.821) f1: (test=0.331) precision: (test=0.229) recall: (test=0.600) total time=   0.1s\n"
     ]
    },
    {
     "data": {
      "text/plain": [
       "GridSearchCV(cv=PredefinedSplit(test_fold=array([-1, -1, ...,  0,  0])),\n",
       "             estimator=DecisionTreeClassifier(random_state=1),\n",
       "             param_grid={'max_depth': [3, 10, 20, 50],\n",
       "                         'max_features': [None, 'sqrt', 'log2', 5, 10, 20],\n",
       "                         'min_samples_leaf': [2, 6, 10, 20]},\n",
       "             refit='f1', scoring=['accuracy', 'recall', 'precision', 'f1'],\n",
       "             verbose=5)"
      ]
     },
     "execution_count": 20,
     "metadata": {},
     "output_type": "execute_result"
    }
   ],
   "source": [
    "tree = DecisionTreeClassifier(random_state=random_seed)\n",
    "tree_grid = GridSearchCV(tree,param_grid={'max_depth':[3,10,20,50],'min_samples_leaf':[2,6,10,20],\n",
    "                                          'max_features':[None,'sqrt','log2',5,10,20]},\n",
    "                        scoring=['accuracy','recall','precision','f1'],\n",
    "                        verbose=5,cv=ps,refit='f1')\n",
    "tree_grid.fit(array_x,array_y)"
   ]
  },
  {
   "cell_type": "markdown",
   "metadata": {},
   "source": [
    "F1 Score"
   ]
  },
  {
   "cell_type": "code",
   "execution_count": 21,
   "metadata": {},
   "outputs": [],
   "source": [
    "tree_resampled = tree_grid.best_estimator_"
   ]
  },
  {
   "cell_type": "code",
   "execution_count": 22,
   "metadata": {
    "scrolled": true
   },
   "outputs": [
    {
     "data": {
      "text/plain": [
       "0.9471799462846912"
      ]
     },
     "execution_count": 22,
     "metadata": {},
     "output_type": "execute_result"
    }
   ],
   "source": [
    "f1_score(y_resampled,tree_resampled.predict(X_resampled))"
   ]
  },
  {
   "cell_type": "code",
   "execution_count": 23,
   "metadata": {},
   "outputs": [
    {
     "data": {
      "text/plain": [
       "0.5344827586206897"
      ]
     },
     "execution_count": 23,
     "metadata": {},
     "output_type": "execute_result"
    }
   ],
   "source": [
    "f1_score(test_y,tree_resampled.predict(test_x))"
   ]
  },
  {
   "cell_type": "code",
   "execution_count": 24,
   "metadata": {},
   "outputs": [
    {
     "data": {
      "text/plain": [
       "DecisionTreeClassifier(max_depth=20, max_features='log2', min_samples_leaf=6,\n",
       "                       random_state=1)"
      ]
     },
     "execution_count": 24,
     "metadata": {},
     "output_type": "execute_result"
    }
   ],
   "source": [
    "tree_resampled"
   ]
  },
  {
   "cell_type": "markdown",
   "metadata": {},
   "source": [
    "Accuracy Score"
   ]
  },
  {
   "cell_type": "code",
   "execution_count": 25,
   "metadata": {},
   "outputs": [
    {
     "data": {
      "text/plain": [
       "0.947267620020429"
      ]
     },
     "execution_count": 25,
     "metadata": {},
     "output_type": "execute_result"
    }
   ],
   "source": [
    "tree_resampled.score(X_resampled,y_resampled)"
   ]
  },
  {
   "cell_type": "code",
   "execution_count": 26,
   "metadata": {},
   "outputs": [
    {
     "data": {
      "text/plain": [
       "0.9001848428835489"
      ]
     },
     "execution_count": 26,
     "metadata": {},
     "output_type": "execute_result"
    }
   ],
   "source": [
    "tree_resampled.score(test_x,test_y)"
   ]
  },
  {
   "cell_type": "markdown",
   "metadata": {},
   "source": [
    "Recall Score"
   ]
  },
  {
   "cell_type": "code",
   "execution_count": 27,
   "metadata": {
    "scrolled": true
   },
   "outputs": [
    {
     "data": {
      "text/plain": [
       "0.9456077630234934"
      ]
     },
     "execution_count": 27,
     "metadata": {},
     "output_type": "execute_result"
    }
   ],
   "source": [
    "recall_score(y_resampled,tree_resampled.predict(X_resampled))"
   ]
  },
  {
   "cell_type": "code",
   "execution_count": 28,
   "metadata": {},
   "outputs": [
    {
     "data": {
      "text/plain": [
       "0.5740740740740741"
      ]
     },
     "execution_count": 28,
     "metadata": {},
     "output_type": "execute_result"
    }
   ],
   "source": [
    "recall_score(test_y,tree_resampled.predict(test_x))"
   ]
  },
  {
   "cell_type": "markdown",
   "metadata": {},
   "source": [
    "Precision Score"
   ]
  },
  {
   "cell_type": "code",
   "execution_count": 29,
   "metadata": {
    "scrolled": true
   },
   "outputs": [
    {
     "data": {
      "text/plain": [
       "0.948757366128619"
      ]
     },
     "execution_count": 29,
     "metadata": {},
     "output_type": "execute_result"
    }
   ],
   "source": [
    "precision_score(y_resampled,tree_resampled.predict(X_resampled))"
   ]
  },
  {
   "cell_type": "code",
   "execution_count": 30,
   "metadata": {},
   "outputs": [
    {
     "data": {
      "text/plain": [
       "0.5"
      ]
     },
     "execution_count": 30,
     "metadata": {},
     "output_type": "execute_result"
    }
   ],
   "source": [
    "precision_score(test_y,tree_resampled.predict(test_x))"
   ]
  },
  {
   "cell_type": "code",
   "execution_count": 31,
   "metadata": {},
   "outputs": [
    {
     "data": {
      "text/plain": [
       "0.0    479\n",
       "1.0     62\n",
       "dtype: int64"
      ]
     },
     "execution_count": 31,
     "metadata": {},
     "output_type": "execute_result"
    }
   ],
   "source": [
    "pd.Series(tree_resampled.predict(test_x)).value_counts()"
   ]
  },
  {
   "cell_type": "code",
   "execution_count": 32,
   "metadata": {},
   "outputs": [
    {
     "data": {
      "text/plain": [
       "PotentialFraud\n",
       "0.0               487\n",
       "1.0                54\n",
       "dtype: int64"
      ]
     },
     "execution_count": 32,
     "metadata": {},
     "output_type": "execute_result"
    }
   ],
   "source": [
    "test_y.value_counts()"
   ]
  },
  {
   "cell_type": "markdown",
   "metadata": {},
   "source": [
    "AUC Score"
   ]
  },
  {
   "cell_type": "code",
   "execution_count": 33,
   "metadata": {},
   "outputs": [],
   "source": [
    "from sklearn.metrics import roc_auc_score"
   ]
  },
  {
   "cell_type": "code",
   "execution_count": 34,
   "metadata": {},
   "outputs": [
    {
     "data": {
      "text/plain": [
       "0.947267620020429"
      ]
     },
     "execution_count": 34,
     "metadata": {},
     "output_type": "execute_result"
    }
   ],
   "source": [
    "roc_auc_score(y_resampled,tree_resampled.predict(X_resampled))"
   ]
  },
  {
   "cell_type": "code",
   "execution_count": 35,
   "metadata": {},
   "outputs": [
    {
     "data": {
      "text/plain": [
       "0.7552095216366262"
      ]
     },
     "execution_count": 35,
     "metadata": {},
     "output_type": "execute_result"
    }
   ],
   "source": [
    "roc_auc_score(test_y,tree_resampled.predict(test_x))"
   ]
  },
  {
   "cell_type": "markdown",
   "metadata": {},
   "source": [
    "# Logistic Regression"
   ]
  },
  {
   "cell_type": "code",
   "execution_count": 36,
   "metadata": {},
   "outputs": [],
   "source": [
    "from sklearn.linear_model import LogisticRegression\n",
    "from sklearn.metrics import confusion_matrix,ConfusionMatrixDisplay"
   ]
  },
  {
   "cell_type": "markdown",
   "metadata": {},
   "source": [
    "### Selection Based on F1 Scores"
   ]
  },
  {
   "cell_type": "code",
   "execution_count": 37,
   "metadata": {},
   "outputs": [
    {
     "name": "stdout",
     "output_type": "stream",
     "text": [
      "Fitting 1 folds for each of 100 candidates, totalling 100 fits\n",
      "[CV 1/1] END max_iter=5, penalty=l1, solver=newton-cg; accuracy: (test=nan) f1: (test=nan) precision: (test=nan) recall: (test=nan) total time=   0.0s\n",
      "[CV 1/1] END max_iter=5, penalty=l1, solver=lbfgs; accuracy: (test=nan) f1: (test=nan) precision: (test=nan) recall: (test=nan) total time=   0.0s\n",
      "[CV 1/1] END max_iter=5, penalty=l1, solver=liblinear; accuracy: (test=0.800) f1: (test=0.333) precision: (test=0.221) recall: (test=0.675) total time=   0.0s\n",
      "[CV 1/1] END max_iter=5, penalty=l1, solver=sag; accuracy: (test=nan) f1: (test=nan) precision: (test=nan) recall: (test=nan) total time=   0.0s\n",
      "[CV 1/1] END max_iter=5, penalty=l1, solver=saga; accuracy: (test=0.811) f1: (test=0.354) precision: (test=0.237) recall: (test=0.700) total time=   0.0s\n",
      "[CV 1/1] END max_iter=5, penalty=l2, solver=newton-cg; accuracy: (test=0.811) f1: (test=0.346) precision: (test=0.233) recall: (test=0.675) total time=   0.0s\n",
      "[CV 1/1] END max_iter=5, penalty=l2, solver=lbfgs; accuracy: (test=0.808) f1: (test=0.342) precision: (test=0.229) recall: (test=0.675) total time=   0.0s\n",
      "[CV 1/1] END max_iter=5, penalty=l2, solver=liblinear; accuracy: (test=0.802) f1: (test=0.335) precision: (test=0.223) recall: (test=0.675) total time=   0.0s\n",
      "[CV 1/1] END max_iter=5, penalty=l2, solver=sag; accuracy: (test=0.797) f1: (test=0.337) precision: (test=0.222) recall: (test=0.700) total time=   0.0s\n",
      "[CV 1/1] END max_iter=5, penalty=l2, solver=saga; accuracy: (test=0.811) f1: (test=0.354) precision: (test=0.237) recall: (test=0.700) total time=   0.0s\n",
      "[CV 1/1] END max_iter=5, penalty=elasticnet, solver=newton-cg; accuracy: (test=nan) f1: (test=nan) precision: (test=nan) recall: (test=nan) total time=   0.0s\n",
      "[CV 1/1] END max_iter=5, penalty=elasticnet, solver=lbfgs; accuracy: (test=nan) f1: (test=nan) precision: (test=nan) recall: (test=nan) total time=   0.0s\n",
      "[CV 1/1] END max_iter=5, penalty=elasticnet, solver=liblinear; accuracy: (test=nan) f1: (test=nan) precision: (test=nan) recall: (test=nan) total time=   0.0s\n",
      "[CV 1/1] END max_iter=5, penalty=elasticnet, solver=sag; accuracy: (test=nan) f1: (test=nan) precision: (test=nan) recall: (test=nan) total time=   0.0s\n",
      "[CV 1/1] END max_iter=5, penalty=elasticnet, solver=saga; accuracy: (test=nan) f1: (test=nan) precision: (test=nan) recall: (test=nan) total time=   0.0s\n",
      "[CV 1/1] END max_iter=5, penalty=none, solver=newton-cg; accuracy: (test=0.811) f1: (test=0.346) precision: (test=0.233) recall: (test=0.675) total time=   0.0s\n",
      "[CV 1/1] END max_iter=5, penalty=none, solver=lbfgs; accuracy: (test=0.808) f1: (test=0.342) precision: (test=0.229) recall: (test=0.675) total time=   0.0s\n",
      "[CV 1/1] END max_iter=5, penalty=none, solver=liblinear; accuracy: (test=nan) f1: (test=nan) precision: (test=nan) recall: (test=nan) total time=   0.0s\n",
      "[CV 1/1] END max_iter=5, penalty=none, solver=sag; accuracy: (test=0.795) f1: (test=0.335) precision: (test=0.220) recall: (test=0.700) total time=   0.0s\n",
      "[CV 1/1] END max_iter=5, penalty=none, solver=saga; accuracy: (test=0.811) f1: (test=0.354) precision: (test=0.237) recall: (test=0.700) total time=   0.0s\n",
      "[CV 1/1] END max_iter=10, penalty=l1, solver=newton-cg; accuracy: (test=nan) f1: (test=nan) precision: (test=nan) recall: (test=nan) total time=   0.0s\n",
      "[CV 1/1] END max_iter=10, penalty=l1, solver=lbfgs; accuracy: (test=nan) f1: (test=nan) precision: (test=nan) recall: (test=nan) total time=   0.0s\n",
      "[CV 1/1] END max_iter=10, penalty=l1, solver=liblinear; accuracy: (test=0.799) f1: (test=0.331) precision: (test=0.220) recall: (test=0.675) total time=   0.1s\n",
      "[CV 1/1] END max_iter=10, penalty=l1, solver=sag; accuracy: (test=nan) f1: (test=nan) precision: (test=nan) recall: (test=nan) total time=   0.0s\n",
      "[CV 1/1] END max_iter=10, penalty=l1, solver=saga; accuracy: (test=0.810) f1: (test=0.352) precision: (test=0.235) recall: (test=0.700) total time=   0.0s\n",
      "[CV 1/1] END max_iter=10, penalty=l2, solver=newton-cg; accuracy: (test=0.778) f1: (test=0.302) precision: (test=0.197) recall: (test=0.650) total time=   0.0s\n",
      "[CV 1/1] END max_iter=10, penalty=l2, solver=lbfgs; accuracy: (test=0.800) f1: (test=0.333) precision: (test=0.221) recall: (test=0.675) total time=   0.0s\n",
      "[CV 1/1] END max_iter=10, penalty=l2, solver=liblinear; accuracy: (test=0.782) f1: (test=0.306) precision: (test=0.200) recall: (test=0.650) total time=   0.1s\n",
      "[CV 1/1] END max_iter=10, penalty=l2, solver=sag; accuracy: (test=0.811) f1: (test=0.329) precision: (test=0.223) recall: (test=0.625) total time=   0.0s\n",
      "[CV 1/1] END max_iter=10, penalty=l2, solver=saga; accuracy: (test=0.810) f1: (test=0.352) precision: (test=0.235) recall: (test=0.700) total time=   0.0s\n",
      "[CV 1/1] END max_iter=10, penalty=elasticnet, solver=newton-cg; accuracy: (test=nan) f1: (test=nan) precision: (test=nan) recall: (test=nan) total time=   0.0s\n",
      "[CV 1/1] END max_iter=10, penalty=elasticnet, solver=lbfgs; accuracy: (test=nan) f1: (test=nan) precision: (test=nan) recall: (test=nan) total time=   0.0s\n",
      "[CV 1/1] END max_iter=10, penalty=elasticnet, solver=liblinear; accuracy: (test=nan) f1: (test=nan) precision: (test=nan) recall: (test=nan) total time=   0.0s\n",
      "[CV 1/1] END max_iter=10, penalty=elasticnet, solver=sag; accuracy: (test=nan) f1: (test=nan) precision: (test=nan) recall: (test=nan) total time=   0.0s\n",
      "[CV 1/1] END max_iter=10, penalty=elasticnet, solver=saga; accuracy: (test=nan) f1: (test=nan) precision: (test=nan) recall: (test=nan) total time=   0.0s\n",
      "[CV 1/1] END max_iter=10, penalty=none, solver=newton-cg; accuracy: (test=0.782) f1: (test=0.306) precision: (test=0.200) recall: (test=0.650) total time=   0.0s\n",
      "[CV 1/1] END max_iter=10, penalty=none, solver=lbfgs; accuracy: (test=0.800) f1: (test=0.333) precision: (test=0.221) recall: (test=0.675) total time=   0.0s\n",
      "[CV 1/1] END max_iter=10, penalty=none, solver=liblinear; accuracy: (test=nan) f1: (test=nan) precision: (test=nan) recall: (test=nan) total time=   0.0s\n",
      "[CV 1/1] END max_iter=10, penalty=none, solver=sag; accuracy: (test=0.811) f1: (test=0.329) precision: (test=0.223) recall: (test=0.625) total time=   0.0s\n",
      "[CV 1/1] END max_iter=10, penalty=none, solver=saga; accuracy: (test=0.810) f1: (test=0.352) precision: (test=0.235) recall: (test=0.700) total time=   0.0s\n",
      "[CV 1/1] END max_iter=20, penalty=l1, solver=newton-cg; accuracy: (test=nan) f1: (test=nan) precision: (test=nan) recall: (test=nan) total time=   0.0s\n",
      "[CV 1/1] END max_iter=20, penalty=l1, solver=lbfgs; accuracy: (test=nan) f1: (test=nan) precision: (test=nan) recall: (test=nan) total time=   0.0s\n",
      "[CV 1/1] END max_iter=20, penalty=l1, solver=liblinear; accuracy: (test=0.784) f1: (test=0.308) precision: (test=0.202) recall: (test=0.650) total time=   0.3s\n",
      "[CV 1/1] END max_iter=20, penalty=l1, solver=sag; accuracy: (test=nan) f1: (test=nan) precision: (test=nan) recall: (test=nan) total time=   0.0s\n",
      "[CV 1/1] END max_iter=20, penalty=l1, solver=saga; accuracy: (test=0.806) f1: (test=0.331) precision: (test=0.222) recall: (test=0.650) total time=   0.1s\n",
      "[CV 1/1] END max_iter=20, penalty=l2, solver=newton-cg; accuracy: (test=0.780) f1: (test=0.304) precision: (test=0.198) recall: (test=0.650) total time=   0.1s\n",
      "[CV 1/1] END max_iter=20, penalty=l2, solver=lbfgs; accuracy: (test=0.791) f1: (test=0.315) precision: (test=0.208) recall: (test=0.650) total time=   0.0s\n",
      "[CV 1/1] END max_iter=20, penalty=l2, solver=liblinear; accuracy: (test=0.778) f1: (test=0.302) precision: (test=0.197) recall: (test=0.650) total time=   0.1s\n",
      "[CV 1/1] END max_iter=20, penalty=l2, solver=sag; accuracy: (test=0.804) f1: (test=0.346) precision: (test=0.230) recall: (test=0.700) total time=   0.1s\n",
      "[CV 1/1] END max_iter=20, penalty=l2, solver=saga; accuracy: (test=0.804) f1: (test=0.329) precision: (test=0.220) recall: (test=0.650) total time=   0.1s\n",
      "[CV 1/1] END max_iter=20, penalty=elasticnet, solver=newton-cg; accuracy: (test=nan) f1: (test=nan) precision: (test=nan) recall: (test=nan) total time=   0.0s\n",
      "[CV 1/1] END max_iter=20, penalty=elasticnet, solver=lbfgs; accuracy: (test=nan) f1: (test=nan) precision: (test=nan) recall: (test=nan) total time=   0.0s\n",
      "[CV 1/1] END max_iter=20, penalty=elasticnet, solver=liblinear; accuracy: (test=nan) f1: (test=nan) precision: (test=nan) recall: (test=nan) total time=   0.0s\n",
      "[CV 1/1] END max_iter=20, penalty=elasticnet, solver=sag; accuracy: (test=nan) f1: (test=nan) precision: (test=nan) recall: (test=nan) total time=   0.0s\n",
      "[CV 1/1] END max_iter=20, penalty=elasticnet, solver=saga; accuracy: (test=nan) f1: (test=nan) precision: (test=nan) recall: (test=nan) total time=   0.0s\n",
      "[CV 1/1] END max_iter=20, penalty=none, solver=newton-cg; accuracy: (test=0.776) f1: (test=0.301) precision: (test=0.195) recall: (test=0.650) total time=   0.1s\n"
     ]
    },
    {
     "name": "stdout",
     "output_type": "stream",
     "text": [
      "[CV 1/1] END max_iter=20, penalty=none, solver=lbfgs; accuracy: (test=0.791) f1: (test=0.315) precision: (test=0.208) recall: (test=0.650) total time=   0.0s\n",
      "[CV 1/1] END max_iter=20, penalty=none, solver=liblinear; accuracy: (test=nan) f1: (test=nan) precision: (test=nan) recall: (test=nan) total time=   0.0s\n",
      "[CV 1/1] END max_iter=20, penalty=none, solver=sag; accuracy: (test=0.804) f1: (test=0.346) precision: (test=0.230) recall: (test=0.700) total time=   0.1s\n",
      "[CV 1/1] END max_iter=20, penalty=none, solver=saga; accuracy: (test=0.804) f1: (test=0.329) precision: (test=0.220) recall: (test=0.650) total time=   0.1s\n",
      "[CV 1/1] END max_iter=50, penalty=l1, solver=newton-cg; accuracy: (test=nan) f1: (test=nan) precision: (test=nan) recall: (test=nan) total time=   0.0s\n",
      "[CV 1/1] END max_iter=50, penalty=l1, solver=lbfgs; accuracy: (test=nan) f1: (test=nan) precision: (test=nan) recall: (test=nan) total time=   0.0s\n",
      "[CV 1/1] END max_iter=50, penalty=l1, solver=liblinear; accuracy: (test=0.780) f1: (test=0.296) precision: (test=0.194) recall: (test=0.625) total time=   1.6s\n",
      "[CV 1/1] END max_iter=50, penalty=l1, solver=sag; accuracy: (test=nan) f1: (test=nan) precision: (test=nan) recall: (test=nan) total time=   0.0s\n",
      "[CV 1/1] END max_iter=50, penalty=l1, solver=saga; accuracy: (test=0.806) f1: (test=0.340) precision: (test=0.227) recall: (test=0.675) total time=   0.2s\n",
      "[CV 1/1] END max_iter=50, penalty=l2, solver=newton-cg; accuracy: (test=0.780) f1: (test=0.304) precision: (test=0.198) recall: (test=0.650) total time=   0.1s\n",
      "[CV 1/1] END max_iter=50, penalty=l2, solver=lbfgs; accuracy: (test=0.780) f1: (test=0.304) precision: (test=0.198) recall: (test=0.650) total time=   0.0s\n",
      "[CV 1/1] END max_iter=50, penalty=l2, solver=liblinear; accuracy: (test=0.778) f1: (test=0.302) precision: (test=0.197) recall: (test=0.650) total time=   0.1s\n",
      "[CV 1/1] END max_iter=50, penalty=l2, solver=sag; accuracy: (test=0.799) f1: (test=0.331) precision: (test=0.220) recall: (test=0.675) total time=   0.1s\n",
      "[CV 1/1] END max_iter=50, penalty=l2, solver=saga; accuracy: (test=0.804) f1: (test=0.338) precision: (test=0.225) recall: (test=0.675) total time=   0.1s\n",
      "[CV 1/1] END max_iter=50, penalty=elasticnet, solver=newton-cg; accuracy: (test=nan) f1: (test=nan) precision: (test=nan) recall: (test=nan) total time=   0.0s\n",
      "[CV 1/1] END max_iter=50, penalty=elasticnet, solver=lbfgs; accuracy: (test=nan) f1: (test=nan) precision: (test=nan) recall: (test=nan) total time=   0.0s\n",
      "[CV 1/1] END max_iter=50, penalty=elasticnet, solver=liblinear; accuracy: (test=nan) f1: (test=nan) precision: (test=nan) recall: (test=nan) total time=   0.0s\n",
      "[CV 1/1] END max_iter=50, penalty=elasticnet, solver=sag; accuracy: (test=nan) f1: (test=nan) precision: (test=nan) recall: (test=nan) total time=   0.0s\n",
      "[CV 1/1] END max_iter=50, penalty=elasticnet, solver=saga; accuracy: (test=nan) f1: (test=nan) precision: (test=nan) recall: (test=nan) total time=   0.0s\n",
      "[CV 1/1] END max_iter=50, penalty=none, solver=newton-cg; accuracy: (test=0.776) f1: (test=0.301) precision: (test=0.195) recall: (test=0.650) total time=   0.1s\n",
      "[CV 1/1] END max_iter=50, penalty=none, solver=lbfgs; accuracy: (test=0.778) f1: (test=0.302) precision: (test=0.197) recall: (test=0.650) total time=   0.0s\n",
      "[CV 1/1] END max_iter=50, penalty=none, solver=liblinear; accuracy: (test=nan) f1: (test=nan) precision: (test=nan) recall: (test=nan) total time=   0.0s\n",
      "[CV 1/1] END max_iter=50, penalty=none, solver=sag; accuracy: (test=0.799) f1: (test=0.331) precision: (test=0.220) recall: (test=0.675) total time=   0.1s\n",
      "[CV 1/1] END max_iter=50, penalty=none, solver=saga; accuracy: (test=0.806) f1: (test=0.340) precision: (test=0.227) recall: (test=0.675) total time=   0.1s\n",
      "[CV 1/1] END max_iter=100, penalty=l1, solver=newton-cg; accuracy: (test=nan) f1: (test=nan) precision: (test=nan) recall: (test=nan) total time=   0.0s\n",
      "[CV 1/1] END max_iter=100, penalty=l1, solver=lbfgs; accuracy: (test=nan) f1: (test=nan) precision: (test=nan) recall: (test=nan) total time=   0.0s\n",
      "[CV 1/1] END max_iter=100, penalty=l1, solver=liblinear; accuracy: (test=0.782) f1: (test=0.306) precision: (test=0.200) recall: (test=0.650) total time=   4.2s\n",
      "[CV 1/1] END max_iter=100, penalty=l1, solver=sag; accuracy: (test=nan) f1: (test=nan) precision: (test=nan) recall: (test=nan) total time=   0.0s\n",
      "[CV 1/1] END max_iter=100, penalty=l1, solver=saga; accuracy: (test=0.800) f1: (test=0.333) precision: (test=0.221) recall: (test=0.675) total time=   0.3s\n",
      "[CV 1/1] END max_iter=100, penalty=l2, solver=newton-cg; accuracy: (test=0.780) f1: (test=0.304) precision: (test=0.198) recall: (test=0.650) total time=   0.1s\n",
      "[CV 1/1] END max_iter=100, penalty=l2, solver=lbfgs; accuracy: (test=0.780) f1: (test=0.296) precision: (test=0.194) recall: (test=0.625) total time=   0.1s\n",
      "[CV 1/1] END max_iter=100, penalty=l2, solver=liblinear; accuracy: (test=0.778) f1: (test=0.302) precision: (test=0.197) recall: (test=0.650) total time=   0.1s\n",
      "[CV 1/1] END max_iter=100, penalty=l2, solver=sag; accuracy: (test=0.791) f1: (test=0.315) precision: (test=0.208) recall: (test=0.650) total time=   0.5s\n",
      "[CV 1/1] END max_iter=100, penalty=l2, solver=saga; accuracy: (test=0.799) f1: (test=0.331) precision: (test=0.220) recall: (test=0.675) total time=   0.3s\n",
      "[CV 1/1] END max_iter=100, penalty=elasticnet, solver=newton-cg; accuracy: (test=nan) f1: (test=nan) precision: (test=nan) recall: (test=nan) total time=   0.0s\n",
      "[CV 1/1] END max_iter=100, penalty=elasticnet, solver=lbfgs; accuracy: (test=nan) f1: (test=nan) precision: (test=nan) recall: (test=nan) total time=   0.0s\n",
      "[CV 1/1] END max_iter=100, penalty=elasticnet, solver=liblinear; accuracy: (test=nan) f1: (test=nan) precision: (test=nan) recall: (test=nan) total time=   0.0s\n",
      "[CV 1/1] END max_iter=100, penalty=elasticnet, solver=sag; accuracy: (test=nan) f1: (test=nan) precision: (test=nan) recall: (test=nan) total time=   0.0s\n",
      "[CV 1/1] END max_iter=100, penalty=elasticnet, solver=saga; accuracy: (test=nan) f1: (test=nan) precision: (test=nan) recall: (test=nan) total time=   0.0s\n",
      "[CV 1/1] END max_iter=100, penalty=none, solver=newton-cg; accuracy: (test=0.776) f1: (test=0.301) precision: (test=0.195) recall: (test=0.650) total time=   0.1s\n",
      "[CV 1/1] END max_iter=100, penalty=none, solver=lbfgs; accuracy: (test=0.774) f1: (test=0.291) precision: (test=0.189) recall: (test=0.625) total time=   0.1s\n",
      "[CV 1/1] END max_iter=100, penalty=none, solver=liblinear; accuracy: (test=nan) f1: (test=nan) precision: (test=nan) recall: (test=nan) total time=   0.0s\n",
      "[CV 1/1] END max_iter=100, penalty=none, solver=sag; accuracy: (test=0.791) f1: (test=0.315) precision: (test=0.208) recall: (test=0.650) total time=   0.3s\n",
      "[CV 1/1] END max_iter=100, penalty=none, solver=saga; accuracy: (test=0.797) f1: (test=0.329) precision: (test=0.218) recall: (test=0.675) total time=   0.3s\n"
     ]
    },
    {
     "data": {
      "text/plain": [
       "GridSearchCV(cv=PredefinedSplit(test_fold=array([-1, -1, ...,  0,  0])),\n",
       "             estimator=LogisticRegression(random_state=1),\n",
       "             param_grid={'max_iter': [5, 10, 20, 50, 100],\n",
       "                         'penalty': ['l1', 'l2', 'elasticnet', 'none'],\n",
       "                         'solver': ['newton-cg', 'lbfgs', 'liblinear', 'sag',\n",
       "                                    'saga']},\n",
       "             refit='f1', scoring=['accuracy', 'recall', 'precision', 'f1'],\n",
       "             verbose=5)"
      ]
     },
     "execution_count": 37,
     "metadata": {},
     "output_type": "execute_result"
    }
   ],
   "source": [
    "lr = LogisticRegression(random_state=1)\n",
    "lr_grid = GridSearchCV(lr,param_grid = {'penalty':['l1', 'l2', 'elasticnet', 'none'],\n",
    "                                       'solver':['newton-cg', 'lbfgs', 'liblinear', 'sag', 'saga'],\n",
    "                                       'max_iter':[5,10,20,50,100]},\n",
    "                       scoring=['accuracy','recall','precision','f1'],\n",
    "                        verbose=5,cv=ps,refit='f1')\n",
    "lr_grid.fit(array_x,array_y)"
   ]
  },
  {
   "cell_type": "markdown",
   "metadata": {},
   "source": [
    "F1 Score"
   ]
  },
  {
   "cell_type": "code",
   "execution_count": 38,
   "metadata": {},
   "outputs": [],
   "source": [
    "lr_resampled = lr_grid.best_estimator_"
   ]
  },
  {
   "cell_type": "code",
   "execution_count": 39,
   "metadata": {
    "scrolled": true
   },
   "outputs": [
    {
     "data": {
      "text/plain": [
       "0.5626492596720267"
      ]
     },
     "execution_count": 39,
     "metadata": {},
     "output_type": "execute_result"
    }
   ],
   "source": [
    "f1_score(y_resampled,lr_resampled.predict(X_resampled))"
   ]
  },
  {
   "cell_type": "code",
   "execution_count": 40,
   "metadata": {},
   "outputs": [
    {
     "data": {
      "text/plain": [
       "0.3448275862068966"
      ]
     },
     "execution_count": 40,
     "metadata": {},
     "output_type": "execute_result"
    }
   ],
   "source": [
    "f1_score(test_y,lr_resampled.predict(test_x))"
   ]
  },
  {
   "cell_type": "code",
   "execution_count": 41,
   "metadata": {},
   "outputs": [
    {
     "data": {
      "text/plain": [
       "LogisticRegression(max_iter=5, penalty='l1', random_state=1, solver='saga')"
      ]
     },
     "execution_count": 41,
     "metadata": {},
     "output_type": "execute_result"
    }
   ],
   "source": [
    "lr_resampled"
   ]
  },
  {
   "cell_type": "markdown",
   "metadata": {},
   "source": [
    "Accuracy Score"
   ]
  },
  {
   "cell_type": "code",
   "execution_count": 42,
   "metadata": {},
   "outputs": [
    {
     "data": {
      "text/plain": [
       "0.6492594484167518"
      ]
     },
     "execution_count": 42,
     "metadata": {},
     "output_type": "execute_result"
    }
   ],
   "source": [
    "lr_resampled = lr_grid.best_estimator_\n",
    "lr_resampled.score(X_resampled,y_resampled)"
   ]
  },
  {
   "cell_type": "code",
   "execution_count": 43,
   "metadata": {},
   "outputs": [
    {
     "data": {
      "text/plain": [
       "0.8243992606284658"
      ]
     },
     "execution_count": 43,
     "metadata": {},
     "output_type": "execute_result"
    }
   ],
   "source": [
    "lr_resampled.score(test_x,test_y)"
   ]
  },
  {
   "cell_type": "markdown",
   "metadata": {},
   "source": [
    "Recall Score"
   ]
  },
  {
   "cell_type": "code",
   "execution_count": 44,
   "metadata": {
    "scrolled": true
   },
   "outputs": [
    {
     "data": {
      "text/plain": [
       "0.45122574055158327"
      ]
     },
     "execution_count": 44,
     "metadata": {},
     "output_type": "execute_result"
    }
   ],
   "source": [
    "recall_score(y_resampled,lr_resampled.predict(X_resampled))"
   ]
  },
  {
   "cell_type": "code",
   "execution_count": 45,
   "metadata": {},
   "outputs": [
    {
     "data": {
      "text/plain": [
       "0.46296296296296297"
      ]
     },
     "execution_count": 45,
     "metadata": {},
     "output_type": "execute_result"
    }
   ],
   "source": [
    "recall_score(test_y,lr_resampled.predict(test_x))"
   ]
  },
  {
   "cell_type": "markdown",
   "metadata": {},
   "source": [
    "Precision Score"
   ]
  },
  {
   "cell_type": "code",
   "execution_count": 46,
   "metadata": {
    "scrolled": true
   },
   "outputs": [
    {
     "data": {
      "text/plain": [
       "0.7471458773784355"
      ]
     },
     "execution_count": 46,
     "metadata": {},
     "output_type": "execute_result"
    }
   ],
   "source": [
    "precision_score(y_resampled,lr_resampled.predict(X_resampled))"
   ]
  },
  {
   "cell_type": "code",
   "execution_count": 47,
   "metadata": {},
   "outputs": [
    {
     "data": {
      "text/plain": [
       "0.27472527472527475"
      ]
     },
     "execution_count": 47,
     "metadata": {},
     "output_type": "execute_result"
    }
   ],
   "source": [
    "precision_score(test_y,lr_resampled.predict(test_x))"
   ]
  },
  {
   "cell_type": "code",
   "execution_count": 48,
   "metadata": {},
   "outputs": [
    {
     "data": {
      "text/plain": [
       "0.0    450\n",
       "1.0     91\n",
       "dtype: int64"
      ]
     },
     "execution_count": 48,
     "metadata": {},
     "output_type": "execute_result"
    }
   ],
   "source": [
    "pd.Series(lr_resampled.predict(test_x)).value_counts()"
   ]
  },
  {
   "cell_type": "code",
   "execution_count": 49,
   "metadata": {
    "scrolled": true
   },
   "outputs": [
    {
     "data": {
      "text/plain": [
       "PotentialFraud\n",
       "0.0               487\n",
       "1.0                54\n",
       "dtype: int64"
      ]
     },
     "execution_count": 49,
     "metadata": {},
     "output_type": "execute_result"
    }
   ],
   "source": [
    "test_y.value_counts()"
   ]
  },
  {
   "cell_type": "markdown",
   "metadata": {},
   "source": [
    "AUC Score"
   ]
  },
  {
   "cell_type": "code",
   "execution_count": 50,
   "metadata": {},
   "outputs": [
    {
     "data": {
      "text/plain": [
       "0.6492594484167518"
      ]
     },
     "execution_count": 50,
     "metadata": {},
     "output_type": "execute_result"
    }
   ],
   "source": [
    "roc_auc_score(y_resampled,lr_resampled.predict(X_resampled))"
   ]
  },
  {
   "cell_type": "code",
   "execution_count": 51,
   "metadata": {},
   "outputs": [
    {
     "data": {
      "text/plain": [
       "0.663719674499962"
      ]
     },
     "execution_count": 51,
     "metadata": {},
     "output_type": "execute_result"
    }
   ],
   "source": [
    "roc_auc_score(test_y,lr_resampled.predict(test_x))"
   ]
  },
  {
   "cell_type": "code",
   "execution_count": 52,
   "metadata": {},
   "outputs": [
    {
     "data": {
      "text/plain": [
       "<Figure size 1440x720 with 0 Axes>"
      ]
     },
     "metadata": {},
     "output_type": "display_data"
    },
    {
     "data": {
      "image/png": "[encoded data removed]",
      "text/plain": [
       "<Figure size 432x288 with 2 Axes>"
      ]
     },
     "metadata": {
      "needs_background": "light"
     },
     "output_type": "display_data"
    }
   ],
   "source": [
    "plt.figure(figsize=(20,10))\n",
    "cm = ConfusionMatrixDisplay(confusion_matrix(test_y,lr_resampled.predict(test_x),labels=lr_resampled.classes_),display_labels=lr_resampled.classes_)\n",
    "cm.plot()\n",
    "plt.show()"
   ]
  },
  {
   "cell_type": "markdown",
   "metadata": {},
   "source": [
    "# XGB"
   ]
  },
  {
   "cell_type": "code",
   "execution_count": 53,
   "metadata": {},
   "outputs": [],
   "source": [
    "from xgboost import XGBClassifier"
   ]
  },
  {
   "cell_type": "code",
   "execution_count": 54,
   "metadata": {},
   "outputs": [
    {
     "name": "stdout",
     "output_type": "stream",
     "text": [
      "Fitting 1 folds for each of 16 candidates, totalling 16 fits\n",
      "[19:48:50] WARNING: /Users/travis/build/dmlc/xgboost/src/learner.cc:1115: Starting in XGBoost 1.3.0, the default evaluation metric used with the objective 'binary:logistic' was changed from 'error' to 'logloss'. Explicitly set eval_metric if you'd like to restore the old behavior.\n",
      "[CV 1/1] END eta=0.1, max_depth=3, min_child_weight=0.1, n_estimators=100; accuracy: (test=0.874) f1: (test=0.433) precision: (test=0.325) recall: (test=0.650) total time=   0.7s\n",
      "[19:48:51] WARNING: /Users/travis/build/dmlc/xgboost/src/learner.cc:1115: Starting in XGBoost 1.3.0, the default evaluation metric used with the objective 'binary:logistic' was changed from 'error' to 'logloss'. Explicitly set eval_metric if you'd like to restore the old behavior.\n",
      "[CV 1/1] END eta=0.1, max_depth=3, min_child_weight=0.1, n_estimators=300; accuracy: (test=0.889) f1: (test=0.423) precision: (test=0.344) recall: (test=0.550) total time=   1.7s\n",
      "[19:48:52] WARNING: /Users/travis/build/dmlc/xgboost/src/learner.cc:1115: Starting in XGBoost 1.3.0, the default evaluation metric used with the objective 'binary:logistic' was changed from 'error' to 'logloss'. Explicitly set eval_metric if you'd like to restore the old behavior.\n",
      "[CV 1/1] END eta=0.1, max_depth=3, min_child_weight=0.2, n_estimators=100; accuracy: (test=0.874) f1: (test=0.433) precision: (test=0.325) recall: (test=0.650) total time=   0.6s\n",
      "[19:48:53] WARNING: /Users/travis/build/dmlc/xgboost/src/learner.cc:1115: Starting in XGBoost 1.3.0, the default evaluation metric used with the objective 'binary:logistic' was changed from 'error' to 'logloss'. Explicitly set eval_metric if you'd like to restore the old behavior.\n",
      "[CV 1/1] END eta=0.1, max_depth=3, min_child_weight=0.2, n_estimators=300; accuracy: (test=0.891) f1: (test=0.438) precision: (test=0.354) recall: (test=0.575) total time=   1.9s\n",
      "[19:48:55] WARNING: /Users/travis/build/dmlc/xgboost/src/learner.cc:1115: Starting in XGBoost 1.3.0, the default evaluation metric used with the objective 'binary:logistic' was changed from 'error' to 'logloss'. Explicitly set eval_metric if you'd like to restore the old behavior.\n",
      "[CV 1/1] END eta=0.1, max_depth=10, min_child_weight=0.1, n_estimators=100; accuracy: (test=0.895) f1: (test=0.412) precision: (test=0.351) recall: (test=0.500) total time=   2.6s\n",
      "[19:48:57] WARNING: /Users/travis/build/dmlc/xgboost/src/learner.cc:1115: Starting in XGBoost 1.3.0, the default evaluation metric used with the objective 'binary:logistic' was changed from 'error' to 'logloss'. Explicitly set eval_metric if you'd like to restore the old behavior.\n",
      "[CV 1/1] END eta=0.1, max_depth=10, min_child_weight=0.1, n_estimators=300; accuracy: (test=0.900) f1: (test=0.413) precision: (test=0.365) recall: (test=0.475) total time=   6.2s\n",
      "[19:49:04] WARNING: /Users/travis/build/dmlc/xgboost/src/learner.cc:1115: Starting in XGBoost 1.3.0, the default evaluation metric used with the objective 'binary:logistic' was changed from 'error' to 'logloss'. Explicitly set eval_metric if you'd like to restore the old behavior.\n",
      "[CV 1/1] END eta=0.1, max_depth=10, min_child_weight=0.2, n_estimators=100; accuracy: (test=0.900) f1: (test=0.426) precision: (test=0.370) recall: (test=0.500) total time=   2.4s\n",
      "[19:49:06] WARNING: /Users/travis/build/dmlc/xgboost/src/learner.cc:1115: Starting in XGBoost 1.3.0, the default evaluation metric used with the objective 'binary:logistic' was changed from 'error' to 'logloss'. Explicitly set eval_metric if you'd like to restore the old behavior.\n",
      "[CV 1/1] END eta=0.1, max_depth=10, min_child_weight=0.2, n_estimators=300; accuracy: (test=0.904) f1: (test=0.435) precision: (test=0.385) recall: (test=0.500) total time=   6.1s\n",
      "[19:49:12] WARNING: /Users/travis/build/dmlc/xgboost/src/learner.cc:1115: Starting in XGBoost 1.3.0, the default evaluation metric used with the objective 'binary:logistic' was changed from 'error' to 'logloss'. Explicitly set eval_metric if you'd like to restore the old behavior.\n",
      "[CV 1/1] END eta=0.2, max_depth=3, min_child_weight=0.1, n_estimators=100; accuracy: (test=0.878) f1: (test=0.431) precision: (test=0.329) recall: (test=0.625) total time=   0.7s\n",
      "[19:49:13] WARNING: /Users/travis/build/dmlc/xgboost/src/learner.cc:1115: Starting in XGBoost 1.3.0, the default evaluation metric used with the objective 'binary:logistic' was changed from 'error' to 'logloss'. Explicitly set eval_metric if you'd like to restore the old behavior.\n",
      "[CV 1/1] END eta=0.2, max_depth=3, min_child_weight=0.1, n_estimators=300; accuracy: (test=0.889) f1: (test=0.434) precision: (test=0.348) recall: (test=0.575) total time=   2.0s\n",
      "[19:49:15] WARNING: /Users/travis/build/dmlc/xgboost/src/learner.cc:1115: Starting in XGBoost 1.3.0, the default evaluation metric used with the objective 'binary:logistic' was changed from 'error' to 'logloss'. Explicitly set eval_metric if you'd like to restore the old behavior.\n",
      "[CV 1/1] END eta=0.2, max_depth=3, min_child_weight=0.2, n_estimators=100; accuracy: (test=0.882) f1: (test=0.458) precision: (test=0.346) recall: (test=0.675) total time=   0.7s\n",
      "[19:49:16] WARNING: /Users/travis/build/dmlc/xgboost/src/learner.cc:1115: Starting in XGBoost 1.3.0, the default evaluation metric used with the objective 'binary:logistic' was changed from 'error' to 'logloss'. Explicitly set eval_metric if you'd like to restore the old behavior.\n",
      "[CV 1/1] END eta=0.2, max_depth=3, min_child_weight=0.2, n_estimators=300; accuracy: (test=0.891) f1: (test=0.438) precision: (test=0.354) recall: (test=0.575) total time=   1.9s\n",
      "[19:49:17] WARNING: /Users/travis/build/dmlc/xgboost/src/learner.cc:1115: Starting in XGBoost 1.3.0, the default evaluation metric used with the objective 'binary:logistic' was changed from 'error' to 'logloss'. Explicitly set eval_metric if you'd like to restore the old behavior.\n",
      "[CV 1/1] END eta=0.2, max_depth=10, min_child_weight=0.1, n_estimators=100; accuracy: (test=0.911) f1: (test=0.455) precision: (test=0.417) recall: (test=0.500) total time=   2.5s\n",
      "[19:49:20] WARNING: /Users/travis/build/dmlc/xgboost/src/learner.cc:1115: Starting in XGBoost 1.3.0, the default evaluation metric used with the objective 'binary:logistic' was changed from 'error' to 'logloss'. Explicitly set eval_metric if you'd like to restore the old behavior.\n",
      "[CV 1/1] END eta=0.2, max_depth=10, min_child_weight=0.1, n_estimators=300; accuracy: (test=0.911) f1: (test=0.442) precision: (test=0.413) recall: (test=0.475) total time=   5.4s\n",
      "[19:49:25] WARNING: /Users/travis/build/dmlc/xgboost/src/learner.cc:1115: Starting in XGBoost 1.3.0, the default evaluation metric used with the objective 'binary:logistic' was changed from 'error' to 'logloss'. Explicitly set eval_metric if you'd like to restore the old behavior.\n",
      "[CV 1/1] END eta=0.2, max_depth=10, min_child_weight=0.2, n_estimators=100; accuracy: (test=0.906) f1: (test=0.427) precision: (test=0.388) recall: (test=0.475) total time=   2.3s\n",
      "[19:49:28] WARNING: /Users/travis/build/dmlc/xgboost/src/learner.cc:1115: Starting in XGBoost 1.3.0, the default evaluation metric used with the objective 'binary:logistic' was changed from 'error' to 'logloss'. Explicitly set eval_metric if you'd like to restore the old behavior.\n",
      "[CV 1/1] END eta=0.2, max_depth=10, min_child_weight=0.2, n_estimators=300; accuracy: (test=0.900) f1: (test=0.400) precision: (test=0.360) recall: (test=0.450) total time=   5.0s\n",
      "[19:49:33] WARNING: /Users/travis/build/dmlc/xgboost/src/learner.cc:1115: Starting in XGBoost 1.3.0, the default evaluation metric used with the objective 'binary:logistic' was changed from 'error' to 'logloss'. Explicitly set eval_metric if you'd like to restore the old behavior.\n"
     ]
    },
    {
     "data": {
      "text/plain": [
       "GridSearchCV(cv=PredefinedSplit(test_fold=array([-1, -1, ...,  0,  0])),\n",
       "             estimator=XGBClassifier(base_score=None, booster=None,\n",
       "                                     colsample_bylevel=None,\n",
       "                                     colsample_bynode=None,\n",
       "                                     colsample_bytree=None,\n",
       "                                     enable_categorical=False, gamma=None,\n",
       "                                     gpu_id=None, importance_type=None,\n",
       "                                     interaction_constraints=None,\n",
       "                                     learning_rate=None, max_delta_step=None,\n",
       "                                     max_depth=None, min_child_we...\n",
       "                                     n_estimators=100, n_jobs=None,\n",
       "                                     num_parallel_tree=None, predictor=None,\n",
       "                                     random_state=1, reg_alpha=None,\n",
       "                                     reg_lambda=None, scale_pos_weight=None,\n",
       "                                     subsample=None, tree_method=None,\n",
       "                                     validate_parameters=None, verbosity=None),\n",
       "             param_grid={'eta': [0.1, 0.2], 'max_depth': [3, 10],\n",
       "                         'min_child_weight': [0.1, 0.2],\n",
       "                         'n_estimators': [100, 300]},\n",
       "             refit='f1', scoring=['accuracy', 'recall', 'precision', 'f1'],\n",
       "             verbose=5)"
      ]
     },
     "execution_count": 54,
     "metadata": {},
     "output_type": "execute_result"
    }
   ],
   "source": [
    "xgb = XGBClassifier(random_state=1)\n",
    "xgb_grid = GridSearchCV(xgb,param_grid = {'n_estimators':[100,300],\n",
    "                                       'max_depth':[3,10],'min_child_weight':[0.1,0.2],\n",
    "                                         'eta':[0.1,0.2]},\n",
    "                       scoring=['accuracy','recall','precision','f1'],\n",
    "                        verbose=5,cv=ps,refit='f1')\n",
    "xgb_grid.fit(array_x,array_y)"
   ]
  },
  {
   "cell_type": "markdown",
   "metadata": {},
   "source": [
    "F1 Score"
   ]
  },
  {
   "cell_type": "code",
   "execution_count": 55,
   "metadata": {},
   "outputs": [],
   "source": [
    "xgb_resampled = xgb_grid.best_estimator_"
   ]
  },
  {
   "cell_type": "code",
   "execution_count": 56,
   "metadata": {
    "scrolled": true
   },
   "outputs": [
    {
     "data": {
      "text/plain": [
       "0.9637188208616779"
      ]
     },
     "execution_count": 56,
     "metadata": {},
     "output_type": "execute_result"
    }
   ],
   "source": [
    "f1_score(y_resampled,xgb_resampled.predict(X_resampled))"
   ]
  },
  {
   "cell_type": "code",
   "execution_count": 57,
   "metadata": {},
   "outputs": [
    {
     "data": {
      "text/plain": [
       "0.5762711864406779"
      ]
     },
     "execution_count": 57,
     "metadata": {},
     "output_type": "execute_result"
    }
   ],
   "source": [
    "f1_score(test_y,xgb_resampled.predict(test_x))"
   ]
  },
  {
   "cell_type": "code",
   "execution_count": 58,
   "metadata": {},
   "outputs": [
    {
     "data": {
      "text/plain": [
       "XGBClassifier(base_score=0.5, booster='gbtree', colsample_bylevel=1,\n",
       "              colsample_bynode=1, colsample_bytree=1, enable_categorical=False,\n",
       "              eta=0.2, gamma=0, gpu_id=-1, importance_type=None,\n",
       "              interaction_constraints='', learning_rate=0.200000003,\n",
       "              max_delta_step=0, max_depth=3, min_child_weight=0.2, missing=nan,\n",
       "              monotone_constraints='()', n_estimators=100, n_jobs=8,\n",
       "              num_parallel_tree=1, predictor='auto', random_state=1,\n",
       "              reg_alpha=0, reg_lambda=1, scale_pos_weight=1, subsample=1,\n",
       "              tree_method='exact', validate_parameters=1, verbosity=None)"
      ]
     },
     "execution_count": 58,
     "metadata": {},
     "output_type": "execute_result"
    }
   ],
   "source": [
    "xgb_resampled"
   ]
  },
  {
   "cell_type": "markdown",
   "metadata": {},
   "source": [
    "Accuracy Score"
   ]
  },
  {
   "cell_type": "code",
   "execution_count": 59,
   "metadata": {},
   "outputs": [
    {
     "data": {
      "text/plain": [
       "0.9632277834525026"
      ]
     },
     "execution_count": 59,
     "metadata": {},
     "output_type": "execute_result"
    }
   ],
   "source": [
    "xgb_resampled = xgb_grid.best_estimator_\n",
    "xgb_resampled.score(X_resampled,y_resampled)"
   ]
  },
  {
   "cell_type": "code",
   "execution_count": 60,
   "metadata": {},
   "outputs": [
    {
     "data": {
      "text/plain": [
       "0.9075785582255084"
      ]
     },
     "execution_count": 60,
     "metadata": {},
     "output_type": "execute_result"
    }
   ],
   "source": [
    "xgb_resampled.score(test_x,test_y)"
   ]
  },
  {
   "cell_type": "markdown",
   "metadata": {},
   "source": [
    "Recall Score"
   ]
  },
  {
   "cell_type": "code",
   "execution_count": 61,
   "metadata": {
    "scrolled": true
   },
   "outputs": [
    {
     "data": {
      "text/plain": [
       "0.9767620020429009"
      ]
     },
     "execution_count": 61,
     "metadata": {},
     "output_type": "execute_result"
    }
   ],
   "source": [
    "recall_score(y_resampled,xgb_resampled.predict(X_resampled))"
   ]
  },
  {
   "cell_type": "code",
   "execution_count": 62,
   "metadata": {},
   "outputs": [
    {
     "data": {
      "text/plain": [
       "0.6296296296296297"
      ]
     },
     "execution_count": 62,
     "metadata": {},
     "output_type": "execute_result"
    }
   ],
   "source": [
    "recall_score(test_y,xgb_resampled.predict(test_x))"
   ]
  },
  {
   "cell_type": "markdown",
   "metadata": {},
   "source": [
    "Precision Score"
   ]
  },
  {
   "cell_type": "code",
   "execution_count": 63,
   "metadata": {
    "scrolled": true
   },
   "outputs": [
    {
     "data": {
      "text/plain": [
       "0.9510193933366484"
      ]
     },
     "execution_count": 63,
     "metadata": {},
     "output_type": "execute_result"
    }
   ],
   "source": [
    "precision_score(y_resampled,xgb_resampled.predict(X_resampled))"
   ]
  },
  {
   "cell_type": "code",
   "execution_count": 64,
   "metadata": {},
   "outputs": [
    {
     "data": {
      "text/plain": [
       "0.53125"
      ]
     },
     "execution_count": 64,
     "metadata": {},
     "output_type": "execute_result"
    }
   ],
   "source": [
    "precision_score(test_y,xgb_resampled.predict(test_x))"
   ]
  },
  {
   "cell_type": "code",
   "execution_count": 65,
   "metadata": {},
   "outputs": [
    {
     "data": {
      "text/plain": [
       "0.0    477\n",
       "1.0     64\n",
       "dtype: int64"
      ]
     },
     "execution_count": 65,
     "metadata": {},
     "output_type": "execute_result"
    }
   ],
   "source": [
    "pd.Series(xgb_resampled.predict(test_x)).value_counts()"
   ]
  },
  {
   "cell_type": "code",
   "execution_count": 66,
   "metadata": {
    "scrolled": true
   },
   "outputs": [
    {
     "data": {
      "text/plain": [
       "PotentialFraud\n",
       "0.0               487\n",
       "1.0                54\n",
       "dtype: int64"
      ]
     },
     "execution_count": 66,
     "metadata": {},
     "output_type": "execute_result"
    }
   ],
   "source": [
    "test_y.value_counts()"
   ]
  },
  {
   "cell_type": "markdown",
   "metadata": {},
   "source": [
    "AUC Score"
   ]
  },
  {
   "cell_type": "code",
   "execution_count": 67,
   "metadata": {},
   "outputs": [],
   "source": [
    "from sklearn.metrics import roc_auc_score"
   ]
  },
  {
   "cell_type": "code",
   "execution_count": 68,
   "metadata": {},
   "outputs": [
    {
     "data": {
      "text/plain": [
       "0.9632277834525026"
      ]
     },
     "execution_count": 68,
     "metadata": {},
     "output_type": "execute_result"
    }
   ],
   "source": [
    "roc_auc_score(y_resampled,xgb_resampled.predict(X_resampled))"
   ]
  },
  {
   "cell_type": "code",
   "execution_count": 69,
   "metadata": {},
   "outputs": [
    {
     "data": {
      "text/plain": [
       "0.7840139934595787"
      ]
     },
     "execution_count": 69,
     "metadata": {},
     "output_type": "execute_result"
    }
   ],
   "source": [
    "roc_auc_score(test_y,xgb_resampled.predict(test_x))"
   ]
  },
  {
   "cell_type": "code",
   "execution_count": 70,
   "metadata": {},
   "outputs": [
    {
     "data": {
      "text/plain": [
       "<Figure size 1440x720 with 0 Axes>"
      ]
     },
     "metadata": {},
     "output_type": "display_data"
    },
    {
     "data": {
      "image/png": "[encoded data removed]",
      "text/plain": [
       "<Figure size 432x288 with 2 Axes>"
      ]
     },
     "metadata": {
      "needs_background": "light"
     },
     "output_type": "display_data"
    }
   ],
   "source": [
    "plt.figure(figsize=(20,10))\n",
    "cm = ConfusionMatrixDisplay(confusion_matrix(test_y,xgb_resampled.predict(test_x),labels=xgb_resampled.classes_),display_labels=xgb_resampled.classes_)\n",
    "cm.plot()\n",
    "plt.show()"
   ]
  },
  {
   "cell_type": "markdown",
   "metadata": {},
   "source": [
    "# Random Forest"
   ]
  },
  {
   "cell_type": "markdown",
   "metadata": {},
   "source": [
    "## Without Adding Graph Features"
   ]
  },
  {
   "cell_type": "code",
   "execution_count": 71,
   "metadata": {},
   "outputs": [],
   "source": [
    "from sklearn.ensemble import RandomForestClassifier"
   ]
  },
  {
   "cell_type": "code",
   "execution_count": 72,
   "metadata": {},
   "outputs": [
    {
     "name": "stdout",
     "output_type": "stream",
     "text": [
      "Fitting 1 folds for each of 16 candidates, totalling 16 fits\n",
      "[CV 1/1] END max_depth=10, max_features=sqrt, min_samples_leaf=6, n_estimators=50; accuracy: (test=0.885) f1: (test=0.446) precision: (test=0.347) recall: (test=0.625) total time=   0.9s\n",
      "[CV 1/1] END max_depth=10, max_features=sqrt, min_samples_leaf=6, n_estimators=100; accuracy: (test=0.885) f1: (test=0.426) precision: (test=0.338) recall: (test=0.575) total time=   1.6s\n",
      "[CV 1/1] END max_depth=10, max_features=sqrt, min_samples_leaf=10, n_estimators=50; accuracy: (test=0.876) f1: (test=0.385) precision: (test=0.304) recall: (test=0.525) total time=   1.1s\n",
      "[CV 1/1] END max_depth=10, max_features=sqrt, min_samples_leaf=10, n_estimators=100; accuracy: (test=0.884) f1: (test=0.432) precision: (test=0.338) recall: (test=0.600) total time=   1.8s\n",
      "[CV 1/1] END max_depth=10, max_features=20, min_samples_leaf=6, n_estimators=50; accuracy: (test=0.874) f1: (test=0.414) precision: (test=0.316) recall: (test=0.600) total time=   2.9s\n",
      "[CV 1/1] END max_depth=10, max_features=20, min_samples_leaf=6, n_estimators=100; accuracy: (test=0.874) f1: (test=0.414) precision: (test=0.316) recall: (test=0.600) total time=   5.7s\n",
      "[CV 1/1] END max_depth=10, max_features=20, min_samples_leaf=10, n_estimators=50; accuracy: (test=0.872) f1: (test=0.410) precision: (test=0.312) recall: (test=0.600) total time=   2.7s\n",
      "[CV 1/1] END max_depth=10, max_features=20, min_samples_leaf=10, n_estimators=100; accuracy: (test=0.876) f1: (test=0.437) precision: (test=0.329) recall: (test=0.650) total time=   5.5s\n",
      "[CV 1/1] END max_depth=20, max_features=sqrt, min_samples_leaf=6, n_estimators=50; accuracy: (test=0.895) f1: (test=0.436) precision: (test=0.361) recall: (test=0.550) total time=   1.0s\n",
      "[CV 1/1] END max_depth=20, max_features=sqrt, min_samples_leaf=6, n_estimators=100; accuracy: (test=0.895) f1: (test=0.412) precision: (test=0.351) recall: (test=0.500) total time=   2.0s\n",
      "[CV 1/1] END max_depth=20, max_features=sqrt, min_samples_leaf=10, n_estimators=50; accuracy: (test=0.893) f1: (test=0.431) precision: (test=0.355) recall: (test=0.550) total time=   0.9s\n",
      "[CV 1/1] END max_depth=20, max_features=sqrt, min_samples_leaf=10, n_estimators=100; accuracy: (test=0.895) f1: (test=0.467) precision: (test=0.373) recall: (test=0.625) total time=   1.9s\n",
      "[CV 1/1] END max_depth=20, max_features=20, min_samples_leaf=6, n_estimators=50; accuracy: (test=0.885) f1: (test=0.436) precision: (test=0.343) recall: (test=0.600) total time=   3.6s\n",
      "[CV 1/1] END max_depth=20, max_features=20, min_samples_leaf=6, n_estimators=100; accuracy: (test=0.887) f1: (test=0.440) precision: (test=0.348) recall: (test=0.600) total time=   7.3s\n",
      "[CV 1/1] END max_depth=20, max_features=20, min_samples_leaf=10, n_estimators=50; accuracy: (test=0.874) f1: (test=0.414) precision: (test=0.316) recall: (test=0.600) total time=   3.4s\n",
      "[CV 1/1] END max_depth=20, max_features=20, min_samples_leaf=10, n_estimators=100; accuracy: (test=0.878) f1: (test=0.421) precision: (test=0.324) recall: (test=0.600) total time=   6.8s\n"
     ]
    },
    {
     "data": {
      "text/plain": [
       "GridSearchCV(cv=PredefinedSplit(test_fold=array([-1, -1, ...,  0,  0])),\n",
       "             estimator=RandomForestClassifier(random_state=1),\n",
       "             param_grid={'max_depth': [10, 20], 'max_features': ['sqrt', 20],\n",
       "                         'min_samples_leaf': [6, 10],\n",
       "                         'n_estimators': [50, 100]},\n",
       "             refit='f1', scoring=['accuracy', 'recall', 'precision', 'f1'],\n",
       "             verbose=5)"
      ]
     },
     "execution_count": 72,
     "metadata": {},
     "output_type": "execute_result"
    }
   ],
   "source": [
    "rf = RandomForestClassifier(random_state=1)\n",
    "rf_grid = GridSearchCV(rf,param_grid = {'n_estimators':[50,100],\n",
    "                                       'max_depth':[10,20],'min_samples_leaf':[6,10],\n",
    "                                          'max_features':['sqrt',20]},\n",
    "                       scoring=['accuracy','recall','precision','f1'],\n",
    "                        verbose=5,cv=ps,refit='f1')\n",
    "rf_grid.fit(array_x,array_y)"
   ]
  },
  {
   "cell_type": "markdown",
   "metadata": {},
   "source": [
    "F1 Score"
   ]
  },
  {
   "cell_type": "code",
   "execution_count": 73,
   "metadata": {},
   "outputs": [],
   "source": [
    "rf_resampled = rf_grid.best_estimator_"
   ]
  },
  {
   "cell_type": "code",
   "execution_count": 74,
   "metadata": {
    "scrolled": true
   },
   "outputs": [
    {
     "data": {
      "text/plain": [
       "0.9616653973089616"
      ]
     },
     "execution_count": 74,
     "metadata": {},
     "output_type": "execute_result"
    }
   ],
   "source": [
    "f1_score(y_resampled,rf_resampled.predict(X_resampled))"
   ]
  },
  {
   "cell_type": "code",
   "execution_count": 75,
   "metadata": {},
   "outputs": [
    {
     "data": {
      "text/plain": [
       "0.5636363636363636"
      ]
     },
     "execution_count": 75,
     "metadata": {},
     "output_type": "execute_result"
    }
   ],
   "source": [
    "f1_score(test_y,rf_resampled.predict(test_x))"
   ]
  },
  {
   "cell_type": "code",
   "execution_count": 76,
   "metadata": {},
   "outputs": [
    {
     "data": {
      "text/plain": [
       "RandomForestClassifier(max_depth=20, max_features='sqrt', min_samples_leaf=10,\n",
       "                       random_state=1)"
      ]
     },
     "execution_count": 76,
     "metadata": {},
     "output_type": "execute_result"
    }
   ],
   "source": [
    "rf_resampled"
   ]
  },
  {
   "cell_type": "markdown",
   "metadata": {},
   "source": [
    "Accuracy Score"
   ]
  },
  {
   "cell_type": "code",
   "execution_count": 77,
   "metadata": {},
   "outputs": [
    {
     "data": {
      "text/plain": [
       "0.9614402451481103"
      ]
     },
     "execution_count": 77,
     "metadata": {},
     "output_type": "execute_result"
    }
   ],
   "source": [
    "rf_resampled = rf_grid.best_estimator_\n",
    "rf_resampled.score(X_resampled,y_resampled)"
   ]
  },
  {
   "cell_type": "code",
   "execution_count": 78,
   "metadata": {},
   "outputs": [
    {
     "data": {
      "text/plain": [
       "0.911275415896488"
      ]
     },
     "execution_count": 78,
     "metadata": {},
     "output_type": "execute_result"
    }
   ],
   "source": [
    "rf_resampled.score(test_x,test_y)"
   ]
  },
  {
   "cell_type": "markdown",
   "metadata": {},
   "source": [
    "Recall Score"
   ]
  },
  {
   "cell_type": "code",
   "execution_count": 79,
   "metadata": {
    "scrolled": true
   },
   "outputs": [
    {
     "data": {
      "text/plain": [
       "0.9673135852911133"
      ]
     },
     "execution_count": 79,
     "metadata": {},
     "output_type": "execute_result"
    }
   ],
   "source": [
    "recall_score(y_resampled,rf_resampled.predict(X_resampled))"
   ]
  },
  {
   "cell_type": "code",
   "execution_count": 80,
   "metadata": {},
   "outputs": [
    {
     "data": {
      "text/plain": [
       "0.5740740740740741"
      ]
     },
     "execution_count": 80,
     "metadata": {},
     "output_type": "execute_result"
    }
   ],
   "source": [
    "recall_score(test_y,rf_resampled.predict(test_x))"
   ]
  },
  {
   "cell_type": "markdown",
   "metadata": {},
   "source": [
    "Precision Score"
   ]
  },
  {
   "cell_type": "code",
   "execution_count": 81,
   "metadata": {
    "scrolled": true
   },
   "outputs": [
    {
     "data": {
      "text/plain": [
       "0.956082786471479"
      ]
     },
     "execution_count": 81,
     "metadata": {},
     "output_type": "execute_result"
    }
   ],
   "source": [
    "precision_score(y_resampled,rf_resampled.predict(X_resampled))"
   ]
  },
  {
   "cell_type": "code",
   "execution_count": 82,
   "metadata": {},
   "outputs": [
    {
     "data": {
      "text/plain": [
       "0.5535714285714286"
      ]
     },
     "execution_count": 82,
     "metadata": {},
     "output_type": "execute_result"
    }
   ],
   "source": [
    "precision_score(test_y,rf_resampled.predict(test_x))"
   ]
  },
  {
   "cell_type": "code",
   "execution_count": 83,
   "metadata": {},
   "outputs": [
    {
     "data": {
      "text/plain": [
       "0.0    485\n",
       "1.0     56\n",
       "dtype: int64"
      ]
     },
     "execution_count": 83,
     "metadata": {},
     "output_type": "execute_result"
    }
   ],
   "source": [
    "pd.Series(rf_resampled.predict(test_x)).value_counts()"
   ]
  },
  {
   "cell_type": "code",
   "execution_count": 84,
   "metadata": {
    "scrolled": true
   },
   "outputs": [
    {
     "data": {
      "text/plain": [
       "PotentialFraud\n",
       "0.0               487\n",
       "1.0                54\n",
       "dtype: int64"
      ]
     },
     "execution_count": 84,
     "metadata": {},
     "output_type": "execute_result"
    }
   ],
   "source": [
    "test_y.value_counts()"
   ]
  },
  {
   "cell_type": "markdown",
   "metadata": {},
   "source": [
    "AUC Score"
   ]
  },
  {
   "cell_type": "code",
   "execution_count": 85,
   "metadata": {},
   "outputs": [],
   "source": [
    "from sklearn.metrics import roc_auc_score"
   ]
  },
  {
   "cell_type": "code",
   "execution_count": 86,
   "metadata": {},
   "outputs": [
    {
     "data": {
      "text/plain": [
       "0.9614402451481102"
      ]
     },
     "execution_count": 86,
     "metadata": {},
     "output_type": "execute_result"
    }
   ],
   "source": [
    "roc_auc_score(y_resampled,rf_resampled.predict(X_resampled))"
   ]
  },
  {
   "cell_type": "code",
   "execution_count": 87,
   "metadata": {},
   "outputs": [
    {
     "data": {
      "text/plain": [
       "0.7613696859076735"
      ]
     },
     "execution_count": 87,
     "metadata": {},
     "output_type": "execute_result"
    }
   ],
   "source": [
    "roc_auc_score(test_y,rf_resampled.predict(test_x))"
   ]
  },
  {
   "cell_type": "code",
   "execution_count": 88,
   "metadata": {},
   "outputs": [
    {
     "data": {
      "text/plain": [
       "<Figure size 1440x720 with 0 Axes>"
      ]
     },
     "metadata": {},
     "output_type": "display_data"
    },
    {
     "data": {
      "image/png": "[encoded data removed]",
      "text/plain": [
       "<Figure size 432x288 with 2 Axes>"
      ]
     },
     "metadata": {
      "needs_background": "light"
     },
     "output_type": "display_data"
    }
   ],
   "source": [
    "plt.figure(figsize=(20,10))\n",
    "cm = ConfusionMatrixDisplay(confusion_matrix(test_y,rf_resampled.predict(test_x),labels=rf_resampled.classes_),display_labels=rf_resampled.classes_)\n",
    "cm.plot()\n",
    "plt.show()"
   ]
  },
  {
   "cell_type": "markdown",
   "metadata": {},
   "source": [
    "feature importance on data with graph features"
   ]
  },
  {
   "cell_type": "code",
   "execution_count": 89,
   "metadata": {},
   "outputs": [
    {
     "data": {
      "image/png": "[encoded data removed]",
      "text/plain": [
       "<Figure size 576x504 with 1 Axes>"
      ]
     },
     "metadata": {
      "needs_background": "light"
     },
     "output_type": "display_data"
    }
   ],
   "source": [
    "features = train_x.columns\n",
    "importances = rf_resampled.feature_importances_\n",
    "indices = (np.argsort(importances))[-30:]\n",
    "plt.figure(figsize=(8,7))\n",
    "plt.title('Feature Importances')\n",
    "plt.barh(range(len(indices)), importances[indices], color='b', align='center')\n",
    "plt.yticks(range(len(indices)), [features[i] for i in indices])\n",
    "plt.xlabel('Relative Importance')\n",
    "plt.show()"
   ]
  },
  {
   "cell_type": "markdown",
   "metadata": {},
   "source": [
    "## With Graph Features"
   ]
  },
  {
   "cell_type": "code",
   "execution_count": 91,
   "metadata": {},
   "outputs": [],
   "source": [
    "graph_train = pd.read_csv('Final_Dataset/x_train_graph_features.csv')\n",
    "graph_valid = pd.read_csv('Final_Dataset/x_valid_graph_features.csv')\n",
    "graph_test = pd.read_csv('Final_Dataset/x_test_graph_features.csv')"
   ]
  },
  {
   "cell_type": "code",
   "execution_count": 92,
   "metadata": {},
   "outputs": [],
   "source": [
    "train_x = pd.concat([train_x,graph_train],axis=1)\n",
    "valid_x = pd.concat([valid_x,graph_valid],axis=1)\n",
    "test_x = pd.concat([test_x,graph_test],axis=1)"
   ]
  },
  {
   "cell_type": "code",
   "execution_count": 93,
   "metadata": {},
   "outputs": [],
   "source": [
    "random_seed=1"
   ]
  },
  {
   "cell_type": "code",
   "execution_count": 94,
   "metadata": {},
   "outputs": [
    {
     "name": "stdout",
     "output_type": "stream",
     "text": [
      "[('PotentialFraud', 1)]\n"
     ]
    }
   ],
   "source": [
    "from imblearn.over_sampling import SMOTE\n",
    "X_resampled, y_resampled = SMOTE().fit_resample(train_x, train_y)\n",
    "\n",
    "from collections import Counter\n",
    "print(sorted(Counter(y_resampled).items()))"
   ]
  },
  {
   "cell_type": "code",
   "execution_count": 95,
   "metadata": {},
   "outputs": [],
   "source": [
    "train_array_x = X_resampled.to_numpy()\n",
    "train_array_y = y_resampled.to_numpy()\n",
    "valid_array_x = valid_x.to_numpy()\n",
    "valid_array_y = valid_y.to_numpy()\n",
    "array_x = np.concatenate([train_array_x,valid_array_x],axis=0)\n",
    "array_y = np.concatenate([train_array_y,valid_array_y],axis=0)\n",
    "test_fold = np.concatenate([np.array(train_array_x.shape[0]*[-1,]),np.array(valid_array_x.shape[0]*[0,])],axis=0)"
   ]
  },
  {
   "cell_type": "code",
   "execution_count": 96,
   "metadata": {},
   "outputs": [],
   "source": [
    "from sklearn.model_selection import PredefinedSplit"
   ]
  },
  {
   "cell_type": "code",
   "execution_count": 97,
   "metadata": {},
   "outputs": [],
   "source": [
    "ps = PredefinedSplit(test_fold=test_fold)"
   ]
  },
  {
   "cell_type": "code",
   "execution_count": 98,
   "metadata": {},
   "outputs": [
    {
     "name": "stdout",
     "output_type": "stream",
     "text": [
      "Fitting 1 folds for each of 16 candidates, totalling 16 fits\n",
      "[CV 1/1] END max_depth=10, max_features=sqrt, min_samples_leaf=10, n_estimators=100; accuracy: (test=0.889) f1: (test=0.464) precision: (test=0.361) recall: (test=0.650) total time=   1.7s\n",
      "[CV 1/1] END max_depth=10, max_features=sqrt, min_samples_leaf=10, n_estimators=300; accuracy: (test=0.885) f1: (test=0.446) precision: (test=0.347) recall: (test=0.625) total time=   4.8s\n",
      "[CV 1/1] END max_depth=10, max_features=sqrt, min_samples_leaf=20, n_estimators=100; accuracy: (test=0.889) f1: (test=0.474) precision: (test=0.365) recall: (test=0.675) total time=   1.5s\n",
      "[CV 1/1] END max_depth=10, max_features=sqrt, min_samples_leaf=20, n_estimators=300; accuracy: (test=0.891) f1: (test=0.478) precision: (test=0.370) recall: (test=0.675) total time=   4.5s\n",
      "[CV 1/1] END max_depth=10, max_features=20, min_samples_leaf=10, n_estimators=100; accuracy: (test=0.889) f1: (test=0.455) precision: (test=0.357) recall: (test=0.625) total time=   5.4s\n",
      "[CV 1/1] END max_depth=10, max_features=20, min_samples_leaf=10, n_estimators=300; accuracy: (test=0.893) f1: (test=0.473) precision: (test=0.371) recall: (test=0.650) total time=  16.2s\n",
      "[CV 1/1] END max_depth=10, max_features=20, min_samples_leaf=20, n_estimators=100; accuracy: (test=0.891) f1: (test=0.478) precision: (test=0.370) recall: (test=0.675) total time=   5.2s\n",
      "[CV 1/1] END max_depth=10, max_features=20, min_samples_leaf=20, n_estimators=300; accuracy: (test=0.889) f1: (test=0.464) precision: (test=0.361) recall: (test=0.650) total time=  15.7s\n",
      "[CV 1/1] END max_depth=20, max_features=sqrt, min_samples_leaf=10, n_estimators=100; accuracy: (test=0.898) f1: (test=0.476) precision: (test=0.385) recall: (test=0.625) total time=   1.9s\n",
      "[CV 1/1] END max_depth=20, max_features=sqrt, min_samples_leaf=10, n_estimators=300; accuracy: (test=0.900) f1: (test=0.471) precision: (test=0.387) recall: (test=0.600) total time=   5.7s\n",
      "[CV 1/1] END max_depth=20, max_features=sqrt, min_samples_leaf=20, n_estimators=100; accuracy: (test=0.893) f1: (test=0.482) precision: (test=0.375) recall: (test=0.675) total time=   1.7s\n",
      "[CV 1/1] END max_depth=20, max_features=sqrt, min_samples_leaf=20, n_estimators=300; accuracy: (test=0.891) f1: (test=0.468) precision: (test=0.366) recall: (test=0.650) total time=   5.1s\n",
      "[CV 1/1] END max_depth=20, max_features=20, min_samples_leaf=10, n_estimators=100; accuracy: (test=0.893) f1: (test=0.453) precision: (test=0.364) recall: (test=0.600) total time=   6.8s\n",
      "[CV 1/1] END max_depth=20, max_features=20, min_samples_leaf=10, n_estimators=300; accuracy: (test=0.893) f1: (test=0.453) precision: (test=0.364) recall: (test=0.600) total time=  20.6s\n",
      "[CV 1/1] END max_depth=20, max_features=20, min_samples_leaf=20, n_estimators=100; accuracy: (test=0.891) f1: (test=0.478) precision: (test=0.370) recall: (test=0.675) total time=   6.1s\n",
      "[CV 1/1] END max_depth=20, max_features=20, min_samples_leaf=20, n_estimators=300; accuracy: (test=0.889) f1: (test=0.474) precision: (test=0.365) recall: (test=0.675) total time=  18.1s\n"
     ]
    },
    {
     "data": {
      "text/plain": [
       "GridSearchCV(cv=PredefinedSplit(test_fold=array([-1, -1, ...,  0,  0])),\n",
       "             estimator=RandomForestClassifier(random_state=1),\n",
       "             param_grid={'max_depth': [10, 20], 'max_features': ['sqrt', 20],\n",
       "                         'min_samples_leaf': [10, 20],\n",
       "                         'n_estimators': [100, 300]},\n",
       "             refit='f1', scoring=['accuracy', 'recall', 'precision', 'f1'],\n",
       "             verbose=5)"
      ]
     },
     "execution_count": 98,
     "metadata": {},
     "output_type": "execute_result"
    }
   ],
   "source": [
    "rf = RandomForestClassifier(random_state=1)\n",
    "rf_grid = GridSearchCV(rf,param_grid = {'n_estimators':[100,300],\n",
    "                                       'max_depth':[10,20],'min_samples_leaf':[10,20],\n",
    "                                          'max_features':['sqrt',20]},\n",
    "                       scoring=['accuracy','recall','precision','f1'],\n",
    "                        verbose=5,cv=ps,refit='f1')\n",
    "rf_grid.fit(array_x,array_y)"
   ]
  },
  {
   "cell_type": "markdown",
   "metadata": {},
   "source": [
    "F1 Score"
   ]
  },
  {
   "cell_type": "code",
   "execution_count": 99,
   "metadata": {},
   "outputs": [],
   "source": [
    "rf_resampled = rf_grid.best_estimator_"
   ]
  },
  {
   "cell_type": "code",
   "execution_count": 100,
   "metadata": {
    "scrolled": true
   },
   "outputs": [
    {
     "data": {
      "text/plain": [
       "0.945915136162128"
      ]
     },
     "execution_count": 100,
     "metadata": {},
     "output_type": "execute_result"
    }
   ],
   "source": [
    "f1_score(y_resampled,rf_resampled.predict(X_resampled))"
   ]
  },
  {
   "cell_type": "code",
   "execution_count": 101,
   "metadata": {},
   "outputs": [
    {
     "data": {
      "text/plain": [
       "0.544"
      ]
     },
     "execution_count": 101,
     "metadata": {},
     "output_type": "execute_result"
    }
   ],
   "source": [
    "f1_score(test_y,rf_resampled.predict(test_x))"
   ]
  },
  {
   "cell_type": "code",
   "execution_count": 102,
   "metadata": {},
   "outputs": [
    {
     "data": {
      "text/plain": [
       "RandomForestClassifier(max_depth=20, max_features='sqrt', min_samples_leaf=20,\n",
       "                       random_state=1)"
      ]
     },
     "execution_count": 102,
     "metadata": {},
     "output_type": "execute_result"
    }
   ],
   "source": [
    "rf_resampled"
   ]
  },
  {
   "cell_type": "markdown",
   "metadata": {},
   "source": [
    "Accuracy Score"
   ]
  },
  {
   "cell_type": "code",
   "execution_count": 103,
   "metadata": {},
   "outputs": [
    {
     "data": {
      "text/plain": [
       "0.9454800817160368"
      ]
     },
     "execution_count": 103,
     "metadata": {},
     "output_type": "execute_result"
    }
   ],
   "source": [
    "rf_resampled = rf_grid.best_estimator_\n",
    "rf_resampled.score(X_resampled,y_resampled)"
   ]
  },
  {
   "cell_type": "code",
   "execution_count": 104,
   "metadata": {},
   "outputs": [
    {
     "data": {
      "text/plain": [
       "0.8946395563770795"
      ]
     },
     "execution_count": 104,
     "metadata": {},
     "output_type": "execute_result"
    }
   ],
   "source": [
    "rf_resampled.score(test_x,test_y)"
   ]
  },
  {
   "cell_type": "markdown",
   "metadata": {},
   "source": [
    "Recall Score"
   ]
  },
  {
   "cell_type": "code",
   "execution_count": 105,
   "metadata": {
    "scrolled": true
   },
   "outputs": [
    {
     "data": {
      "text/plain": [
       "0.9535240040858018"
      ]
     },
     "execution_count": 105,
     "metadata": {},
     "output_type": "execute_result"
    }
   ],
   "source": [
    "recall_score(y_resampled,rf_resampled.predict(X_resampled))"
   ]
  },
  {
   "cell_type": "code",
   "execution_count": 106,
   "metadata": {},
   "outputs": [
    {
     "data": {
      "text/plain": [
       "0.6296296296296297"
      ]
     },
     "execution_count": 106,
     "metadata": {},
     "output_type": "execute_result"
    }
   ],
   "source": [
    "recall_score(test_y,rf_resampled.predict(test_x))"
   ]
  },
  {
   "cell_type": "markdown",
   "metadata": {},
   "source": [
    "Precision Score"
   ]
  },
  {
   "cell_type": "code",
   "execution_count": 107,
   "metadata": {
    "scrolled": true
   },
   "outputs": [
    {
     "data": {
      "text/plain": [
       "0.9384267403870319"
      ]
     },
     "execution_count": 107,
     "metadata": {},
     "output_type": "execute_result"
    }
   ],
   "source": [
    "precision_score(y_resampled,rf_resampled.predict(X_resampled))"
   ]
  },
  {
   "cell_type": "code",
   "execution_count": 108,
   "metadata": {},
   "outputs": [
    {
     "data": {
      "text/plain": [
       "0.4788732394366197"
      ]
     },
     "execution_count": 108,
     "metadata": {},
     "output_type": "execute_result"
    }
   ],
   "source": [
    "precision_score(test_y,rf_resampled.predict(test_x))"
   ]
  },
  {
   "cell_type": "code",
   "execution_count": 109,
   "metadata": {},
   "outputs": [
    {
     "data": {
      "text/plain": [
       "0.0    470\n",
       "1.0     71\n",
       "dtype: int64"
      ]
     },
     "execution_count": 109,
     "metadata": {},
     "output_type": "execute_result"
    }
   ],
   "source": [
    "pd.Series(rf_resampled.predict(test_x)).value_counts()"
   ]
  },
  {
   "cell_type": "code",
   "execution_count": 110,
   "metadata": {
    "scrolled": true
   },
   "outputs": [
    {
     "data": {
      "text/plain": [
       "PotentialFraud\n",
       "0.0               487\n",
       "1.0                54\n",
       "dtype: int64"
      ]
     },
     "execution_count": 110,
     "metadata": {},
     "output_type": "execute_result"
    }
   ],
   "source": [
    "test_y.value_counts()"
   ]
  },
  {
   "cell_type": "markdown",
   "metadata": {},
   "source": [
    "AUC Score"
   ]
  },
  {
   "cell_type": "code",
   "execution_count": 111,
   "metadata": {},
   "outputs": [],
   "source": [
    "from sklearn.metrics import roc_auc_score"
   ]
  },
  {
   "cell_type": "code",
   "execution_count": 112,
   "metadata": {},
   "outputs": [
    {
     "data": {
      "text/plain": [
       "0.9454800817160367"
      ]
     },
     "execution_count": 112,
     "metadata": {},
     "output_type": "execute_result"
    }
   ],
   "source": [
    "roc_auc_score(y_resampled,rf_resampled.predict(X_resampled))"
   ]
  },
  {
   "cell_type": "code",
   "execution_count": 113,
   "metadata": {},
   "outputs": [
    {
     "data": {
      "text/plain": [
       "0.776827135143357"
      ]
     },
     "execution_count": 113,
     "metadata": {},
     "output_type": "execute_result"
    }
   ],
   "source": [
    "roc_auc_score(test_y,rf_resampled.predict(test_x))"
   ]
  },
  {
   "cell_type": "code",
   "execution_count": 114,
   "metadata": {},
   "outputs": [
    {
     "data": {
      "text/plain": [
       "<Figure size 1440x720 with 0 Axes>"
      ]
     },
     "metadata": {},
     "output_type": "display_data"
    },
    {
     "data": {
      "image/png": "[encoded data removed]",
      "text/plain": [
       "<Figure size 432x288 with 2 Axes>"
      ]
     },
     "metadata": {
      "needs_background": "light"
     },
     "output_type": "display_data"
    }
   ],
   "source": [
    "plt.figure(figsize=(20,10))\n",
    "cm = ConfusionMatrixDisplay(confusion_matrix(test_y,rf_resampled.predict(test_x),labels=rf_resampled.classes_),display_labels=rf_resampled.classes_)\n",
    "cm.plot()\n",
    "plt.show()"
   ]
  }
 ],
 "metadata": {
  "kernelspec": {
   "display_name": "Python 3",
   "language": "python",
   "name": "python3"
  },
  "language_info": {
   "codemirror_mode": {
    "name": "ipython",
    "version": 3
   },
   "file_extension": ".py",
   "mimetype": "text/x-python",
   "name": "python",
   "nbconvert_exporter": "python",
   "pygments_lexer": "ipython3",
   "version": "3.6.8"
  },
  "toc": {
   "base_numbering": 1,
   "nav_menu": {},
   "number_sections": true,
   "sideBar": true,
   "skip_h1_title": false,
   "title_cell": "Table of Contents",
   "title_sidebar": "Contents",
   "toc_cell": false,
   "toc_position": {},
   "toc_section_display": true,
   "toc_window_display": false
  }
 },
 "nbformat": 4,
 "nbformat_minor": 4
}
