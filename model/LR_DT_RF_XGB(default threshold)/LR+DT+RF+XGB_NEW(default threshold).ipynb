{
 "cells": [
  {
   "cell_type": "code",
   "execution_count": 2,
   "metadata": {},
   "outputs": [],
   "source": [
    "import warnings\n",
    "warnings.filterwarnings(\"ignore\")"
   ]
  },
  {
   "cell_type": "code",
   "execution_count": 3,
   "metadata": {},
   "outputs": [],
   "source": [
    "import pandas as pd\n",
    "import numpy as np\n",
    "import matplotlib.pyplot as plt"
   ]
  },
  {
   "cell_type": "code",
   "execution_count": 4,
   "metadata": {},
   "outputs": [],
   "source": [
    "train_x = pd.read_csv('../../data/x_train_new.csv')\n",
    "train_y = pd.read_csv('../../data/y_train_new.csv')\n",
    "valid_x = pd.read_csv('../../data/x_valid_new.csv')\n",
    "valid_y = pd.read_csv('../../data/y_valid_new.csv')\n",
    "test_x = pd.read_csv('../../data/x_test_new.csv')\n",
    "test_y = pd.read_csv('../../data/y_test_new.csv')"
   ]
  },
  {
   "cell_type": "code",
   "execution_count": 5,
   "metadata": {},
   "outputs": [],
   "source": [
    "random_seed=1"
   ]
  },
  {
   "cell_type": "code",
   "execution_count": 6,
   "metadata": {},
   "outputs": [
    {
     "name": "stdout",
     "output_type": "stream",
     "text": [
      "[('PotentialFraud', 1)]\n"
     ]
    }
   ],
   "source": [
    "from imblearn.over_sampling import SMOTE\n",
    "X_resampled, y_resampled = SMOTE().fit_resample(train_x, train_y)\n",
    "\n",
    "from collections import Counter\n",
    "print(sorted(Counter(y_resampled).items()))"
   ]
  },
  {
   "cell_type": "code",
   "execution_count": 7,
   "metadata": {},
   "outputs": [],
   "source": [
    "train_array_x = X_resampled.to_numpy()\n",
    "train_array_y = y_resampled.to_numpy()\n",
    "valid_array_x = valid_x.to_numpy()\n",
    "valid_array_y = valid_y.to_numpy()\n",
    "array_x = np.concatenate([train_array_x,valid_array_x],axis=0)\n",
    "array_y = np.concatenate([train_array_y,valid_array_y],axis=0)\n",
    "test_fold = np.concatenate([np.array(train_array_x.shape[0]*[-1,]),np.array(valid_array_x.shape[0]*[0,])],axis=0)"
   ]
  },
  {
   "cell_type": "code",
   "execution_count": 8,
   "metadata": {},
   "outputs": [],
   "source": [
    "from sklearn.model_selection import PredefinedSplit"
   ]
  },
  {
   "cell_type": "code",
   "execution_count": 9,
   "metadata": {},
   "outputs": [],
   "source": [
    "ps = PredefinedSplit(test_fold=test_fold)"
   ]
  },
  {
   "cell_type": "markdown",
   "metadata": {},
   "source": [
    "# Decision Tree"
   ]
  },
  {
   "cell_type": "code",
   "execution_count": 10,
   "metadata": {},
   "outputs": [],
   "source": [
    "from sklearn.tree import DecisionTreeClassifier,plot_tree"
   ]
  },
  {
   "cell_type": "code",
   "execution_count": 11,
   "metadata": {},
   "outputs": [],
   "source": [
    "from sklearn.metrics import precision_score,recall_score,ConfusionMatrixDisplay,confusion_matrix,f1_score"
   ]
  },
  {
   "cell_type": "code",
   "execution_count": 12,
   "metadata": {},
   "outputs": [],
   "source": [
    "from sklearn.model_selection import GridSearchCV"
   ]
  },
  {
   "cell_type": "markdown",
   "metadata": {},
   "source": [
    "## Selection Based on F1 Scores"
   ]
  },
  {
   "cell_type": "code",
   "execution_count": 13,
   "metadata": {},
   "outputs": [
    {
     "name": "stdout",
     "output_type": "stream",
     "text": [
      "Fitting 1 folds for each of 96 candidates, totalling 96 fits\n",
      "[CV 1/1] END max_depth=3, max_features=None, min_samples_leaf=2; accuracy: (test=0.837) f1: (test=0.436) precision: (test=0.293) recall: (test=0.850) total time=   0.1s\n",
      "[CV 1/1] END max_depth=3, max_features=None, min_samples_leaf=6; accuracy: (test=0.837) f1: (test=0.436) precision: (test=0.293) recall: (test=0.850) total time=   0.1s\n",
      "[CV 1/1] END max_depth=3, max_features=None, min_samples_leaf=10; accuracy: (test=0.837) f1: (test=0.436) precision: (test=0.293) recall: (test=0.850) total time=   0.1s\n",
      "[CV 1/1] END max_depth=3, max_features=None, min_samples_leaf=20; accuracy: (test=0.837) f1: (test=0.436) precision: (test=0.293) recall: (test=0.850) total time=   0.1s\n",
      "[CV 1/1] END max_depth=3, max_features=sqrt, min_samples_leaf=2; accuracy: (test=0.867) f1: (test=0.478) precision: (test=0.337) recall: (test=0.825) total time=   0.0s\n",
      "[CV 1/1] END max_depth=3, max_features=sqrt, min_samples_leaf=6; accuracy: (test=0.867) f1: (test=0.478) precision: (test=0.337) recall: (test=0.825) total time=   0.0s\n",
      "[CV 1/1] END max_depth=3, max_features=sqrt, min_samples_leaf=10; accuracy: (test=0.867) f1: (test=0.478) precision: (test=0.337) recall: (test=0.825) total time=   0.0s\n",
      "[CV 1/1] END max_depth=3, max_features=sqrt, min_samples_leaf=20; accuracy: (test=0.867) f1: (test=0.478) precision: (test=0.337) recall: (test=0.825) total time=   0.0s\n",
      "[CV 1/1] END max_depth=3, max_features=log2, min_samples_leaf=2; accuracy: (test=0.771) f1: (test=0.311) precision: (test=0.200) recall: (test=0.700) total time=   0.0s\n",
      "[CV 1/1] END max_depth=3, max_features=log2, min_samples_leaf=6; accuracy: (test=0.771) f1: (test=0.311) precision: (test=0.200) recall: (test=0.700) total time=   0.0s\n",
      "[CV 1/1] END max_depth=3, max_features=log2, min_samples_leaf=10; accuracy: (test=0.771) f1: (test=0.311) precision: (test=0.200) recall: (test=0.700) total time=   0.0s\n",
      "[CV 1/1] END max_depth=3, max_features=log2, min_samples_leaf=20; accuracy: (test=0.771) f1: (test=0.311) precision: (test=0.200) recall: (test=0.700) total time=   0.0s\n",
      "[CV 1/1] END max_depth=3, max_features=5, min_samples_leaf=2; accuracy: (test=0.771) f1: (test=0.311) precision: (test=0.200) recall: (test=0.700) total time=   0.0s\n",
      "[CV 1/1] END max_depth=3, max_features=5, min_samples_leaf=6; accuracy: (test=0.771) f1: (test=0.311) precision: (test=0.200) recall: (test=0.700) total time=   0.0s\n",
      "[CV 1/1] END max_depth=3, max_features=5, min_samples_leaf=10; accuracy: (test=0.771) f1: (test=0.311) precision: (test=0.200) recall: (test=0.700) total time=   0.0s\n",
      "[CV 1/1] END max_depth=3, max_features=5, min_samples_leaf=20; accuracy: (test=0.771) f1: (test=0.311) precision: (test=0.200) recall: (test=0.700) total time=   0.0s\n",
      "[CV 1/1] END max_depth=3, max_features=10, min_samples_leaf=2; accuracy: (test=0.872) f1: (test=0.439) precision: (test=0.325) recall: (test=0.675) total time=   0.0s\n",
      "[CV 1/1] END max_depth=3, max_features=10, min_samples_leaf=6; accuracy: (test=0.872) f1: (test=0.439) precision: (test=0.325) recall: (test=0.675) total time=   0.0s\n",
      "[CV 1/1] END max_depth=3, max_features=10, min_samples_leaf=10; accuracy: (test=0.872) f1: (test=0.439) precision: (test=0.325) recall: (test=0.675) total time=   0.0s\n",
      "[CV 1/1] END max_depth=3, max_features=10, min_samples_leaf=20; accuracy: (test=0.872) f1: (test=0.439) precision: (test=0.325) recall: (test=0.675) total time=   0.0s\n",
      "[CV 1/1] END max_depth=3, max_features=20, min_samples_leaf=2; accuracy: (test=0.808) f1: (test=0.409) precision: (test=0.265) recall: (test=0.900) total time=   0.0s\n",
      "[CV 1/1] END max_depth=3, max_features=20, min_samples_leaf=6; accuracy: (test=0.808) f1: (test=0.409) precision: (test=0.265) recall: (test=0.900) total time=   0.0s\n",
      "[CV 1/1] END max_depth=3, max_features=20, min_samples_leaf=10; accuracy: (test=0.808) f1: (test=0.409) precision: (test=0.265) recall: (test=0.900) total time=   0.0s\n",
      "[CV 1/1] END max_depth=3, max_features=20, min_samples_leaf=20; accuracy: (test=0.808) f1: (test=0.409) precision: (test=0.265) recall: (test=0.900) total time=   0.0s\n",
      "[CV 1/1] END max_depth=10, max_features=None, min_samples_leaf=2; accuracy: (test=0.865) f1: (test=0.434) precision: (test=0.315) recall: (test=0.700) total time=   0.2s\n",
      "[CV 1/1] END max_depth=10, max_features=None, min_samples_leaf=6; accuracy: (test=0.876) f1: (test=0.437) precision: (test=0.329) recall: (test=0.650) total time=   0.2s\n",
      "[CV 1/1] END max_depth=10, max_features=None, min_samples_leaf=10; accuracy: (test=0.861) f1: (test=0.419) precision: (test=0.303) recall: (test=0.675) total time=   0.2s\n",
      "[CV 1/1] END max_depth=10, max_features=None, min_samples_leaf=20; accuracy: (test=0.861) f1: (test=0.427) precision: (test=0.308) recall: (test=0.700) total time=   0.2s\n",
      "[CV 1/1] END max_depth=10, max_features=sqrt, min_samples_leaf=2; accuracy: (test=0.865) f1: (test=0.397) precision: (test=0.296) recall: (test=0.600) total time=   0.0s\n",
      "[CV 1/1] END max_depth=10, max_features=sqrt, min_samples_leaf=6; accuracy: (test=0.884) f1: (test=0.400) precision: (test=0.323) recall: (test=0.525) total time=   0.0s\n",
      "[CV 1/1] END max_depth=10, max_features=sqrt, min_samples_leaf=10; accuracy: (test=0.852) f1: (test=0.394) precision: (test=0.283) recall: (test=0.650) total time=   0.0s\n",
      "[CV 1/1] END max_depth=10, max_features=sqrt, min_samples_leaf=20; accuracy: (test=0.847) f1: (test=0.385) precision: (test=0.274) recall: (test=0.650) total time=   0.0s\n",
      "[CV 1/1] END max_depth=10, max_features=log2, min_samples_leaf=2; accuracy: (test=0.845) f1: (test=0.382) precision: (test=0.271) recall: (test=0.650) total time=   0.0s\n",
      "[CV 1/1] END max_depth=10, max_features=log2, min_samples_leaf=6; accuracy: (test=0.847) f1: (test=0.428) precision: (test=0.295) recall: (test=0.775) total time=   0.0s\n",
      "[CV 1/1] END max_depth=10, max_features=log2, min_samples_leaf=10; accuracy: (test=0.847) f1: (test=0.403) precision: (test=0.283) recall: (test=0.700) total time=   0.0s\n",
      "[CV 1/1] END max_depth=10, max_features=log2, min_samples_leaf=20; accuracy: (test=0.835) f1: (test=0.395) precision: (test=0.271) recall: (test=0.725) total time=   0.0s\n",
      "[CV 1/1] END max_depth=10, max_features=5, min_samples_leaf=2; accuracy: (test=0.845) f1: (test=0.382) precision: (test=0.271) recall: (test=0.650) total time=   0.0s\n",
      "[CV 1/1] END max_depth=10, max_features=5, min_samples_leaf=6; accuracy: (test=0.847) f1: (test=0.428) precision: (test=0.295) recall: (test=0.775) total time=   0.0s\n",
      "[CV 1/1] END max_depth=10, max_features=5, min_samples_leaf=10; accuracy: (test=0.847) f1: (test=0.403) precision: (test=0.283) recall: (test=0.700) total time=   0.0s\n",
      "[CV 1/1] END max_depth=10, max_features=5, min_samples_leaf=20; accuracy: (test=0.835) f1: (test=0.395) precision: (test=0.271) recall: (test=0.725) total time=   0.0s\n",
      "[CV 1/1] END max_depth=10, max_features=10, min_samples_leaf=2; accuracy: (test=0.843) f1: (test=0.397) precision: (test=0.277) recall: (test=0.700) total time=   0.1s\n",
      "[CV 1/1] END max_depth=10, max_features=10, min_samples_leaf=6; accuracy: (test=0.872) f1: (test=0.430) precision: (test=0.321) recall: (test=0.650) total time=   0.0s\n",
      "[CV 1/1] END max_depth=10, max_features=10, min_samples_leaf=10; accuracy: (test=0.860) f1: (test=0.397) precision: (test=0.291) recall: (test=0.625) total time=   0.0s\n",
      "[CV 1/1] END max_depth=10, max_features=10, min_samples_leaf=20; accuracy: (test=0.845) f1: (test=0.400) precision: (test=0.280) recall: (test=0.700) total time=   0.0s\n",
      "[CV 1/1] END max_depth=10, max_features=20, min_samples_leaf=2; accuracy: (test=0.850) f1: (test=0.382) precision: (test=0.275) recall: (test=0.625) total time=   0.1s\n",
      "[CV 1/1] END max_depth=10, max_features=20, min_samples_leaf=6; accuracy: (test=0.867) f1: (test=0.429) precision: (test=0.314) recall: (test=0.675) total time=   0.1s\n",
      "[CV 1/1] END max_depth=10, max_features=20, min_samples_leaf=10; accuracy: (test=0.871) f1: (test=0.426) precision: (test=0.317) recall: (test=0.650) total time=   0.1s\n",
      "[CV 1/1] END max_depth=10, max_features=20, min_samples_leaf=20; accuracy: (test=0.861) f1: (test=0.444) precision: (test=0.316) recall: (test=0.750) total time=   0.1s\n",
      "[CV 1/1] END max_depth=20, max_features=None, min_samples_leaf=2; accuracy: (test=0.893) f1: (test=0.408) precision: (test=0.345) recall: (test=0.500) total time=   0.2s\n"
     ]
    },
    {
     "name": "stdout",
     "output_type": "stream",
     "text": [
      "[CV 1/1] END max_depth=20, max_features=None, min_samples_leaf=6; accuracy: (test=0.896) f1: (test=0.429) precision: (test=0.362) recall: (test=0.525) total time=   0.2s\n",
      "[CV 1/1] END max_depth=20, max_features=None, min_samples_leaf=10; accuracy: (test=0.887) f1: (test=0.450) precision: (test=0.352) recall: (test=0.625) total time=   0.2s\n",
      "[CV 1/1] END max_depth=20, max_features=None, min_samples_leaf=20; accuracy: (test=0.885) f1: (test=0.446) precision: (test=0.347) recall: (test=0.625) total time=   0.2s\n",
      "[CV 1/1] END max_depth=20, max_features=sqrt, min_samples_leaf=2; accuracy: (test=0.887) f1: (test=0.419) precision: (test=0.338) recall: (test=0.550) total time=   0.0s\n",
      "[CV 1/1] END max_depth=20, max_features=sqrt, min_samples_leaf=6; accuracy: (test=0.869) f1: (test=0.336) precision: (test=0.269) recall: (test=0.450) total time=   0.0s\n",
      "[CV 1/1] END max_depth=20, max_features=sqrt, min_samples_leaf=10; accuracy: (test=0.884) f1: (test=0.422) precision: (test=0.333) recall: (test=0.575) total time=   0.0s\n",
      "[CV 1/1] END max_depth=20, max_features=sqrt, min_samples_leaf=20; accuracy: (test=0.843) f1: (test=0.388) precision: (test=0.273) recall: (test=0.675) total time=   0.0s\n",
      "[CV 1/1] END max_depth=20, max_features=log2, min_samples_leaf=2; accuracy: (test=0.874) f1: (test=0.382) precision: (test=0.300) recall: (test=0.525) total time=   0.0s\n",
      "[CV 1/1] END max_depth=20, max_features=log2, min_samples_leaf=6; accuracy: (test=0.872) f1: (test=0.420) precision: (test=0.316) recall: (test=0.625) total time=   0.0s\n",
      "[CV 1/1] END max_depth=20, max_features=log2, min_samples_leaf=10; accuracy: (test=0.882) f1: (test=0.448) precision: (test=0.342) recall: (test=0.650) total time=   0.0s\n",
      "[CV 1/1] END max_depth=20, max_features=log2, min_samples_leaf=20; accuracy: (test=0.837) f1: (test=0.380) precision: (test=0.265) recall: (test=0.675) total time=   0.0s\n",
      "[CV 1/1] END max_depth=20, max_features=5, min_samples_leaf=2; accuracy: (test=0.874) f1: (test=0.382) precision: (test=0.300) recall: (test=0.525) total time=   0.0s\n",
      "[CV 1/1] END max_depth=20, max_features=5, min_samples_leaf=6; accuracy: (test=0.872) f1: (test=0.420) precision: (test=0.316) recall: (test=0.625) total time=   0.0s\n",
      "[CV 1/1] END max_depth=20, max_features=5, min_samples_leaf=10; accuracy: (test=0.882) f1: (test=0.448) precision: (test=0.342) recall: (test=0.650) total time=   0.0s\n",
      "[CV 1/1] END max_depth=20, max_features=5, min_samples_leaf=20; accuracy: (test=0.837) f1: (test=0.380) precision: (test=0.265) recall: (test=0.675) total time=   0.0s\n",
      "[CV 1/1] END max_depth=20, max_features=10, min_samples_leaf=2; accuracy: (test=0.900) f1: (test=0.438) precision: (test=0.375) recall: (test=0.525) total time=   0.1s\n",
      "[CV 1/1] END max_depth=20, max_features=10, min_samples_leaf=6; accuracy: (test=0.861) f1: (test=0.370) precision: (test=0.278) recall: (test=0.550) total time=   0.1s\n",
      "[CV 1/1] END max_depth=20, max_features=10, min_samples_leaf=10; accuracy: (test=0.871) f1: (test=0.397) precision: (test=0.303) recall: (test=0.575) total time=   0.1s\n",
      "[CV 1/1] END max_depth=20, max_features=10, min_samples_leaf=20; accuracy: (test=0.860) f1: (test=0.424) precision: (test=0.304) recall: (test=0.700) total time=   0.1s\n",
      "[CV 1/1] END max_depth=20, max_features=20, min_samples_leaf=2; accuracy: (test=0.898) f1: (test=0.495) precision: (test=0.391) recall: (test=0.675) total time=   0.1s\n",
      "[CV 1/1] END max_depth=20, max_features=20, min_samples_leaf=6; accuracy: (test=0.876) f1: (test=0.396) precision: (test=0.310) recall: (test=0.550) total time=   0.1s\n",
      "[CV 1/1] END max_depth=20, max_features=20, min_samples_leaf=10; accuracy: (test=0.874) f1: (test=0.382) precision: (test=0.300) recall: (test=0.525) total time=   0.1s\n",
      "[CV 1/1] END max_depth=20, max_features=20, min_samples_leaf=20; accuracy: (test=0.872) f1: (test=0.410) precision: (test=0.312) recall: (test=0.600) total time=   0.1s\n",
      "[CV 1/1] END max_depth=50, max_features=None, min_samples_leaf=2; accuracy: (test=0.898) f1: (test=0.421) precision: (test=0.364) recall: (test=0.500) total time=   0.2s\n",
      "[CV 1/1] END max_depth=50, max_features=None, min_samples_leaf=6; accuracy: (test=0.898) f1: (test=0.444) precision: (test=0.373) recall: (test=0.550) total time=   0.2s\n",
      "[CV 1/1] END max_depth=50, max_features=None, min_samples_leaf=10; accuracy: (test=0.887) f1: (test=0.450) precision: (test=0.352) recall: (test=0.625) total time=   0.2s\n",
      "[CV 1/1] END max_depth=50, max_features=None, min_samples_leaf=20; accuracy: (test=0.885) f1: (test=0.446) precision: (test=0.347) recall: (test=0.625) total time=   0.2s\n",
      "[CV 1/1] END max_depth=50, max_features=sqrt, min_samples_leaf=2; accuracy: (test=0.885) f1: (test=0.404) precision: (test=0.328) recall: (test=0.525) total time=   0.0s\n",
      "[CV 1/1] END max_depth=50, max_features=sqrt, min_samples_leaf=6; accuracy: (test=0.880) f1: (test=0.414) precision: (test=0.324) recall: (test=0.575) total time=   0.0s\n",
      "[CV 1/1] END max_depth=50, max_features=sqrt, min_samples_leaf=10; accuracy: (test=0.884) f1: (test=0.422) precision: (test=0.333) recall: (test=0.575) total time=   0.0s\n",
      "[CV 1/1] END max_depth=50, max_features=sqrt, min_samples_leaf=20; accuracy: (test=0.843) f1: (test=0.388) precision: (test=0.273) recall: (test=0.675) total time=   0.0s\n",
      "[CV 1/1] END max_depth=50, max_features=log2, min_samples_leaf=2; accuracy: (test=0.865) f1: (test=0.387) precision: (test=0.291) recall: (test=0.575) total time=   0.0s\n",
      "[CV 1/1] END max_depth=50, max_features=log2, min_samples_leaf=6; accuracy: (test=0.889) f1: (test=0.455) precision: (test=0.357) recall: (test=0.625) total time=   0.0s\n",
      "[CV 1/1] END max_depth=50, max_features=log2, min_samples_leaf=10; accuracy: (test=0.882) f1: (test=0.448) precision: (test=0.342) recall: (test=0.650) total time=   0.0s\n",
      "[CV 1/1] END max_depth=50, max_features=log2, min_samples_leaf=20; accuracy: (test=0.837) f1: (test=0.380) precision: (test=0.265) recall: (test=0.675) total time=   0.0s\n",
      "[CV 1/1] END max_depth=50, max_features=5, min_samples_leaf=2; accuracy: (test=0.865) f1: (test=0.387) precision: (test=0.291) recall: (test=0.575) total time=   0.0s\n",
      "[CV 1/1] END max_depth=50, max_features=5, min_samples_leaf=6; accuracy: (test=0.889) f1: (test=0.455) precision: (test=0.357) recall: (test=0.625) total time=   0.0s\n",
      "[CV 1/1] END max_depth=50, max_features=5, min_samples_leaf=10; accuracy: (test=0.882) f1: (test=0.448) precision: (test=0.342) recall: (test=0.650) total time=   0.0s\n",
      "[CV 1/1] END max_depth=50, max_features=5, min_samples_leaf=20; accuracy: (test=0.837) f1: (test=0.380) precision: (test=0.265) recall: (test=0.675) total time=   0.0s\n",
      "[CV 1/1] END max_depth=50, max_features=10, min_samples_leaf=2; accuracy: (test=0.900) f1: (test=0.500) precision: (test=0.397) recall: (test=0.675) total time=   0.1s\n",
      "[CV 1/1] END max_depth=50, max_features=10, min_samples_leaf=6; accuracy: (test=0.860) f1: (test=0.367) precision: (test=0.275) recall: (test=0.550) total time=   0.1s\n",
      "[CV 1/1] END max_depth=50, max_features=10, min_samples_leaf=10; accuracy: (test=0.871) f1: (test=0.397) precision: (test=0.303) recall: (test=0.575) total time=   0.1s\n",
      "[CV 1/1] END max_depth=50, max_features=10, min_samples_leaf=20; accuracy: (test=0.860) f1: (test=0.424) precision: (test=0.304) recall: (test=0.700) total time=   0.1s\n",
      "[CV 1/1] END max_depth=50, max_features=20, min_samples_leaf=2; accuracy: (test=0.898) f1: (test=0.476) precision: (test=0.385) recall: (test=0.625) total time=   0.1s\n",
      "[CV 1/1] END max_depth=50, max_features=20, min_samples_leaf=6; accuracy: (test=0.876) f1: (test=0.396) precision: (test=0.310) recall: (test=0.550) total time=   0.1s\n",
      "[CV 1/1] END max_depth=50, max_features=20, min_samples_leaf=10; accuracy: (test=0.874) f1: (test=0.382) precision: (test=0.300) recall: (test=0.525) total time=   0.1s\n",
      "[CV 1/1] END max_depth=50, max_features=20, min_samples_leaf=20; accuracy: (test=0.872) f1: (test=0.410) precision: (test=0.312) recall: (test=0.600) total time=   0.1s\n"
     ]
    },
    {
     "data": {
      "text/plain": [
       "GridSearchCV(cv=PredefinedSplit(test_fold=array([-1, -1, ...,  0,  0])),\n",
       "             estimator=DecisionTreeClassifier(random_state=1),\n",
       "             param_grid={'max_depth': [3, 10, 20, 50],\n",
       "                         'max_features': [None, 'sqrt', 'log2', 5, 10, 20],\n",
       "                         'min_samples_leaf': [2, 6, 10, 20]},\n",
       "             refit='f1', scoring=['accuracy', 'recall', 'precision', 'f1'],\n",
       "             verbose=5)"
      ]
     },
     "execution_count": 13,
     "metadata": {},
     "output_type": "execute_result"
    }
   ],
   "source": [
    "tree = DecisionTreeClassifier(random_state=random_seed)\n",
    "tree_grid = GridSearchCV(tree,param_grid={'max_depth':[3,10,20,50],'min_samples_leaf':[2,6,10,20],\n",
    "                                          'max_features':[None,'sqrt','log2',5,10,20]},\n",
    "                        scoring=['accuracy','recall','precision','f1'],\n",
    "                        verbose=5,cv=ps,refit='f1')\n",
    "tree_grid.fit(array_x,array_y)"
   ]
  },
  {
   "cell_type": "markdown",
   "metadata": {},
   "source": [
    "F1 Score"
   ]
  },
  {
   "cell_type": "code",
   "execution_count": 14,
   "metadata": {},
   "outputs": [],
   "source": [
    "tree_resampled = tree_grid.best_estimator_"
   ]
  },
  {
   "cell_type": "code",
   "execution_count": 15,
   "metadata": {
    "scrolled": true
   },
   "outputs": [
    {
     "data": {
      "text/plain": [
       "0.9862907397827211"
      ]
     },
     "execution_count": 15,
     "metadata": {},
     "output_type": "execute_result"
    }
   ],
   "source": [
    "f1_score(y_resampled,tree_resampled.predict(X_resampled))"
   ]
  },
  {
   "cell_type": "code",
   "execution_count": 16,
   "metadata": {},
   "outputs": [
    {
     "data": {
      "text/plain": [
       "0.4201680672268908"
      ]
     },
     "execution_count": 16,
     "metadata": {},
     "output_type": "execute_result"
    }
   ],
   "source": [
    "f1_score(test_y,tree_resampled.predict(test_x))"
   ]
  },
  {
   "cell_type": "code",
   "execution_count": 17,
   "metadata": {},
   "outputs": [
    {
     "data": {
      "text/plain": [
       "DecisionTreeClassifier(max_depth=50, max_features=10, min_samples_leaf=2,\n",
       "                       random_state=1)"
      ]
     },
     "execution_count": 17,
     "metadata": {},
     "output_type": "execute_result"
    }
   ],
   "source": [
    "tree_resampled"
   ]
  },
  {
   "cell_type": "markdown",
   "metadata": {},
   "source": [
    "Accuracy Score"
   ]
  },
  {
   "cell_type": "code",
   "execution_count": 18,
   "metadata": {},
   "outputs": [
    {
     "data": {
      "text/plain": [
       "0.9864657814096016"
      ]
     },
     "execution_count": 18,
     "metadata": {},
     "output_type": "execute_result"
    }
   ],
   "source": [
    "tree_resampled.score(X_resampled,y_resampled)"
   ]
  },
  {
   "cell_type": "code",
   "execution_count": 19,
   "metadata": {},
   "outputs": [
    {
     "data": {
      "text/plain": [
       "0.8724584103512015"
      ]
     },
     "execution_count": 19,
     "metadata": {},
     "output_type": "execute_result"
    }
   ],
   "source": [
    "tree_resampled.score(test_x,test_y)"
   ]
  },
  {
   "cell_type": "markdown",
   "metadata": {},
   "source": [
    "Recall Score"
   ]
  },
  {
   "cell_type": "code",
   "execution_count": 20,
   "metadata": {
    "scrolled": true
   },
   "outputs": [
    {
     "data": {
      "text/plain": [
       "0.9736976506639428"
      ]
     },
     "execution_count": 20,
     "metadata": {},
     "output_type": "execute_result"
    }
   ],
   "source": [
    "recall_score(y_resampled,tree_resampled.predict(X_resampled))"
   ]
  },
  {
   "cell_type": "code",
   "execution_count": 21,
   "metadata": {},
   "outputs": [
    {
     "data": {
      "text/plain": [
       "0.46296296296296297"
      ]
     },
     "execution_count": 21,
     "metadata": {},
     "output_type": "execute_result"
    }
   ],
   "source": [
    "recall_score(test_y,tree_resampled.predict(test_x))"
   ]
  },
  {
   "cell_type": "markdown",
   "metadata": {},
   "source": [
    "Precision Score"
   ]
  },
  {
   "cell_type": "code",
   "execution_count": 22,
   "metadata": {
    "scrolled": true
   },
   "outputs": [
    {
     "data": {
      "text/plain": [
       "0.9992138364779874"
      ]
     },
     "execution_count": 22,
     "metadata": {},
     "output_type": "execute_result"
    }
   ],
   "source": [
    "precision_score(y_resampled,tree_resampled.predict(X_resampled))"
   ]
  },
  {
   "cell_type": "code",
   "execution_count": 23,
   "metadata": {},
   "outputs": [
    {
     "data": {
      "text/plain": [
       "0.38461538461538464"
      ]
     },
     "execution_count": 23,
     "metadata": {},
     "output_type": "execute_result"
    }
   ],
   "source": [
    "precision_score(test_y,tree_resampled.predict(test_x))"
   ]
  },
  {
   "cell_type": "code",
   "execution_count": 24,
   "metadata": {},
   "outputs": [
    {
     "data": {
      "text/plain": [
       "0.0    476\n",
       "1.0     65\n",
       "dtype: int64"
      ]
     },
     "execution_count": 24,
     "metadata": {},
     "output_type": "execute_result"
    }
   ],
   "source": [
    "pd.Series(tree_resampled.predict(test_x)).value_counts()"
   ]
  },
  {
   "cell_type": "code",
   "execution_count": 25,
   "metadata": {},
   "outputs": [
    {
     "data": {
      "text/plain": [
       "PotentialFraud\n",
       "0.0               487\n",
       "1.0                54\n",
       "dtype: int64"
      ]
     },
     "execution_count": 25,
     "metadata": {},
     "output_type": "execute_result"
    }
   ],
   "source": [
    "test_y.value_counts()"
   ]
  },
  {
   "cell_type": "markdown",
   "metadata": {},
   "source": [
    "AUC Score"
   ]
  },
  {
   "cell_type": "code",
   "execution_count": 26,
   "metadata": {},
   "outputs": [],
   "source": [
    "from sklearn.metrics import roc_auc_score"
   ]
  },
  {
   "cell_type": "code",
   "execution_count": 27,
   "metadata": {},
   "outputs": [
    {
     "data": {
      "text/plain": [
       "0.9864657814096016"
      ]
     },
     "execution_count": 27,
     "metadata": {},
     "output_type": "execute_result"
    }
   ],
   "source": [
    "roc_auc_score(y_resampled,tree_resampled.predict(X_resampled))"
   ]
  },
  {
   "cell_type": "code",
   "execution_count": 28,
   "metadata": {},
   "outputs": [
    {
     "data": {
      "text/plain": [
       "0.6904137196744999"
      ]
     },
     "execution_count": 28,
     "metadata": {},
     "output_type": "execute_result"
    }
   ],
   "source": [
    "roc_auc_score(test_y,tree_resampled.predict(test_x))"
   ]
  },
  {
   "cell_type": "markdown",
   "metadata": {},
   "source": [
    "# Logistic Regression"
   ]
  },
  {
   "cell_type": "code",
   "execution_count": 29,
   "metadata": {},
   "outputs": [],
   "source": [
    "from sklearn.linear_model import LogisticRegression\n",
    "from sklearn.metrics import confusion_matrix,ConfusionMatrixDisplay"
   ]
  },
  {
   "cell_type": "markdown",
   "metadata": {},
   "source": [
    "### Selection Based on F1 Scores"
   ]
  },
  {
   "cell_type": "code",
   "execution_count": 30,
   "metadata": {},
   "outputs": [
    {
     "name": "stdout",
     "output_type": "stream",
     "text": [
      "Fitting 1 folds for each of 100 candidates, totalling 100 fits\n",
      "[CV 1/1] END max_iter=5, penalty=l1, solver=newton-cg; accuracy: (test=nan) f1: (test=nan) precision: (test=nan) recall: (test=nan) total time=   0.0s\n",
      "[CV 1/1] END max_iter=5, penalty=l1, solver=lbfgs; accuracy: (test=nan) f1: (test=nan) precision: (test=nan) recall: (test=nan) total time=   0.0s\n",
      "[CV 1/1] END max_iter=5, penalty=l1, solver=liblinear; accuracy: (test=0.850) f1: (test=0.409) precision: (test=0.289) recall: (test=0.700) total time=   0.0s\n",
      "[CV 1/1] END max_iter=5, penalty=l1, solver=sag; accuracy: (test=nan) f1: (test=nan) precision: (test=nan) recall: (test=nan) total time=   0.0s\n",
      "[CV 1/1] END max_iter=5, penalty=l1, solver=saga; accuracy: (test=0.826) f1: (test=0.347) precision: (test=0.240) recall: (test=0.625) total time=   0.0s\n",
      "[CV 1/1] END max_iter=5, penalty=l2, solver=newton-cg; accuracy: (test=0.885) f1: (test=0.446) precision: (test=0.347) recall: (test=0.625) total time=   0.0s\n",
      "[CV 1/1] END max_iter=5, penalty=l2, solver=lbfgs; accuracy: (test=0.813) f1: (test=0.331) precision: (test=0.225) recall: (test=0.625) total time=   0.0s\n",
      "[CV 1/1] END max_iter=5, penalty=l2, solver=liblinear; accuracy: (test=0.863) f1: (test=0.383) precision: (test=0.287) recall: (test=0.575) total time=   0.0s\n",
      "[CV 1/1] END max_iter=5, penalty=l2, solver=sag; accuracy: (test=0.848) f1: (test=0.359) precision: (test=0.261) recall: (test=0.575) total time=   0.0s\n",
      "[CV 1/1] END max_iter=5, penalty=l2, solver=saga; accuracy: (test=0.826) f1: (test=0.347) precision: (test=0.240) recall: (test=0.625) total time=   0.0s\n",
      "[CV 1/1] END max_iter=5, penalty=elasticnet, solver=newton-cg; accuracy: (test=nan) f1: (test=nan) precision: (test=nan) recall: (test=nan) total time=   0.0s\n",
      "[CV 1/1] END max_iter=5, penalty=elasticnet, solver=lbfgs; accuracy: (test=nan) f1: (test=nan) precision: (test=nan) recall: (test=nan) total time=   0.0s\n",
      "[CV 1/1] END max_iter=5, penalty=elasticnet, solver=liblinear; accuracy: (test=nan) f1: (test=nan) precision: (test=nan) recall: (test=nan) total time=   0.0s\n",
      "[CV 1/1] END max_iter=5, penalty=elasticnet, solver=sag; accuracy: (test=nan) f1: (test=nan) precision: (test=nan) recall: (test=nan) total time=   0.0s\n",
      "[CV 1/1] END max_iter=5, penalty=elasticnet, solver=saga; accuracy: (test=nan) f1: (test=nan) precision: (test=nan) recall: (test=nan) total time=   0.0s\n",
      "[CV 1/1] END max_iter=5, penalty=none, solver=newton-cg; accuracy: (test=0.885) f1: (test=0.446) precision: (test=0.347) recall: (test=0.625) total time=   0.0s\n",
      "[CV 1/1] END max_iter=5, penalty=none, solver=lbfgs; accuracy: (test=0.813) f1: (test=0.331) precision: (test=0.225) recall: (test=0.625) total time=   0.0s\n",
      "[CV 1/1] END max_iter=5, penalty=none, solver=liblinear; accuracy: (test=nan) f1: (test=nan) precision: (test=nan) recall: (test=nan) total time=   0.0s\n",
      "[CV 1/1] END max_iter=5, penalty=none, solver=sag; accuracy: (test=0.848) f1: (test=0.359) precision: (test=0.261) recall: (test=0.575) total time=   0.0s\n",
      "[CV 1/1] END max_iter=5, penalty=none, solver=saga; accuracy: (test=0.826) f1: (test=0.347) precision: (test=0.240) recall: (test=0.625) total time=   0.0s\n",
      "[CV 1/1] END max_iter=10, penalty=l1, solver=newton-cg; accuracy: (test=nan) f1: (test=nan) precision: (test=nan) recall: (test=nan) total time=   0.0s\n",
      "[CV 1/1] END max_iter=10, penalty=l1, solver=lbfgs; accuracy: (test=nan) f1: (test=nan) precision: (test=nan) recall: (test=nan) total time=   0.0s\n",
      "[CV 1/1] END max_iter=10, penalty=l1, solver=liblinear; accuracy: (test=0.854) f1: (test=0.423) precision: (test=0.299) recall: (test=0.725) total time=   0.0s\n",
      "[CV 1/1] END max_iter=10, penalty=l1, solver=sag; accuracy: (test=nan) f1: (test=nan) precision: (test=nan) recall: (test=nan) total time=   0.0s\n",
      "[CV 1/1] END max_iter=10, penalty=l1, solver=saga; accuracy: (test=0.847) f1: (test=0.357) precision: (test=0.258) recall: (test=0.575) total time=   0.1s\n",
      "[CV 1/1] END max_iter=10, penalty=l2, solver=newton-cg; accuracy: (test=0.876) f1: (test=0.464) precision: (test=0.341) recall: (test=0.725) total time=   0.0s\n",
      "[CV 1/1] END max_iter=10, penalty=l2, solver=lbfgs; accuracy: (test=0.889) f1: (test=0.455) precision: (test=0.357) recall: (test=0.625) total time=   0.0s\n",
      "[CV 1/1] END max_iter=10, penalty=l2, solver=liblinear; accuracy: (test=0.885) f1: (test=0.436) precision: (test=0.343) recall: (test=0.600) total time=   0.0s\n",
      "[CV 1/1] END max_iter=10, penalty=l2, solver=sag; accuracy: (test=0.865) f1: (test=0.387) precision: (test=0.291) recall: (test=0.575) total time=   0.0s\n",
      "[CV 1/1] END max_iter=10, penalty=l2, solver=saga; accuracy: (test=0.847) f1: (test=0.357) precision: (test=0.258) recall: (test=0.575) total time=   0.0s\n",
      "[CV 1/1] END max_iter=10, penalty=elasticnet, solver=newton-cg; accuracy: (test=nan) f1: (test=nan) precision: (test=nan) recall: (test=nan) total time=   0.0s\n",
      "[CV 1/1] END max_iter=10, penalty=elasticnet, solver=lbfgs; accuracy: (test=nan) f1: (test=nan) precision: (test=nan) recall: (test=nan) total time=   0.0s\n",
      "[CV 1/1] END max_iter=10, penalty=elasticnet, solver=liblinear; accuracy: (test=nan) f1: (test=nan) precision: (test=nan) recall: (test=nan) total time=   0.0s\n",
      "[CV 1/1] END max_iter=10, penalty=elasticnet, solver=sag; accuracy: (test=nan) f1: (test=nan) precision: (test=nan) recall: (test=nan) total time=   0.0s\n",
      "[CV 1/1] END max_iter=10, penalty=elasticnet, solver=saga; accuracy: (test=nan) f1: (test=nan) precision: (test=nan) recall: (test=nan) total time=   0.0s\n",
      "[CV 1/1] END max_iter=10, penalty=none, solver=newton-cg; accuracy: (test=0.876) f1: (test=0.464) precision: (test=0.341) recall: (test=0.725) total time=   0.0s\n",
      "[CV 1/1] END max_iter=10, penalty=none, solver=lbfgs; accuracy: (test=0.889) f1: (test=0.455) precision: (test=0.357) recall: (test=0.625) total time=   0.0s\n",
      "[CV 1/1] END max_iter=10, penalty=none, solver=liblinear; accuracy: (test=nan) f1: (test=nan) precision: (test=nan) recall: (test=nan) total time=   0.0s\n",
      "[CV 1/1] END max_iter=10, penalty=none, solver=sag; accuracy: (test=0.865) f1: (test=0.387) precision: (test=0.291) recall: (test=0.575) total time=   0.0s\n",
      "[CV 1/1] END max_iter=10, penalty=none, solver=saga; accuracy: (test=0.847) f1: (test=0.357) precision: (test=0.258) recall: (test=0.575) total time=   0.0s\n",
      "[CV 1/1] END max_iter=20, penalty=l1, solver=newton-cg; accuracy: (test=nan) f1: (test=nan) precision: (test=nan) recall: (test=nan) total time=   0.0s\n",
      "[CV 1/1] END max_iter=20, penalty=l1, solver=lbfgs; accuracy: (test=nan) f1: (test=nan) precision: (test=nan) recall: (test=nan) total time=   0.0s\n",
      "[CV 1/1] END max_iter=20, penalty=l1, solver=liblinear; accuracy: (test=0.854) f1: (test=0.423) precision: (test=0.299) recall: (test=0.725) total time=   0.2s\n",
      "[CV 1/1] END max_iter=20, penalty=l1, solver=sag; accuracy: (test=nan) f1: (test=nan) precision: (test=nan) recall: (test=nan) total time=   0.0s\n",
      "[CV 1/1] END max_iter=20, penalty=l1, solver=saga; accuracy: (test=0.863) f1: (test=0.393) precision: (test=0.293) recall: (test=0.600) total time=   0.1s\n",
      "[CV 1/1] END max_iter=20, penalty=l2, solver=newton-cg; accuracy: (test=0.856) f1: (test=0.435) precision: (test=0.306) recall: (test=0.750) total time=   0.1s\n",
      "[CV 1/1] END max_iter=20, penalty=l2, solver=lbfgs; accuracy: (test=0.872) f1: (test=0.439) precision: (test=0.325) recall: (test=0.675) total time=   0.0s\n",
      "[CV 1/1] END max_iter=20, penalty=l2, solver=liblinear; accuracy: (test=0.848) f1: (test=0.414) precision: (test=0.290) recall: (test=0.725) total time=   0.1s\n",
      "[CV 1/1] END max_iter=20, penalty=l2, solver=sag; accuracy: (test=0.858) f1: (test=0.364) precision: (test=0.272) recall: (test=0.550) total time=   0.1s\n",
      "[CV 1/1] END max_iter=20, penalty=l2, solver=saga; accuracy: (test=0.863) f1: (test=0.393) precision: (test=0.293) recall: (test=0.600) total time=   0.1s\n",
      "[CV 1/1] END max_iter=20, penalty=elasticnet, solver=newton-cg; accuracy: (test=nan) f1: (test=nan) precision: (test=nan) recall: (test=nan) total time=   0.0s\n",
      "[CV 1/1] END max_iter=20, penalty=elasticnet, solver=lbfgs; accuracy: (test=nan) f1: (test=nan) precision: (test=nan) recall: (test=nan) total time=   0.0s\n",
      "[CV 1/1] END max_iter=20, penalty=elasticnet, solver=liblinear; accuracy: (test=nan) f1: (test=nan) precision: (test=nan) recall: (test=nan) total time=   0.0s\n",
      "[CV 1/1] END max_iter=20, penalty=elasticnet, solver=sag; accuracy: (test=nan) f1: (test=nan) precision: (test=nan) recall: (test=nan) total time=   0.0s\n",
      "[CV 1/1] END max_iter=20, penalty=elasticnet, solver=saga; accuracy: (test=nan) f1: (test=nan) precision: (test=nan) recall: (test=nan) total time=   0.0s\n",
      "[CV 1/1] END max_iter=20, penalty=none, solver=newton-cg; accuracy: (test=0.856) f1: (test=0.435) precision: (test=0.306) recall: (test=0.750) total time=   0.1s\n",
      "[CV 1/1] END max_iter=20, penalty=none, solver=lbfgs; accuracy: (test=0.872) f1: (test=0.439) precision: (test=0.325) recall: (test=0.675) total time=   0.0s\n",
      "[CV 1/1] END max_iter=20, penalty=none, solver=liblinear; accuracy: (test=nan) f1: (test=nan) precision: (test=nan) recall: (test=nan) total time=   0.0s\n",
      "[CV 1/1] END max_iter=20, penalty=none, solver=sag; accuracy: (test=0.858) f1: (test=0.364) precision: (test=0.272) recall: (test=0.550) total time=   0.1s\n"
     ]
    },
    {
     "name": "stdout",
     "output_type": "stream",
     "text": [
      "[CV 1/1] END max_iter=20, penalty=none, solver=saga; accuracy: (test=0.863) f1: (test=0.393) precision: (test=0.293) recall: (test=0.600) total time=   0.1s\n",
      "[CV 1/1] END max_iter=50, penalty=l1, solver=newton-cg; accuracy: (test=nan) f1: (test=nan) precision: (test=nan) recall: (test=nan) total time=   0.0s\n",
      "[CV 1/1] END max_iter=50, penalty=l1, solver=lbfgs; accuracy: (test=nan) f1: (test=nan) precision: (test=nan) recall: (test=nan) total time=   0.0s\n",
      "[CV 1/1] END max_iter=50, penalty=l1, solver=liblinear; accuracy: (test=0.854) f1: (test=0.432) precision: (test=0.303) recall: (test=0.750) total time=   0.4s\n",
      "[CV 1/1] END max_iter=50, penalty=l1, solver=sag; accuracy: (test=nan) f1: (test=nan) precision: (test=nan) recall: (test=nan) total time=   0.0s\n",
      "[CV 1/1] END max_iter=50, penalty=l1, solver=saga; accuracy: (test=0.856) f1: (test=0.350) precision: (test=0.263) recall: (test=0.525) total time=   0.2s\n",
      "[CV 1/1] END max_iter=50, penalty=l2, solver=newton-cg; accuracy: (test=0.848) f1: (test=0.423) precision: (test=0.294) recall: (test=0.750) total time=   0.3s\n",
      "[CV 1/1] END max_iter=50, penalty=l2, solver=lbfgs; accuracy: (test=0.847) f1: (test=0.428) precision: (test=0.295) recall: (test=0.775) total time=   0.0s\n",
      "[CV 1/1] END max_iter=50, penalty=l2, solver=liblinear; accuracy: (test=0.860) f1: (test=0.441) precision: (test=0.312) recall: (test=0.750) total time=   0.1s\n",
      "[CV 1/1] END max_iter=50, penalty=l2, solver=sag; accuracy: (test=0.872) f1: (test=0.420) precision: (test=0.316) recall: (test=0.625) total time=   0.2s\n",
      "[CV 1/1] END max_iter=50, penalty=l2, solver=saga; accuracy: (test=0.856) f1: (test=0.350) precision: (test=0.263) recall: (test=0.525) total time=   0.2s\n",
      "[CV 1/1] END max_iter=50, penalty=elasticnet, solver=newton-cg; accuracy: (test=nan) f1: (test=nan) precision: (test=nan) recall: (test=nan) total time=   0.0s\n",
      "[CV 1/1] END max_iter=50, penalty=elasticnet, solver=lbfgs; accuracy: (test=nan) f1: (test=nan) precision: (test=nan) recall: (test=nan) total time=   0.0s\n",
      "[CV 1/1] END max_iter=50, penalty=elasticnet, solver=liblinear; accuracy: (test=nan) f1: (test=nan) precision: (test=nan) recall: (test=nan) total time=   0.0s\n",
      "[CV 1/1] END max_iter=50, penalty=elasticnet, solver=sag; accuracy: (test=nan) f1: (test=nan) precision: (test=nan) recall: (test=nan) total time=   0.0s\n",
      "[CV 1/1] END max_iter=50, penalty=elasticnet, solver=saga; accuracy: (test=nan) f1: (test=nan) precision: (test=nan) recall: (test=nan) total time=   0.0s\n",
      "[CV 1/1] END max_iter=50, penalty=none, solver=newton-cg; accuracy: (test=0.850) f1: (test=0.426) precision: (test=0.297) recall: (test=0.750) total time=   0.3s\n",
      "[CV 1/1] END max_iter=50, penalty=none, solver=lbfgs; accuracy: (test=0.847) f1: (test=0.411) precision: (test=0.287) recall: (test=0.725) total time=   0.0s\n",
      "[CV 1/1] END max_iter=50, penalty=none, solver=liblinear; accuracy: (test=nan) f1: (test=nan) precision: (test=nan) recall: (test=nan) total time=   0.0s\n",
      "[CV 1/1] END max_iter=50, penalty=none, solver=sag; accuracy: (test=0.872) f1: (test=0.420) precision: (test=0.316) recall: (test=0.625) total time=   0.2s\n",
      "[CV 1/1] END max_iter=50, penalty=none, solver=saga; accuracy: (test=0.856) f1: (test=0.350) precision: (test=0.263) recall: (test=0.525) total time=   0.2s\n",
      "[CV 1/1] END max_iter=100, penalty=l1, solver=newton-cg; accuracy: (test=nan) f1: (test=nan) precision: (test=nan) recall: (test=nan) total time=   0.0s\n",
      "[CV 1/1] END max_iter=100, penalty=l1, solver=lbfgs; accuracy: (test=nan) f1: (test=nan) precision: (test=nan) recall: (test=nan) total time=   0.0s\n",
      "[CV 1/1] END max_iter=100, penalty=l1, solver=liblinear; accuracy: (test=0.854) f1: (test=0.432) precision: (test=0.303) recall: (test=0.750) total time=   0.4s\n",
      "[CV 1/1] END max_iter=100, penalty=l1, solver=sag; accuracy: (test=nan) f1: (test=nan) precision: (test=nan) recall: (test=nan) total time=   0.0s\n",
      "[CV 1/1] END max_iter=100, penalty=l1, solver=saga; accuracy: (test=0.872) f1: (test=0.420) precision: (test=0.316) recall: (test=0.625) total time=   0.4s\n",
      "[CV 1/1] END max_iter=100, penalty=l2, solver=newton-cg; accuracy: (test=0.848) f1: (test=0.423) precision: (test=0.294) recall: (test=0.750) total time=   0.4s\n",
      "[CV 1/1] END max_iter=100, penalty=l2, solver=lbfgs; accuracy: (test=0.852) f1: (test=0.429) precision: (test=0.300) recall: (test=0.750) total time=   0.1s\n",
      "[CV 1/1] END max_iter=100, penalty=l2, solver=liblinear; accuracy: (test=0.860) f1: (test=0.441) precision: (test=0.312) recall: (test=0.750) total time=   0.1s\n",
      "[CV 1/1] END max_iter=100, penalty=l2, solver=sag; accuracy: (test=0.876) f1: (test=0.446) precision: (test=0.333) recall: (test=0.675) total time=   0.4s\n",
      "[CV 1/1] END max_iter=100, penalty=l2, solver=saga; accuracy: (test=0.872) f1: (test=0.420) precision: (test=0.316) recall: (test=0.625) total time=   0.3s\n",
      "[CV 1/1] END max_iter=100, penalty=elasticnet, solver=newton-cg; accuracy: (test=nan) f1: (test=nan) precision: (test=nan) recall: (test=nan) total time=   0.0s\n",
      "[CV 1/1] END max_iter=100, penalty=elasticnet, solver=lbfgs; accuracy: (test=nan) f1: (test=nan) precision: (test=nan) recall: (test=nan) total time=   0.0s\n",
      "[CV 1/1] END max_iter=100, penalty=elasticnet, solver=liblinear; accuracy: (test=nan) f1: (test=nan) precision: (test=nan) recall: (test=nan) total time=   0.0s\n",
      "[CV 1/1] END max_iter=100, penalty=elasticnet, solver=sag; accuracy: (test=nan) f1: (test=nan) precision: (test=nan) recall: (test=nan) total time=   0.0s\n",
      "[CV 1/1] END max_iter=100, penalty=elasticnet, solver=saga; accuracy: (test=nan) f1: (test=nan) precision: (test=nan) recall: (test=nan) total time=   0.0s\n",
      "[CV 1/1] END max_iter=100, penalty=none, solver=newton-cg; accuracy: (test=0.850) f1: (test=0.426) precision: (test=0.297) recall: (test=0.750) total time=   0.3s\n",
      "[CV 1/1] END max_iter=100, penalty=none, solver=lbfgs; accuracy: (test=0.848) f1: (test=0.431) precision: (test=0.298) recall: (test=0.775) total time=   0.1s\n",
      "[CV 1/1] END max_iter=100, penalty=none, solver=liblinear; accuracy: (test=nan) f1: (test=nan) precision: (test=nan) recall: (test=nan) total time=   0.0s\n",
      "[CV 1/1] END max_iter=100, penalty=none, solver=sag; accuracy: (test=0.876) f1: (test=0.446) precision: (test=0.333) recall: (test=0.675) total time=   0.4s\n",
      "[CV 1/1] END max_iter=100, penalty=none, solver=saga; accuracy: (test=0.872) f1: (test=0.420) precision: (test=0.316) recall: (test=0.625) total time=   0.4s\n"
     ]
    },
    {
     "data": {
      "text/plain": [
       "GridSearchCV(cv=PredefinedSplit(test_fold=array([-1, -1, ...,  0,  0])),\n",
       "             estimator=LogisticRegression(random_state=1),\n",
       "             param_grid={'max_iter': [5, 10, 20, 50, 100],\n",
       "                         'penalty': ['l1', 'l2', 'elasticnet', 'none'],\n",
       "                         'solver': ['newton-cg', 'lbfgs', 'liblinear', 'sag',\n",
       "                                    'saga']},\n",
       "             refit='f1', scoring=['accuracy', 'recall', 'precision', 'f1'],\n",
       "             verbose=5)"
      ]
     },
     "execution_count": 30,
     "metadata": {},
     "output_type": "execute_result"
    }
   ],
   "source": [
    "lr = LogisticRegression(random_state=1)\n",
    "lr_grid = GridSearchCV(lr,param_grid = {'penalty':['l1', 'l2', 'elasticnet', 'none'],\n",
    "                                       'solver':['newton-cg', 'lbfgs', 'liblinear', 'sag', 'saga'],\n",
    "                                       'max_iter':[5,10,20,50,100]},\n",
    "                       scoring=['accuracy','recall','precision','f1'],\n",
    "                        verbose=5,cv=ps,refit='f1')\n",
    "lr_grid.fit(array_x,array_y)"
   ]
  },
  {
   "cell_type": "markdown",
   "metadata": {},
   "source": [
    "F1 Score"
   ]
  },
  {
   "cell_type": "code",
   "execution_count": 31,
   "metadata": {},
   "outputs": [],
   "source": [
    "lr_resampled = lr_grid.best_estimator_"
   ]
  },
  {
   "cell_type": "code",
   "execution_count": 32,
   "metadata": {
    "scrolled": true
   },
   "outputs": [
    {
     "data": {
      "text/plain": [
       "0.8248509222021911"
      ]
     },
     "execution_count": 32,
     "metadata": {},
     "output_type": "execute_result"
    }
   ],
   "source": [
    "f1_score(y_resampled,lr_resampled.predict(X_resampled))"
   ]
  },
  {
   "cell_type": "code",
   "execution_count": 33,
   "metadata": {},
   "outputs": [
    {
     "data": {
      "text/plain": [
       "0.6187050359712231"
      ]
     },
     "execution_count": 33,
     "metadata": {},
     "output_type": "execute_result"
    }
   ],
   "source": [
    "f1_score(test_y,lr_resampled.predict(test_x))"
   ]
  },
  {
   "cell_type": "code",
   "execution_count": 34,
   "metadata": {},
   "outputs": [
    {
     "data": {
      "text/plain": [
       "LogisticRegression(max_iter=10, random_state=1, solver='newton-cg')"
      ]
     },
     "execution_count": 34,
     "metadata": {},
     "output_type": "execute_result"
    }
   ],
   "source": [
    "lr_resampled"
   ]
  },
  {
   "cell_type": "markdown",
   "metadata": {},
   "source": [
    "Accuracy Score"
   ]
  },
  {
   "cell_type": "code",
   "execution_count": 35,
   "metadata": {},
   "outputs": [
    {
     "data": {
      "text/plain": [
       "0.8387385086823289"
      ]
     },
     "execution_count": 35,
     "metadata": {},
     "output_type": "execute_result"
    }
   ],
   "source": [
    "lr_resampled = lr_grid.best_estimator_\n",
    "lr_resampled.score(X_resampled,y_resampled)"
   ]
  },
  {
   "cell_type": "code",
   "execution_count": 36,
   "metadata": {},
   "outputs": [
    {
     "data": {
      "text/plain": [
       "0.9020332717190388"
      ]
     },
     "execution_count": 36,
     "metadata": {},
     "output_type": "execute_result"
    }
   ],
   "source": [
    "lr_resampled.score(test_x,test_y)"
   ]
  },
  {
   "cell_type": "markdown",
   "metadata": {},
   "source": [
    "Recall Score"
   ]
  },
  {
   "cell_type": "code",
   "execution_count": 37,
   "metadata": {
    "scrolled": true
   },
   "outputs": [
    {
     "data": {
      "text/plain": [
       "0.7594484167517875"
      ]
     },
     "execution_count": 37,
     "metadata": {},
     "output_type": "execute_result"
    }
   ],
   "source": [
    "recall_score(y_resampled,lr_resampled.predict(X_resampled))"
   ]
  },
  {
   "cell_type": "code",
   "execution_count": 38,
   "metadata": {},
   "outputs": [
    {
     "data": {
      "text/plain": [
       "0.7962962962962963"
      ]
     },
     "execution_count": 38,
     "metadata": {},
     "output_type": "execute_result"
    }
   ],
   "source": [
    "recall_score(test_y,lr_resampled.predict(test_x))"
   ]
  },
  {
   "cell_type": "markdown",
   "metadata": {},
   "source": [
    "Precision Score"
   ]
  },
  {
   "cell_type": "code",
   "execution_count": 39,
   "metadata": {
    "scrolled": true
   },
   "outputs": [
    {
     "data": {
      "text/plain": [
       "0.9025796661608497"
      ]
     },
     "execution_count": 39,
     "metadata": {},
     "output_type": "execute_result"
    }
   ],
   "source": [
    "precision_score(y_resampled,lr_resampled.predict(X_resampled))"
   ]
  },
  {
   "cell_type": "code",
   "execution_count": 40,
   "metadata": {},
   "outputs": [
    {
     "data": {
      "text/plain": [
       "0.5058823529411764"
      ]
     },
     "execution_count": 40,
     "metadata": {},
     "output_type": "execute_result"
    }
   ],
   "source": [
    "precision_score(test_y,lr_resampled.predict(test_x))"
   ]
  },
  {
   "cell_type": "code",
   "execution_count": 41,
   "metadata": {},
   "outputs": [
    {
     "data": {
      "text/plain": [
       "0.0    456\n",
       "1.0     85\n",
       "dtype: int64"
      ]
     },
     "execution_count": 41,
     "metadata": {},
     "output_type": "execute_result"
    }
   ],
   "source": [
    "pd.Series(lr_resampled.predict(test_x)).value_counts()"
   ]
  },
  {
   "cell_type": "code",
   "execution_count": 42,
   "metadata": {
    "scrolled": true
   },
   "outputs": [
    {
     "data": {
      "text/plain": [
       "PotentialFraud\n",
       "0.0               487\n",
       "1.0                54\n",
       "dtype: int64"
      ]
     },
     "execution_count": 42,
     "metadata": {},
     "output_type": "execute_result"
    }
   ],
   "source": [
    "test_y.value_counts()"
   ]
  },
  {
   "cell_type": "markdown",
   "metadata": {},
   "source": [
    "AUC Score"
   ]
  },
  {
   "cell_type": "code",
   "execution_count": 43,
   "metadata": {},
   "outputs": [
    {
     "data": {
      "text/plain": [
       "0.8387385086823289"
      ]
     },
     "execution_count": 43,
     "metadata": {},
     "output_type": "execute_result"
    }
   ],
   "source": [
    "roc_auc_score(y_resampled,lr_resampled.predict(X_resampled))"
   ]
  },
  {
   "cell_type": "code",
   "execution_count": 44,
   "metadata": {},
   "outputs": [
    {
     "data": {
      "text/plain": [
       "0.8550269982508174"
      ]
     },
     "execution_count": 44,
     "metadata": {},
     "output_type": "execute_result"
    }
   ],
   "source": [
    "roc_auc_score(test_y,lr_resampled.predict(test_x))"
   ]
  },
  {
   "cell_type": "code",
   "execution_count": 45,
   "metadata": {},
   "outputs": [
    {
     "data": {
      "text/plain": [
       "<Figure size 1440x720 with 0 Axes>"
      ]
     },
     "metadata": {},
     "output_type": "display_data"
    },
    {
     "data": {
      "image/png": "[encoded data removed]",
      "text/plain": [
       "<Figure size 432x288 with 2 Axes>"
      ]
     },
     "metadata": {
      "needs_background": "light"
     },
     "output_type": "display_data"
    }
   ],
   "source": [
    "plt.figure(figsize=(20,10))\n",
    "cm = ConfusionMatrixDisplay(confusion_matrix(test_y,lr_resampled.predict(test_x),labels=lr_resampled.classes_),display_labels=lr_resampled.classes_)\n",
    "cm.plot()\n",
    "plt.show()"
   ]
  },
  {
   "cell_type": "markdown",
   "metadata": {},
   "source": [
    "# XGB"
   ]
  },
  {
   "cell_type": "code",
   "execution_count": 46,
   "metadata": {},
   "outputs": [],
   "source": [
    "from xgboost import XGBClassifier"
   ]
  },
  {
   "cell_type": "code",
   "execution_count": 48,
   "metadata": {},
   "outputs": [
    {
     "name": "stdout",
     "output_type": "stream",
     "text": [
      "Fitting 1 folds for each of 16 candidates, totalling 16 fits\n",
      "[19:30:58] WARNING: /Users/travis/build/dmlc/xgboost/src/learner.cc:1115: Starting in XGBoost 1.3.0, the default evaluation metric used with the objective 'binary:logistic' was changed from 'error' to 'logloss'. Explicitly set eval_metric if you'd like to restore the old behavior.\n",
      "[CV 1/1] END eta=0.1, max_depth=3, min_child_weight=0.2, n_estimators=100; accuracy: (test=0.885) f1: (test=0.500) precision: (test=0.369) recall: (test=0.775) total time=   0.8s\n",
      "[19:30:59] WARNING: /Users/travis/build/dmlc/xgboost/src/learner.cc:1115: Starting in XGBoost 1.3.0, the default evaluation metric used with the objective 'binary:logistic' was changed from 'error' to 'logloss'. Explicitly set eval_metric if you'd like to restore the old behavior.\n",
      "[CV 1/1] END eta=0.1, max_depth=3, min_child_weight=0.2, n_estimators=300; accuracy: (test=0.906) f1: (test=0.532) precision: (test=0.420) recall: (test=0.725) total time=   2.2s\n",
      "[19:31:01] WARNING: /Users/travis/build/dmlc/xgboost/src/learner.cc:1115: Starting in XGBoost 1.3.0, the default evaluation metric used with the objective 'binary:logistic' was changed from 'error' to 'logloss'. Explicitly set eval_metric if you'd like to restore the old behavior.\n",
      "[CV 1/1] END eta=0.1, max_depth=3, min_child_weight=0.5, n_estimators=100; accuracy: (test=0.885) f1: (test=0.500) precision: (test=0.369) recall: (test=0.775) total time=   0.7s\n",
      "[19:31:02] WARNING: /Users/travis/build/dmlc/xgboost/src/learner.cc:1115: Starting in XGBoost 1.3.0, the default evaluation metric used with the objective 'binary:logistic' was changed from 'error' to 'logloss'. Explicitly set eval_metric if you'd like to restore the old behavior.\n",
      "[CV 1/1] END eta=0.1, max_depth=3, min_child_weight=0.5, n_estimators=300; accuracy: (test=0.900) f1: (test=0.509) precision: (test=0.400) recall: (test=0.700) total time=   2.4s\n",
      "[19:31:04] WARNING: /Users/travis/build/dmlc/xgboost/src/learner.cc:1115: Starting in XGBoost 1.3.0, the default evaluation metric used with the objective 'binary:logistic' was changed from 'error' to 'logloss'. Explicitly set eval_metric if you'd like to restore the old behavior.\n",
      "[CV 1/1] END eta=0.1, max_depth=10, min_child_weight=0.2, n_estimators=100; accuracy: (test=0.909) f1: (test=0.505) precision: (test=0.424) recall: (test=0.625) total time=   3.3s\n",
      "[19:31:07] WARNING: /Users/travis/build/dmlc/xgboost/src/learner.cc:1115: Starting in XGBoost 1.3.0, the default evaluation metric used with the objective 'binary:logistic' was changed from 'error' to 'logloss'. Explicitly set eval_metric if you'd like to restore the old behavior.\n",
      "[CV 1/1] END eta=0.1, max_depth=10, min_child_weight=0.2, n_estimators=300; accuracy: (test=0.919) f1: (test=0.522) precision: (test=0.462) recall: (test=0.600) total time=   7.2s\n",
      "[19:31:15] WARNING: /Users/travis/build/dmlc/xgboost/src/learner.cc:1115: Starting in XGBoost 1.3.0, the default evaluation metric used with the objective 'binary:logistic' was changed from 'error' to 'logloss'. Explicitly set eval_metric if you'd like to restore the old behavior.\n",
      "[CV 1/1] END eta=0.1, max_depth=10, min_child_weight=0.5, n_estimators=100; accuracy: (test=0.909) f1: (test=0.484) precision: (test=0.418) recall: (test=0.575) total time=   2.7s\n",
      "[19:31:17] WARNING: /Users/travis/build/dmlc/xgboost/src/learner.cc:1115: Starting in XGBoost 1.3.0, the default evaluation metric used with the objective 'binary:logistic' was changed from 'error' to 'logloss'. Explicitly set eval_metric if you'd like to restore the old behavior.\n",
      "[CV 1/1] END eta=0.1, max_depth=10, min_child_weight=0.5, n_estimators=300; accuracy: (test=0.909) f1: (test=0.462) precision: (test=0.412) recall: (test=0.525) total time=   6.3s\n",
      "[19:31:24] WARNING: /Users/travis/build/dmlc/xgboost/src/learner.cc:1115: Starting in XGBoost 1.3.0, the default evaluation metric used with the objective 'binary:logistic' was changed from 'error' to 'logloss'. Explicitly set eval_metric if you'd like to restore the old behavior.\n",
      "[CV 1/1] END eta=0.2, max_depth=3, min_child_weight=0.2, n_estimators=100; accuracy: (test=0.895) f1: (test=0.529) precision: (test=0.395) recall: (test=0.800) total time=   0.8s\n",
      "[19:31:24] WARNING: /Users/travis/build/dmlc/xgboost/src/learner.cc:1115: Starting in XGBoost 1.3.0, the default evaluation metric used with the objective 'binary:logistic' was changed from 'error' to 'logloss'. Explicitly set eval_metric if you'd like to restore the old behavior.\n",
      "[CV 1/1] END eta=0.2, max_depth=3, min_child_weight=0.2, n_estimators=300; accuracy: (test=0.908) f1: (test=0.519) precision: (test=0.422) recall: (test=0.675) total time=   2.3s\n",
      "[19:31:27] WARNING: /Users/travis/build/dmlc/xgboost/src/learner.cc:1115: Starting in XGBoost 1.3.0, the default evaluation metric used with the objective 'binary:logistic' was changed from 'error' to 'logloss'. Explicitly set eval_metric if you'd like to restore the old behavior.\n",
      "[CV 1/1] END eta=0.2, max_depth=3, min_child_weight=0.5, n_estimators=100; accuracy: (test=0.893) f1: (test=0.508) precision: (test=0.385) recall: (test=0.750) total time=   0.8s\n",
      "[19:31:28] WARNING: /Users/travis/build/dmlc/xgboost/src/learner.cc:1115: Starting in XGBoost 1.3.0, the default evaluation metric used with the objective 'binary:logistic' was changed from 'error' to 'logloss'. Explicitly set eval_metric if you'd like to restore the old behavior.\n",
      "[CV 1/1] END eta=0.2, max_depth=3, min_child_weight=0.5, n_estimators=300; accuracy: (test=0.891) f1: (test=0.449) precision: (test=0.358) recall: (test=0.600) total time=   2.3s\n",
      "[19:31:30] WARNING: /Users/travis/build/dmlc/xgboost/src/learner.cc:1115: Starting in XGBoost 1.3.0, the default evaluation metric used with the objective 'binary:logistic' was changed from 'error' to 'logloss'. Explicitly set eval_metric if you'd like to restore the old behavior.\n",
      "[CV 1/1] END eta=0.2, max_depth=10, min_child_weight=0.2, n_estimators=100; accuracy: (test=0.908) f1: (test=0.479) precision: (test=0.411) recall: (test=0.575) total time=   2.7s\n",
      "[19:31:33] WARNING: /Users/travis/build/dmlc/xgboost/src/learner.cc:1115: Starting in XGBoost 1.3.0, the default evaluation metric used with the objective 'binary:logistic' was changed from 'error' to 'logloss'. Explicitly set eval_metric if you'd like to restore the old behavior.\n",
      "[CV 1/1] END eta=0.2, max_depth=10, min_child_weight=0.2, n_estimators=300; accuracy: (test=0.906) f1: (test=0.452) precision: (test=0.396) recall: (test=0.525) total time=   5.8s\n",
      "[19:31:38] WARNING: /Users/travis/build/dmlc/xgboost/src/learner.cc:1115: Starting in XGBoost 1.3.0, the default evaluation metric used with the objective 'binary:logistic' was changed from 'error' to 'logloss'. Explicitly set eval_metric if you'd like to restore the old behavior.\n",
      "[CV 1/1] END eta=0.2, max_depth=10, min_child_weight=0.5, n_estimators=100; accuracy: (test=0.911) f1: (test=0.489) precision: (test=0.426) recall: (test=0.575) total time=   2.4s\n",
      "[19:31:41] WARNING: /Users/travis/build/dmlc/xgboost/src/learner.cc:1115: Starting in XGBoost 1.3.0, the default evaluation metric used with the objective 'binary:logistic' was changed from 'error' to 'logloss'. Explicitly set eval_metric if you'd like to restore the old behavior.\n",
      "[CV 1/1] END eta=0.2, max_depth=10, min_child_weight=0.5, n_estimators=300; accuracy: (test=0.911) f1: (test=0.489) precision: (test=0.426) recall: (test=0.575) total time=   5.0s\n",
      "[19:31:46] WARNING: /Users/travis/build/dmlc/xgboost/src/learner.cc:1115: Starting in XGBoost 1.3.0, the default evaluation metric used with the objective 'binary:logistic' was changed from 'error' to 'logloss'. Explicitly set eval_metric if you'd like to restore the old behavior.\n"
     ]
    },
    {
     "data": {
      "text/plain": [
       "GridSearchCV(cv=PredefinedSplit(test_fold=array([-1, -1, ...,  0,  0])),\n",
       "             estimator=XGBClassifier(base_score=None, booster=None,\n",
       "                                     colsample_bylevel=None,\n",
       "                                     colsample_bynode=None,\n",
       "                                     colsample_bytree=None,\n",
       "                                     enable_categorical=False, gamma=None,\n",
       "                                     gpu_id=None, importance_type=None,\n",
       "                                     interaction_constraints=None,\n",
       "                                     learning_rate=None, max_delta_step=None,\n",
       "                                     max_depth=None, min_child_we...\n",
       "                                     n_estimators=100, n_jobs=None,\n",
       "                                     num_parallel_tree=None, predictor=None,\n",
       "                                     random_state=1, reg_alpha=None,\n",
       "                                     reg_lambda=None, scale_pos_weight=None,\n",
       "                                     subsample=None, tree_method=None,\n",
       "                                     validate_parameters=None, verbosity=None),\n",
       "             param_grid={'eta': [0.1, 0.2], 'max_depth': [3, 10],\n",
       "                         'min_child_weight': [0.2, 0.5],\n",
       "                         'n_estimators': [100, 300]},\n",
       "             refit='f1', scoring=['accuracy', 'recall', 'precision', 'f1'],\n",
       "             verbose=5)"
      ]
     },
     "execution_count": 48,
     "metadata": {},
     "output_type": "execute_result"
    }
   ],
   "source": [
    "xgb = XGBClassifier(random_state=1)\n",
    "xgb_grid = GridSearchCV(xgb,param_grid = {'n_estimators':[100,300],\n",
    "                                       'max_depth':[3,10],'min_child_weight':[0.2,0.5],\n",
    "                                         'eta':[0.1,0.2]},\n",
    "                       scoring=['accuracy','recall','precision','f1'],\n",
    "                        verbose=5,cv=ps,refit='f1')\n",
    "xgb_grid.fit(array_x,array_y)"
   ]
  },
  {
   "cell_type": "markdown",
   "metadata": {},
   "source": [
    "F1 Score"
   ]
  },
  {
   "cell_type": "code",
   "execution_count": 49,
   "metadata": {},
   "outputs": [],
   "source": [
    "xgb_resampled = xgb_grid.best_estimator_"
   ]
  },
  {
   "cell_type": "code",
   "execution_count": 50,
   "metadata": {
    "scrolled": true
   },
   "outputs": [
    {
     "data": {
      "text/plain": [
       "0.9747983870967742"
      ]
     },
     "execution_count": 50,
     "metadata": {},
     "output_type": "execute_result"
    }
   ],
   "source": [
    "f1_score(y_resampled,xgb_resampled.predict(X_resampled))"
   ]
  },
  {
   "cell_type": "code",
   "execution_count": 51,
   "metadata": {},
   "outputs": [
    {
     "data": {
      "text/plain": [
       "0.6229508196721312"
      ]
     },
     "execution_count": 51,
     "metadata": {},
     "output_type": "execute_result"
    }
   ],
   "source": [
    "f1_score(test_y,xgb_resampled.predict(test_x))"
   ]
  },
  {
   "cell_type": "code",
   "execution_count": 52,
   "metadata": {},
   "outputs": [
    {
     "data": {
      "text/plain": [
       "XGBClassifier(base_score=0.5, booster='gbtree', colsample_bylevel=1,\n",
       "              colsample_bynode=1, colsample_bytree=1, enable_categorical=False,\n",
       "              eta=0.1, gamma=0, gpu_id=-1, importance_type=None,\n",
       "              interaction_constraints='', learning_rate=0.100000001,\n",
       "              max_delta_step=0, max_depth=3, min_child_weight=0.2, missing=nan,\n",
       "              monotone_constraints='()', n_estimators=300, n_jobs=8,\n",
       "              num_parallel_tree=1, predictor='auto', random_state=1,\n",
       "              reg_alpha=0, reg_lambda=1, scale_pos_weight=1, subsample=1,\n",
       "              tree_method='exact', validate_parameters=1, verbosity=None)"
      ]
     },
     "execution_count": 52,
     "metadata": {},
     "output_type": "execute_result"
    }
   ],
   "source": [
    "xgb_resampled"
   ]
  },
  {
   "cell_type": "markdown",
   "metadata": {},
   "source": [
    "Accuracy Score"
   ]
  },
  {
   "cell_type": "code",
   "execution_count": 53,
   "metadata": {},
   "outputs": [
    {
     "data": {
      "text/plain": [
       "0.9744637385086823"
      ]
     },
     "execution_count": 53,
     "metadata": {},
     "output_type": "execute_result"
    }
   ],
   "source": [
    "xgb_resampled = xgb_grid.best_estimator_\n",
    "xgb_resampled.score(X_resampled,y_resampled)"
   ]
  },
  {
   "cell_type": "code",
   "execution_count": 54,
   "metadata": {},
   "outputs": [
    {
     "data": {
      "text/plain": [
       "0.9149722735674677"
      ]
     },
     "execution_count": 54,
     "metadata": {},
     "output_type": "execute_result"
    }
   ],
   "source": [
    "xgb_resampled.score(test_x,test_y)"
   ]
  },
  {
   "cell_type": "markdown",
   "metadata": {},
   "source": [
    "Recall Score"
   ]
  },
  {
   "cell_type": "code",
   "execution_count": 55,
   "metadata": {
    "scrolled": true
   },
   "outputs": [
    {
     "data": {
      "text/plain": [
       "0.9877425944841676"
      ]
     },
     "execution_count": 55,
     "metadata": {},
     "output_type": "execute_result"
    }
   ],
   "source": [
    "recall_score(y_resampled,xgb_resampled.predict(X_resampled))"
   ]
  },
  {
   "cell_type": "code",
   "execution_count": 56,
   "metadata": {},
   "outputs": [
    {
     "data": {
      "text/plain": [
       "0.7037037037037037"
      ]
     },
     "execution_count": 56,
     "metadata": {},
     "output_type": "execute_result"
    }
   ],
   "source": [
    "recall_score(test_y,xgb_resampled.predict(test_x))"
   ]
  },
  {
   "cell_type": "markdown",
   "metadata": {},
   "source": [
    "Precision Score"
   ]
  },
  {
   "cell_type": "code",
   "execution_count": 57,
   "metadata": {
    "scrolled": true
   },
   "outputs": [
    {
     "data": {
      "text/plain": [
       "0.9621890547263682"
      ]
     },
     "execution_count": 57,
     "metadata": {},
     "output_type": "execute_result"
    }
   ],
   "source": [
    "precision_score(y_resampled,xgb_resampled.predict(X_resampled))"
   ]
  },
  {
   "cell_type": "code",
   "execution_count": 58,
   "metadata": {},
   "outputs": [
    {
     "data": {
      "text/plain": [
       "0.5588235294117647"
      ]
     },
     "execution_count": 58,
     "metadata": {},
     "output_type": "execute_result"
    }
   ],
   "source": [
    "precision_score(test_y,xgb_resampled.predict(test_x))"
   ]
  },
  {
   "cell_type": "code",
   "execution_count": 59,
   "metadata": {},
   "outputs": [
    {
     "data": {
      "text/plain": [
       "0.0    473\n",
       "1.0     68\n",
       "dtype: int64"
      ]
     },
     "execution_count": 59,
     "metadata": {},
     "output_type": "execute_result"
    }
   ],
   "source": [
    "pd.Series(xgb_resampled.predict(test_x)).value_counts()"
   ]
  },
  {
   "cell_type": "code",
   "execution_count": 60,
   "metadata": {
    "scrolled": true
   },
   "outputs": [
    {
     "data": {
      "text/plain": [
       "PotentialFraud\n",
       "0.0               487\n",
       "1.0                54\n",
       "dtype: int64"
      ]
     },
     "execution_count": 60,
     "metadata": {},
     "output_type": "execute_result"
    }
   ],
   "source": [
    "test_y.value_counts()"
   ]
  },
  {
   "cell_type": "markdown",
   "metadata": {},
   "source": [
    "AUC Score"
   ]
  },
  {
   "cell_type": "code",
   "execution_count": 61,
   "metadata": {},
   "outputs": [],
   "source": [
    "from sklearn.metrics import roc_auc_score"
   ]
  },
  {
   "cell_type": "code",
   "execution_count": 62,
   "metadata": {},
   "outputs": [
    {
     "data": {
      "text/plain": [
       "0.9744637385086824"
      ]
     },
     "execution_count": 62,
     "metadata": {},
     "output_type": "execute_result"
    }
   ],
   "source": [
    "roc_auc_score(y_resampled,xgb_resampled.predict(X_resampled))"
   ]
  },
  {
   "cell_type": "code",
   "execution_count": 63,
   "metadata": {},
   "outputs": [
    {
     "data": {
      "text/plain": [
       "0.8210510304966157"
      ]
     },
     "execution_count": 63,
     "metadata": {},
     "output_type": "execute_result"
    }
   ],
   "source": [
    "roc_auc_score(test_y,xgb_resampled.predict(test_x))"
   ]
  },
  {
   "cell_type": "code",
   "execution_count": 64,
   "metadata": {},
   "outputs": [
    {
     "data": {
      "text/plain": [
       "<Figure size 1440x720 with 0 Axes>"
      ]
     },
     "metadata": {},
     "output_type": "display_data"
    },
    {
     "data": {
      "image/png": "[encoded data removed]",
      "text/plain": [
       "<Figure size 432x288 with 2 Axes>"
      ]
     },
     "metadata": {
      "needs_background": "light"
     },
     "output_type": "display_data"
    }
   ],
   "source": [
    "plt.figure(figsize=(20,10))\n",
    "cm = ConfusionMatrixDisplay(confusion_matrix(test_y,xgb_resampled.predict(test_x),labels=xgb_resampled.classes_),display_labels=xgb_resampled.classes_)\n",
    "cm.plot()\n",
    "plt.show()"
   ]
  },
  {
   "cell_type": "markdown",
   "metadata": {},
   "source": [
    "# Random Forest"
   ]
  },
  {
   "cell_type": "markdown",
   "metadata": {},
   "source": [
    "## Without Adding Graph Features"
   ]
  },
  {
   "cell_type": "code",
   "execution_count": 65,
   "metadata": {},
   "outputs": [],
   "source": [
    "from sklearn.ensemble import RandomForestClassifier"
   ]
  },
  {
   "cell_type": "code",
   "execution_count": 66,
   "metadata": {},
   "outputs": [
    {
     "name": "stdout",
     "output_type": "stream",
     "text": [
      "Fitting 1 folds for each of 24 candidates, totalling 24 fits\n",
      "[CV 1/1] END max_depth=3, max_features=sqrt, min_samples_leaf=10, n_estimators=50; accuracy: (test=0.834) f1: (test=0.423) precision: (test=0.284) recall: (test=0.825) total time=   0.4s\n",
      "[CV 1/1] END max_depth=3, max_features=sqrt, min_samples_leaf=10, n_estimators=100; accuracy: (test=0.837) f1: (test=0.429) precision: (test=0.289) recall: (test=0.825) total time=   0.9s\n",
      "[CV 1/1] END max_depth=3, max_features=sqrt, min_samples_leaf=20, n_estimators=50; accuracy: (test=0.834) f1: (test=0.423) precision: (test=0.284) recall: (test=0.825) total time=   0.4s\n",
      "[CV 1/1] END max_depth=3, max_features=sqrt, min_samples_leaf=20, n_estimators=100; accuracy: (test=0.837) f1: (test=0.429) precision: (test=0.289) recall: (test=0.825) total time=   0.8s\n",
      "[CV 1/1] END max_depth=3, max_features=20, min_samples_leaf=10, n_estimators=50; accuracy: (test=0.834) f1: (test=0.423) precision: (test=0.284) recall: (test=0.825) total time=   1.1s\n",
      "[CV 1/1] END max_depth=3, max_features=20, min_samples_leaf=10, n_estimators=100; accuracy: (test=0.841) f1: (test=0.427) precision: (test=0.291) recall: (test=0.800) total time=   2.3s\n",
      "[CV 1/1] END max_depth=3, max_features=20, min_samples_leaf=20, n_estimators=50; accuracy: (test=0.834) f1: (test=0.423) precision: (test=0.284) recall: (test=0.825) total time=   1.2s\n",
      "[CV 1/1] END max_depth=3, max_features=20, min_samples_leaf=20, n_estimators=100; accuracy: (test=0.841) f1: (test=0.427) precision: (test=0.291) recall: (test=0.800) total time=   2.3s\n",
      "[CV 1/1] END max_depth=10, max_features=sqrt, min_samples_leaf=10, n_estimators=50; accuracy: (test=0.882) f1: (test=0.492) precision: (test=0.360) recall: (test=0.775) total time=   0.9s\n",
      "[CV 1/1] END max_depth=10, max_features=sqrt, min_samples_leaf=10, n_estimators=100; accuracy: (test=0.887) f1: (test=0.512) precision: (test=0.376) recall: (test=0.800) total time=   1.9s\n",
      "[CV 1/1] END max_depth=10, max_features=sqrt, min_samples_leaf=20, n_estimators=50; accuracy: (test=0.880) f1: (test=0.496) precision: (test=0.360) recall: (test=0.800) total time=   0.9s\n",
      "[CV 1/1] END max_depth=10, max_features=sqrt, min_samples_leaf=20, n_estimators=100; accuracy: (test=0.880) f1: (test=0.496) precision: (test=0.360) recall: (test=0.800) total time=   1.8s\n",
      "[CV 1/1] END max_depth=10, max_features=20, min_samples_leaf=10, n_estimators=50; accuracy: (test=0.889) f1: (test=0.492) precision: (test=0.372) recall: (test=0.725) total time=   2.9s\n",
      "[CV 1/1] END max_depth=10, max_features=20, min_samples_leaf=10, n_estimators=100; accuracy: (test=0.891) f1: (test=0.496) precision: (test=0.377) recall: (test=0.725) total time=   5.8s\n",
      "[CV 1/1] END max_depth=10, max_features=20, min_samples_leaf=20, n_estimators=50; accuracy: (test=0.885) f1: (test=0.500) precision: (test=0.369) recall: (test=0.775) total time=   2.7s\n",
      "[CV 1/1] END max_depth=10, max_features=20, min_samples_leaf=20, n_estimators=100; accuracy: (test=0.887) f1: (test=0.504) precision: (test=0.373) recall: (test=0.775) total time=   5.5s\n",
      "[CV 1/1] END max_depth=20, max_features=sqrt, min_samples_leaf=10, n_estimators=50; accuracy: (test=0.891) f1: (test=0.504) precision: (test=0.380) recall: (test=0.750) total time=   1.1s\n",
      "[CV 1/1] END max_depth=20, max_features=sqrt, min_samples_leaf=10, n_estimators=100; accuracy: (test=0.895) f1: (test=0.521) precision: (test=0.392) recall: (test=0.775) total time=   2.2s\n",
      "[CV 1/1] END max_depth=20, max_features=sqrt, min_samples_leaf=20, n_estimators=50; accuracy: (test=0.884) f1: (test=0.512) precision: (test=0.371) recall: (test=0.825) total time=   1.0s\n",
      "[CV 1/1] END max_depth=20, max_features=sqrt, min_samples_leaf=20, n_estimators=100; accuracy: (test=0.887) f1: (test=0.512) precision: (test=0.376) recall: (test=0.800) total time=   1.9s\n",
      "[CV 1/1] END max_depth=20, max_features=20, min_samples_leaf=10, n_estimators=50; accuracy: (test=0.893) f1: (test=0.491) precision: (test=0.378) recall: (test=0.700) total time=   3.2s\n",
      "[CV 1/1] END max_depth=20, max_features=20, min_samples_leaf=10, n_estimators=100; accuracy: (test=0.896) f1: (test=0.509) precision: (test=0.392) recall: (test=0.725) total time=   7.3s\n",
      "[CV 1/1] END max_depth=20, max_features=20, min_samples_leaf=20, n_estimators=50; accuracy: (test=0.887) f1: (test=0.504) precision: (test=0.373) recall: (test=0.775) total time=   3.1s\n",
      "[CV 1/1] END max_depth=20, max_features=20, min_samples_leaf=20, n_estimators=100; accuracy: (test=0.887) f1: (test=0.496) precision: (test=0.370) recall: (test=0.750) total time=   6.6s\n"
     ]
    },
    {
     "data": {
      "text/plain": [
       "GridSearchCV(cv=PredefinedSplit(test_fold=array([-1, -1, ...,  0,  0])),\n",
       "             estimator=RandomForestClassifier(random_state=1),\n",
       "             param_grid={'max_depth': [3, 10, 20], 'max_features': ['sqrt', 20],\n",
       "                         'min_samples_leaf': [10, 20],\n",
       "                         'n_estimators': [50, 100]},\n",
       "             refit='f1', scoring=['accuracy', 'recall', 'precision', 'f1'],\n",
       "             verbose=5)"
      ]
     },
     "execution_count": 66,
     "metadata": {},
     "output_type": "execute_result"
    }
   ],
   "source": [
    "rf = RandomForestClassifier(random_state=1)\n",
    "rf_grid = GridSearchCV(rf,param_grid = {'n_estimators':[50,100],\n",
    "                                       'max_depth':[3,10,20],'min_samples_leaf':[10,20],\n",
    "                                          'max_features':['sqrt', 20]},\n",
    "                       scoring=['accuracy','recall','precision','f1'],\n",
    "                        verbose=5,cv=ps,refit='f1')\n",
    "rf_grid.fit(array_x,array_y)"
   ]
  },
  {
   "cell_type": "markdown",
   "metadata": {},
   "source": [
    "F1 Score"
   ]
  },
  {
   "cell_type": "code",
   "execution_count": 67,
   "metadata": {},
   "outputs": [],
   "source": [
    "rf_resampled = rf_grid.best_estimator_"
   ]
  },
  {
   "cell_type": "code",
   "execution_count": 68,
   "metadata": {
    "scrolled": true
   },
   "outputs": [
    {
     "data": {
      "text/plain": [
       "0.9659606656580938"
      ]
     },
     "execution_count": 68,
     "metadata": {},
     "output_type": "execute_result"
    }
   ],
   "source": [
    "f1_score(y_resampled,rf_resampled.predict(X_resampled))"
   ]
  },
  {
   "cell_type": "code",
   "execution_count": 69,
   "metadata": {},
   "outputs": [
    {
     "data": {
      "text/plain": [
       "0.6060606060606061"
      ]
     },
     "execution_count": 69,
     "metadata": {},
     "output_type": "execute_result"
    }
   ],
   "source": [
    "f1_score(test_y,rf_resampled.predict(test_x))"
   ]
  },
  {
   "cell_type": "code",
   "execution_count": 70,
   "metadata": {},
   "outputs": [
    {
     "data": {
      "text/plain": [
       "RandomForestClassifier(max_depth=20, max_features='sqrt', min_samples_leaf=10,\n",
       "                       random_state=1)"
      ]
     },
     "execution_count": 70,
     "metadata": {},
     "output_type": "execute_result"
    }
   ],
   "source": [
    "rf_resampled"
   ]
  },
  {
   "cell_type": "markdown",
   "metadata": {},
   "source": [
    "Accuracy Score"
   ]
  },
  {
   "cell_type": "code",
   "execution_count": 71,
   "metadata": {},
   "outputs": [
    {
     "data": {
      "text/plain": [
       "0.9655260469867212"
      ]
     },
     "execution_count": 71,
     "metadata": {},
     "output_type": "execute_result"
    }
   ],
   "source": [
    "rf_resampled = rf_grid.best_estimator_\n",
    "rf_resampled.score(X_resampled,y_resampled)"
   ]
  },
  {
   "cell_type": "code",
   "execution_count": 72,
   "metadata": {},
   "outputs": [
    {
     "data": {
      "text/plain": [
       "0.9038817005545287"
      ]
     },
     "execution_count": 72,
     "metadata": {},
     "output_type": "execute_result"
    }
   ],
   "source": [
    "rf_resampled.score(test_x,test_y)"
   ]
  },
  {
   "cell_type": "markdown",
   "metadata": {},
   "source": [
    "Recall Score"
   ]
  },
  {
   "cell_type": "code",
   "execution_count": 73,
   "metadata": {
    "scrolled": true
   },
   "outputs": [
    {
     "data": {
      "text/plain": [
       "0.97829417773238"
      ]
     },
     "execution_count": 73,
     "metadata": {},
     "output_type": "execute_result"
    }
   ],
   "source": [
    "recall_score(y_resampled,rf_resampled.predict(X_resampled))"
   ]
  },
  {
   "cell_type": "code",
   "execution_count": 74,
   "metadata": {},
   "outputs": [
    {
     "data": {
      "text/plain": [
       "0.7407407407407407"
      ]
     },
     "execution_count": 74,
     "metadata": {},
     "output_type": "execute_result"
    }
   ],
   "source": [
    "recall_score(test_y,rf_resampled.predict(test_x))"
   ]
  },
  {
   "cell_type": "markdown",
   "metadata": {},
   "source": [
    "Precision Score"
   ]
  },
  {
   "cell_type": "code",
   "execution_count": 75,
   "metadata": {
    "scrolled": true
   },
   "outputs": [
    {
     "data": {
      "text/plain": [
       "0.9539342629482072"
      ]
     },
     "execution_count": 75,
     "metadata": {},
     "output_type": "execute_result"
    }
   ],
   "source": [
    "precision_score(y_resampled,rf_resampled.predict(X_resampled))"
   ]
  },
  {
   "cell_type": "code",
   "execution_count": 76,
   "metadata": {},
   "outputs": [
    {
     "data": {
      "text/plain": [
       "0.5128205128205128"
      ]
     },
     "execution_count": 76,
     "metadata": {},
     "output_type": "execute_result"
    }
   ],
   "source": [
    "precision_score(test_y,rf_resampled.predict(test_x))"
   ]
  },
  {
   "cell_type": "code",
   "execution_count": 77,
   "metadata": {},
   "outputs": [
    {
     "data": {
      "text/plain": [
       "0.0    463\n",
       "1.0     78\n",
       "dtype: int64"
      ]
     },
     "execution_count": 77,
     "metadata": {},
     "output_type": "execute_result"
    }
   ],
   "source": [
    "pd.Series(rf_resampled.predict(test_x)).value_counts()"
   ]
  },
  {
   "cell_type": "code",
   "execution_count": 78,
   "metadata": {
    "scrolled": true
   },
   "outputs": [
    {
     "data": {
      "text/plain": [
       "PotentialFraud\n",
       "0.0               487\n",
       "1.0                54\n",
       "dtype: int64"
      ]
     },
     "execution_count": 78,
     "metadata": {},
     "output_type": "execute_result"
    }
   ],
   "source": [
    "test_y.value_counts()"
   ]
  },
  {
   "cell_type": "markdown",
   "metadata": {},
   "source": [
    "AUC Score"
   ]
  },
  {
   "cell_type": "code",
   "execution_count": 79,
   "metadata": {},
   "outputs": [],
   "source": [
    "from sklearn.metrics import roc_auc_score"
   ]
  },
  {
   "cell_type": "code",
   "execution_count": 80,
   "metadata": {},
   "outputs": [
    {
     "data": {
      "text/plain": [
       "0.9655260469867212"
      ]
     },
     "execution_count": 80,
     "metadata": {},
     "output_type": "execute_result"
    }
   ],
   "source": [
    "roc_auc_score(y_resampled,rf_resampled.predict(X_resampled))"
   ]
  },
  {
   "cell_type": "code",
   "execution_count": 81,
   "metadata": {},
   "outputs": [
    {
     "data": {
      "text/plain": [
       "0.8313559966537378"
      ]
     },
     "execution_count": 81,
     "metadata": {},
     "output_type": "execute_result"
    }
   ],
   "source": [
    "roc_auc_score(test_y,rf_resampled.predict(test_x))"
   ]
  },
  {
   "cell_type": "code",
   "execution_count": 82,
   "metadata": {},
   "outputs": [
    {
     "data": {
      "text/plain": [
       "<Figure size 1440x720 with 0 Axes>"
      ]
     },
     "metadata": {},
     "output_type": "display_data"
    },
    {
     "data": {
      "image/png": "[encoded data removed]",
      "text/plain": [
       "<Figure size 432x288 with 2 Axes>"
      ]
     },
     "metadata": {
      "needs_background": "light"
     },
     "output_type": "display_data"
    }
   ],
   "source": [
    "plt.figure(figsize=(20,10))\n",
    "cm = ConfusionMatrixDisplay(confusion_matrix(test_y,rf_resampled.predict(test_x),labels=rf_resampled.classes_),display_labels=rf_resampled.classes_)\n",
    "cm.plot()\n",
    "plt.show()"
   ]
  },
  {
   "cell_type": "markdown",
   "metadata": {},
   "source": [
    "feature importance on data with graph features"
   ]
  },
  {
   "cell_type": "code",
   "execution_count": 83,
   "metadata": {},
   "outputs": [
    {
     "data": {
      "image/png": "[encoded data removed]",
      "text/plain": [
       "<Figure size 576x504 with 1 Axes>"
      ]
     },
     "metadata": {
      "needs_background": "light"
     },
     "output_type": "display_data"
    }
   ],
   "source": [
    "features = train_x.columns\n",
    "importances = rf_resampled.feature_importances_\n",
    "indices = (np.argsort(importances))[-30:]\n",
    "plt.figure(figsize=(8,7))\n",
    "plt.title('Feature Importances')\n",
    "plt.barh(range(len(indices)), importances[indices], color='b', align='center')\n",
    "plt.yticks(range(len(indices)), [features[i] for i in indices])\n",
    "plt.xlabel('Relative Importance')\n",
    "plt.show()"
   ]
  },
  {
   "cell_type": "markdown",
   "metadata": {},
   "source": [
    "## With Graph Features"
   ]
  },
  {
   "cell_type": "code",
   "execution_count": 85,
   "metadata": {},
   "outputs": [],
   "source": [
    "graph_train = pd.read_csv('Final_Dataset/x_train_graph_features.csv')\n",
    "graph_valid = pd.read_csv('Final_Dataset/x_valid_graph_features.csv')\n",
    "graph_test = pd.read_csv('Final_Dataset/x_test_graph_features.csv')"
   ]
  },
  {
   "cell_type": "code",
   "execution_count": 86,
   "metadata": {},
   "outputs": [],
   "source": [
    "train_x = pd.concat([train_x,graph_train],axis=1)\n",
    "valid_x = pd.concat([valid_x,graph_valid],axis=1)\n",
    "test_x = pd.concat([test_x,graph_test],axis=1)"
   ]
  },
  {
   "cell_type": "code",
   "execution_count": 87,
   "metadata": {},
   "outputs": [],
   "source": [
    "random_seed=1"
   ]
  },
  {
   "cell_type": "code",
   "execution_count": 88,
   "metadata": {},
   "outputs": [
    {
     "name": "stdout",
     "output_type": "stream",
     "text": [
      "[('PotentialFraud', 1)]\n"
     ]
    }
   ],
   "source": [
    "from imblearn.over_sampling import SMOTE\n",
    "X_resampled, y_resampled = SMOTE().fit_resample(train_x, train_y)\n",
    "\n",
    "from collections import Counter\n",
    "print(sorted(Counter(y_resampled).items()))"
   ]
  },
  {
   "cell_type": "code",
   "execution_count": 89,
   "metadata": {},
   "outputs": [],
   "source": [
    "train_array_x = X_resampled.to_numpy()\n",
    "train_array_y = y_resampled.to_numpy()\n",
    "valid_array_x = valid_x.to_numpy()\n",
    "valid_array_y = valid_y.to_numpy()\n",
    "array_x = np.concatenate([train_array_x,valid_array_x],axis=0)\n",
    "array_y = np.concatenate([train_array_y,valid_array_y],axis=0)\n",
    "test_fold = np.concatenate([np.array(train_array_x.shape[0]*[-1,]),np.array(valid_array_x.shape[0]*[0,])],axis=0)"
   ]
  },
  {
   "cell_type": "code",
   "execution_count": 90,
   "metadata": {},
   "outputs": [],
   "source": [
    "from sklearn.model_selection import PredefinedSplit"
   ]
  },
  {
   "cell_type": "code",
   "execution_count": 91,
   "metadata": {},
   "outputs": [],
   "source": [
    "ps = PredefinedSplit(test_fold=test_fold)"
   ]
  },
  {
   "cell_type": "code",
   "execution_count": 93,
   "metadata": {},
   "outputs": [
    {
     "name": "stdout",
     "output_type": "stream",
     "text": [
      "Fitting 1 folds for each of 16 candidates, totalling 16 fits\n",
      "[CV 1/1] END max_depth=10, max_features=sqrt, min_samples_leaf=10, n_estimators=100; accuracy: (test=0.887) f1: (test=0.504) precision: (test=0.373) recall: (test=0.775) total time=   2.0s\n",
      "[CV 1/1] END max_depth=10, max_features=sqrt, min_samples_leaf=10, n_estimators=300; accuracy: (test=0.884) f1: (test=0.496) precision: (test=0.365) recall: (test=0.775) total time=   5.8s\n",
      "[CV 1/1] END max_depth=10, max_features=sqrt, min_samples_leaf=20, n_estimators=100; accuracy: (test=0.876) f1: (test=0.481) precision: (test=0.348) recall: (test=0.775) total time=   2.1s\n",
      "[CV 1/1] END max_depth=10, max_features=sqrt, min_samples_leaf=20, n_estimators=300; accuracy: (test=0.874) f1: (test=0.477) precision: (test=0.344) recall: (test=0.775) total time=   5.9s\n",
      "[CV 1/1] END max_depth=10, max_features=20, min_samples_leaf=10, n_estimators=100; accuracy: (test=0.896) f1: (test=0.517) precision: (test=0.395) recall: (test=0.750) total time=   5.7s\n",
      "[CV 1/1] END max_depth=10, max_features=20, min_samples_leaf=10, n_estimators=300; accuracy: (test=0.891) f1: (test=0.487) precision: (test=0.373) recall: (test=0.700) total time=  16.4s\n",
      "[CV 1/1] END max_depth=10, max_features=20, min_samples_leaf=20, n_estimators=100; accuracy: (test=0.887) f1: (test=0.504) precision: (test=0.373) recall: (test=0.775) total time=   5.1s\n",
      "[CV 1/1] END max_depth=10, max_features=20, min_samples_leaf=20, n_estimators=300; accuracy: (test=0.889) f1: (test=0.500) precision: (test=0.375) recall: (test=0.750) total time=  16.4s\n",
      "[CV 1/1] END max_depth=20, max_features=sqrt, min_samples_leaf=10, n_estimators=100; accuracy: (test=0.887) f1: (test=0.487) precision: (test=0.367) recall: (test=0.725) total time=   2.5s\n",
      "[CV 1/1] END max_depth=20, max_features=sqrt, min_samples_leaf=10, n_estimators=300; accuracy: (test=0.882) f1: (test=0.467) precision: (test=0.350) recall: (test=0.700) total time=   7.2s\n",
      "[CV 1/1] END max_depth=20, max_features=sqrt, min_samples_leaf=20, n_estimators=100; accuracy: (test=0.878) f1: (test=0.484) precision: (test=0.352) recall: (test=0.775) total time=   1.9s\n",
      "[CV 1/1] END max_depth=20, max_features=sqrt, min_samples_leaf=20, n_estimators=300; accuracy: (test=0.880) f1: (test=0.488) precision: (test=0.356) recall: (test=0.775) total time=   5.7s\n",
      "[CV 1/1] END max_depth=20, max_features=20, min_samples_leaf=10, n_estimators=100; accuracy: (test=0.898) f1: (test=0.495) precision: (test=0.391) recall: (test=0.675) total time=   6.4s\n",
      "[CV 1/1] END max_depth=20, max_features=20, min_samples_leaf=10, n_estimators=300; accuracy: (test=0.900) f1: (test=0.509) precision: (test=0.400) recall: (test=0.700) total time=  19.3s\n",
      "[CV 1/1] END max_depth=20, max_features=20, min_samples_leaf=20, n_estimators=100; accuracy: (test=0.895) f1: (test=0.529) precision: (test=0.395) recall: (test=0.800) total time=   5.6s\n",
      "[CV 1/1] END max_depth=20, max_features=20, min_samples_leaf=20, n_estimators=300; accuracy: (test=0.891) f1: (test=0.504) precision: (test=0.380) recall: (test=0.750) total time=  18.9s\n"
     ]
    },
    {
     "data": {
      "text/plain": [
       "GridSearchCV(cv=PredefinedSplit(test_fold=array([-1, -1, ...,  0,  0])),\n",
       "             estimator=RandomForestClassifier(random_state=1),\n",
       "             param_grid={'max_depth': [10, 20], 'max_features': ['sqrt', 20],\n",
       "                         'min_samples_leaf': [10, 20],\n",
       "                         'n_estimators': [100, 300]},\n",
       "             refit='f1', scoring=['accuracy', 'recall', 'precision', 'f1'],\n",
       "             verbose=5)"
      ]
     },
     "execution_count": 93,
     "metadata": {},
     "output_type": "execute_result"
    }
   ],
   "source": [
    "rf = RandomForestClassifier(random_state=1)\n",
    "rf_grid = GridSearchCV(rf,param_grid = {'n_estimators':[100,300],\n",
    "                                       'max_depth':[10,20],'min_samples_leaf':[10,20],\n",
    "                                          'max_features':['sqrt',20]},\n",
    "                       scoring=['accuracy','recall','precision','f1'],\n",
    "                        verbose=5,cv=ps,refit='f1')\n",
    "rf_grid.fit(array_x,array_y)"
   ]
  },
  {
   "cell_type": "markdown",
   "metadata": {},
   "source": [
    "F1 Score"
   ]
  },
  {
   "cell_type": "code",
   "execution_count": 94,
   "metadata": {},
   "outputs": [],
   "source": [
    "rf_resampled = rf_grid.best_estimator_"
   ]
  },
  {
   "cell_type": "code",
   "execution_count": 95,
   "metadata": {
    "scrolled": true
   },
   "outputs": [
    {
     "data": {
      "text/plain": [
       "0.9573400250941029"
      ]
     },
     "execution_count": 95,
     "metadata": {},
     "output_type": "execute_result"
    }
   ],
   "source": [
    "f1_score(y_resampled,rf_resampled.predict(X_resampled))"
   ]
  },
  {
   "cell_type": "code",
   "execution_count": 96,
   "metadata": {},
   "outputs": [
    {
     "data": {
      "text/plain": [
       "0.6466165413533835"
      ]
     },
     "execution_count": 96,
     "metadata": {},
     "output_type": "execute_result"
    }
   ],
   "source": [
    "f1_score(test_y,rf_resampled.predict(test_x))"
   ]
  },
  {
   "cell_type": "code",
   "execution_count": 97,
   "metadata": {},
   "outputs": [
    {
     "data": {
      "text/plain": [
       "RandomForestClassifier(max_depth=20, max_features=20, min_samples_leaf=20,\n",
       "                       random_state=1)"
      ]
     },
     "execution_count": 97,
     "metadata": {},
     "output_type": "execute_result"
    }
   ],
   "source": [
    "rf_resampled"
   ]
  },
  {
   "cell_type": "markdown",
   "metadata": {},
   "source": [
    "Accuracy Score"
   ]
  },
  {
   "cell_type": "code",
   "execution_count": 98,
   "metadata": {},
   "outputs": [
    {
     "data": {
      "text/plain": [
       "0.95658835546476"
      ]
     },
     "execution_count": 98,
     "metadata": {},
     "output_type": "execute_result"
    }
   ],
   "source": [
    "rf_resampled = rf_grid.best_estimator_\n",
    "rf_resampled.score(X_resampled,y_resampled)"
   ]
  },
  {
   "cell_type": "code",
   "execution_count": 99,
   "metadata": {},
   "outputs": [
    {
     "data": {
      "text/plain": [
       "0.9131238447319778"
      ]
     },
     "execution_count": 99,
     "metadata": {},
     "output_type": "execute_result"
    }
   ],
   "source": [
    "rf_resampled.score(test_x,test_y)"
   ]
  },
  {
   "cell_type": "markdown",
   "metadata": {},
   "source": [
    "Recall Score"
   ]
  },
  {
   "cell_type": "code",
   "execution_count": 100,
   "metadata": {
    "scrolled": true
   },
   "outputs": [
    {
     "data": {
      "text/plain": [
       "0.9742083758937692"
      ]
     },
     "execution_count": 100,
     "metadata": {},
     "output_type": "execute_result"
    }
   ],
   "source": [
    "recall_score(y_resampled,rf_resampled.predict(X_resampled))"
   ]
  },
  {
   "cell_type": "code",
   "execution_count": 101,
   "metadata": {},
   "outputs": [
    {
     "data": {
      "text/plain": [
       "0.7962962962962963"
      ]
     },
     "execution_count": 101,
     "metadata": {},
     "output_type": "execute_result"
    }
   ],
   "source": [
    "recall_score(test_y,rf_resampled.predict(test_x))"
   ]
  },
  {
   "cell_type": "markdown",
   "metadata": {},
   "source": [
    "Precision Score"
   ]
  },
  {
   "cell_type": "code",
   "execution_count": 102,
   "metadata": {
    "scrolled": true
   },
   "outputs": [
    {
     "data": {
      "text/plain": [
       "0.9410458806117414"
      ]
     },
     "execution_count": 102,
     "metadata": {},
     "output_type": "execute_result"
    }
   ],
   "source": [
    "precision_score(y_resampled,rf_resampled.predict(X_resampled))"
   ]
  },
  {
   "cell_type": "code",
   "execution_count": 103,
   "metadata": {},
   "outputs": [
    {
     "data": {
      "text/plain": [
       "0.5443037974683544"
      ]
     },
     "execution_count": 103,
     "metadata": {},
     "output_type": "execute_result"
    }
   ],
   "source": [
    "precision_score(test_y,rf_resampled.predict(test_x))"
   ]
  },
  {
   "cell_type": "code",
   "execution_count": 104,
   "metadata": {},
   "outputs": [
    {
     "data": {
      "text/plain": [
       "0.0    462\n",
       "1.0     79\n",
       "dtype: int64"
      ]
     },
     "execution_count": 104,
     "metadata": {},
     "output_type": "execute_result"
    }
   ],
   "source": [
    "pd.Series(rf_resampled.predict(test_x)).value_counts()"
   ]
  },
  {
   "cell_type": "code",
   "execution_count": 105,
   "metadata": {
    "scrolled": true
   },
   "outputs": [
    {
     "data": {
      "text/plain": [
       "PotentialFraud\n",
       "0.0               487\n",
       "1.0                54\n",
       "dtype: int64"
      ]
     },
     "execution_count": 105,
     "metadata": {},
     "output_type": "execute_result"
    }
   ],
   "source": [
    "test_y.value_counts()"
   ]
  },
  {
   "cell_type": "markdown",
   "metadata": {},
   "source": [
    "AUC Score"
   ]
  },
  {
   "cell_type": "code",
   "execution_count": 106,
   "metadata": {},
   "outputs": [],
   "source": [
    "from sklearn.metrics import roc_auc_score"
   ]
  },
  {
   "cell_type": "code",
   "execution_count": 107,
   "metadata": {},
   "outputs": [
    {
     "data": {
      "text/plain": [
       "0.95658835546476"
      ]
     },
     "execution_count": 107,
     "metadata": {},
     "output_type": "execute_result"
    }
   ],
   "source": [
    "roc_auc_score(y_resampled,rf_resampled.predict(X_resampled))"
   ]
  },
  {
   "cell_type": "code",
   "execution_count": 108,
   "metadata": {},
   "outputs": [
    {
     "data": {
      "text/plain": [
       "0.8611871625218648"
      ]
     },
     "execution_count": 108,
     "metadata": {},
     "output_type": "execute_result"
    }
   ],
   "source": [
    "roc_auc_score(test_y,rf_resampled.predict(test_x))"
   ]
  },
  {
   "cell_type": "code",
   "execution_count": 109,
   "metadata": {},
   "outputs": [
    {
     "data": {
      "text/plain": [
       "<Figure size 1440x720 with 0 Axes>"
      ]
     },
     "metadata": {},
     "output_type": "display_data"
    },
    {
     "data": {
      "image/png": "[encoded data removed]",
      "text/plain": [
       "<Figure size 432x288 with 2 Axes>"
      ]
     },
     "metadata": {
      "needs_background": "light"
     },
     "output_type": "display_data"
    }
   ],
   "source": [
    "plt.figure(figsize=(20,10))\n",
    "cm = ConfusionMatrixDisplay(confusion_matrix(test_y,rf_resampled.predict(test_x),labels=rf_resampled.classes_),display_labels=rf_resampled.classes_)\n",
    "cm.plot()\n",
    "plt.show()"
   ]
  },
  {
   "cell_type": "code",
   "execution_count": null,
   "metadata": {},
   "outputs": [],
   "source": []
  }
 ],
 "metadata": {
  "kernelspec": {
   "display_name": "Python 3",
   "language": "python",
   "name": "python3"
  },
  "language_info": {
   "codemirror_mode": {
    "name": "ipython",
    "version": 3
   },
   "file_extension": ".py",
   "mimetype": "text/x-python",
   "name": "python",
   "nbconvert_exporter": "python",
   "pygments_lexer": "ipython3",
   "version": "3.6.8"
  },
  "toc": {
   "base_numbering": 1,
   "nav_menu": {},
   "number_sections": true,
   "sideBar": true,
   "skip_h1_title": false,
   "title_cell": "Table of Contents",
   "title_sidebar": "Contents",
   "toc_cell": false,
   "toc_position": {},
   "toc_section_display": true,
   "toc_window_display": false
  }
 },
 "nbformat": 4,
 "nbformat_minor": 4
}
